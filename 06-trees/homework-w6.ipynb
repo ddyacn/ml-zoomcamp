{
 "cells": [
  {
   "cell_type": "markdown",
   "id": "c424abac-64a8-4376-8df9-24b3356998d4",
   "metadata": {},
   "source": [
    "https://github.com/DataTalksClub/machine-learning-zoomcamp/blob/master/cohorts/2023/06-trees/homework.md"
   ]
  },
  {
   "cell_type": "code",
   "execution_count": 66,
   "id": "1aeb1b20-502e-4363-8521-f03086caf52b",
   "metadata": {},
   "outputs": [],
   "source": [
    "from tqdm.auto import tqdm"
   ]
  },
  {
   "cell_type": "code",
   "execution_count": 1,
   "id": "be21f339-8e70-4665-894e-9027890be528",
   "metadata": {},
   "outputs": [],
   "source": [
    "import pandas as pd\n",
    "import numpy as np\n",
    "\n",
    "import matplotlib.pyplot as plt\n",
    "import seaborn as sns"
   ]
  },
  {
   "cell_type": "code",
   "execution_count": 46,
   "id": "9739bb69-43e2-4a11-a91b-772929e47765",
   "metadata": {},
   "outputs": [],
   "source": [
    "from sklearn.model_selection import train_test_split\n",
    "from sklearn.feature_extraction import DictVectorizer\n",
    "from sklearn.linear_model import LogisticRegression\n",
    "from sklearn.metrics import auc\n",
    "from sklearn.metrics import roc_curve\n",
    "from sklearn.metrics import roc_auc_score\n",
    "from sklearn.metrics import mean_squared_error\n",
    "\n",
    "from sklearn.tree import DecisionTreeRegressor\n",
    "from sklearn.ensemble import RandomForestRegressor\n",
    "from sklearn.tree import export_text\n",
    "\n",
    "import xgboost as xgb"
   ]
  },
  {
   "cell_type": "markdown",
   "id": "fd498725-d71c-409d-aa7c-2dd110b4850f",
   "metadata": {},
   "source": [
    "### Preparing the dataset \n",
    "\n",
    "For this homework, we only want to use a subset of data. This is the same subset we used in homework #2.\n",
    "But in contrast to homework #2, we are going to use all columns of the dataset.\n",
    "\n",
    "First, keep only the records where `ocean_proximity` is either `'<1H OCEAN'` or `'INLAND'`\n",
    "\n",
    "Preparation:\n",
    "\n",
    "* Fill missing values with zeros.\n",
    "* Apply the log transform to `median_house_value`.\n",
    "* Do train/validation/test split with 60%/20%/20% distribution. \n",
    "* Use the `train_test_split` function and set the `random_state` parameter to 1.\n",
    "* Use `DictVectorizer(sparse=True)` to turn the dataframes into matrices."
   ]
  },
  {
   "cell_type": "code",
   "execution_count": 17,
   "id": "9e3f8b3d-f279-4ba0-942c-4e9db60c700d",
   "metadata": {},
   "outputs": [],
   "source": [
    "def load_housing_data():\n",
    "    return pd.read_csv('housing.csv')\n",
    "\n",
    "def filter_ocean_proximity_records(df):\n",
    "    return df[(df.ocean_proximity == '<1H OCEAN') | (df.ocean_proximity == 'INLAND')]\n",
    "\n",
    "def prepare_string_column_values(df):\n",
    "    data = df.copy()\n",
    "    strings = list(data.dtypes[data.dtypes == 'object'].index)\n",
    "\n",
    "    for col in strings:\n",
    "        data[col] = data[col].str.lower().str.replace(' ', '_')\n",
    "    \n",
    "    return data"
   ]
  },
  {
   "cell_type": "code",
   "execution_count": 15,
   "id": "fb9c87d4-582d-41f1-b0ae-a10db8ae490d",
   "metadata": {},
   "outputs": [
    {
     "data": {
      "text/html": [
       "<div>\n",
       "<style scoped>\n",
       "    .dataframe tbody tr th:only-of-type {\n",
       "        vertical-align: middle;\n",
       "    }\n",
       "\n",
       "    .dataframe tbody tr th {\n",
       "        vertical-align: top;\n",
       "    }\n",
       "\n",
       "    .dataframe thead th {\n",
       "        text-align: right;\n",
       "    }\n",
       "</style>\n",
       "<table border=\"1\" class=\"dataframe\">\n",
       "  <thead>\n",
       "    <tr style=\"text-align: right;\">\n",
       "      <th></th>\n",
       "      <th>longitude</th>\n",
       "      <th>latitude</th>\n",
       "      <th>housing_median_age</th>\n",
       "      <th>total_rooms</th>\n",
       "      <th>total_bedrooms</th>\n",
       "      <th>population</th>\n",
       "      <th>households</th>\n",
       "      <th>median_income</th>\n",
       "      <th>median_house_value</th>\n",
       "      <th>ocean_proximity</th>\n",
       "    </tr>\n",
       "  </thead>\n",
       "  <tbody>\n",
       "    <tr>\n",
       "      <th>0</th>\n",
       "      <td>-122.23</td>\n",
       "      <td>37.88</td>\n",
       "      <td>41.0</td>\n",
       "      <td>880.0</td>\n",
       "      <td>129.0</td>\n",
       "      <td>322.0</td>\n",
       "      <td>126.0</td>\n",
       "      <td>8.3252</td>\n",
       "      <td>452600.0</td>\n",
       "      <td>NEAR BAY</td>\n",
       "    </tr>\n",
       "    <tr>\n",
       "      <th>1</th>\n",
       "      <td>-122.22</td>\n",
       "      <td>37.86</td>\n",
       "      <td>21.0</td>\n",
       "      <td>7099.0</td>\n",
       "      <td>1106.0</td>\n",
       "      <td>2401.0</td>\n",
       "      <td>1138.0</td>\n",
       "      <td>8.3014</td>\n",
       "      <td>358500.0</td>\n",
       "      <td>NEAR BAY</td>\n",
       "    </tr>\n",
       "    <tr>\n",
       "      <th>2</th>\n",
       "      <td>-122.24</td>\n",
       "      <td>37.85</td>\n",
       "      <td>52.0</td>\n",
       "      <td>1467.0</td>\n",
       "      <td>190.0</td>\n",
       "      <td>496.0</td>\n",
       "      <td>177.0</td>\n",
       "      <td>7.2574</td>\n",
       "      <td>352100.0</td>\n",
       "      <td>NEAR BAY</td>\n",
       "    </tr>\n",
       "  </tbody>\n",
       "</table>\n",
       "</div>"
      ],
      "text/plain": [
       "   longitude  latitude  housing_median_age  total_rooms  total_bedrooms  \\\n",
       "0    -122.23     37.88                41.0        880.0           129.0   \n",
       "1    -122.22     37.86                21.0       7099.0          1106.0   \n",
       "2    -122.24     37.85                52.0       1467.0           190.0   \n",
       "\n",
       "   population  households  median_income  median_house_value ocean_proximity  \n",
       "0       322.0       126.0         8.3252            452600.0        NEAR BAY  \n",
       "1      2401.0      1138.0         8.3014            358500.0        NEAR BAY  \n",
       "2       496.0       177.0         7.2574            352100.0        NEAR BAY  "
      ]
     },
     "execution_count": 15,
     "metadata": {},
     "output_type": "execute_result"
    }
   ],
   "source": [
    "df_raw = load_housing_data()\n",
    "df_raw.head(3)"
   ]
  },
  {
   "cell_type": "code",
   "execution_count": 21,
   "id": "2c8583e1-5a7f-40e9-baa6-4767c560c685",
   "metadata": {},
   "outputs": [
    {
     "data": {
      "text/plain": [
       "array(['<1h_ocean', 'inland'], dtype=object)"
      ]
     },
     "execution_count": 21,
     "metadata": {},
     "output_type": "execute_result"
    }
   ],
   "source": [
    "df = filter_ocean_proximity_records(df_raw)\n",
    "df = prepare_string_column_values(df)\n",
    "df = df.fillna(0)\n",
    "\n",
    "df.reset_index(drop=True, inplace=True)\n",
    "df.ocean_proximity.unique()"
   ]
  },
  {
   "cell_type": "code",
   "execution_count": 22,
   "id": "49036996-2dc5-496c-ac96-63ae76c2701e",
   "metadata": {},
   "outputs": [
    {
     "data": {
      "text/plain": [
       "longitude             0\n",
       "latitude              0\n",
       "housing_median_age    0\n",
       "total_rooms           0\n",
       "total_bedrooms        0\n",
       "population            0\n",
       "households            0\n",
       "median_income         0\n",
       "median_house_value    0\n",
       "ocean_proximity       0\n",
       "dtype: int64"
      ]
     },
     "execution_count": 22,
     "metadata": {},
     "output_type": "execute_result"
    }
   ],
   "source": [
    "df.isnull().sum()"
   ]
  },
  {
   "cell_type": "code",
   "execution_count": 33,
   "id": "b52620a0-dae8-43da-8982-dab9cbf5750a",
   "metadata": {},
   "outputs": [
    {
     "data": {
      "text/plain": [
       "<matplotlib.legend.Legend at 0x2809f1f90>"
      ]
     },
     "execution_count": 33,
     "metadata": {},
     "output_type": "execute_result"
    },
    {
     "data": {
      "image/png": "[encoded data removed]",
      "text/plain": [
       "<Figure size 640x480 with 1 Axes>"
      ]
     },
     "metadata": {},
     "output_type": "display_data"
    }
   ],
   "source": [
    "sns.histplot(df.median_house_value, bins=50, label='median_house_value')\n",
    "plt.legend()"
   ]
  },
  {
   "cell_type": "code",
   "execution_count": 34,
   "id": "4a2f8606-8724-49ad-b565-e8873e485d86",
   "metadata": {},
   "outputs": [
    {
     "data": {
      "text/plain": [
       "<matplotlib.legend.Legend at 0x280badb10>"
      ]
     },
     "execution_count": 34,
     "metadata": {},
     "output_type": "execute_result"
    },
    {
     "data": {
      "image/png": "[encoded data removed]",
      "text/plain": [
       "<Figure size 640x480 with 1 Axes>"
      ]
     },
     "metadata": {},
     "output_type": "display_data"
    }
   ],
   "source": [
    "sns.histplot(np.log1p(df.median_house_value), bins=50, label='log1p(median_house_value)')\n",
    "plt.legend()"
   ]
  },
  {
   "cell_type": "code",
   "execution_count": 35,
   "id": "4a3d4063-41f0-44c8-9324-1cacbaf434f8",
   "metadata": {},
   "outputs": [],
   "source": [
    "df_full_train, df_test = train_test_split(df, test_size=0.2, random_state=1)\n",
    "df_train, df_val = train_test_split(df_full_train, test_size=0.25, random_state=1)\n",
    "\n",
    "df_train = df_train.reset_index(drop=True)\n",
    "df_val = df_val.reset_index(drop=True)\n",
    "df_test = df_test.reset_index(drop=True)\n",
    "\n",
    "target_column = 'median_house_value'\n",
    "\n",
    "y_train = np.log1p(df_train[target_column].values)\n",
    "y_val = np.log1p(df_val[target_column].values)\n",
    "y_test = np.log1p(df_test[target_column].values)\n",
    "\n",
    "del df_train[target_column]\n",
    "del df_val[target_column]\n",
    "del df_test[target_column]"
   ]
  },
  {
   "cell_type": "code",
   "execution_count": 36,
   "id": "cc9652c0-e45c-4268-9495-83d7b61e6d88",
   "metadata": {},
   "outputs": [
    {
     "data": {
      "text/html": [
       "<div>\n",
       "<style scoped>\n",
       "    .dataframe tbody tr th:only-of-type {\n",
       "        vertical-align: middle;\n",
       "    }\n",
       "\n",
       "    .dataframe tbody tr th {\n",
       "        vertical-align: top;\n",
       "    }\n",
       "\n",
       "    .dataframe thead th {\n",
       "        text-align: right;\n",
       "    }\n",
       "</style>\n",
       "<table border=\"1\" class=\"dataframe\">\n",
       "  <thead>\n",
       "    <tr style=\"text-align: right;\">\n",
       "      <th></th>\n",
       "      <th>0</th>\n",
       "    </tr>\n",
       "  </thead>\n",
       "  <tbody>\n",
       "    <tr>\n",
       "      <th>longitude</th>\n",
       "      <td>-120.25</td>\n",
       "    </tr>\n",
       "    <tr>\n",
       "      <th>latitude</th>\n",
       "      <td>37.93</td>\n",
       "    </tr>\n",
       "    <tr>\n",
       "      <th>housing_median_age</th>\n",
       "      <td>13.0</td>\n",
       "    </tr>\n",
       "    <tr>\n",
       "      <th>total_rooms</th>\n",
       "      <td>493.0</td>\n",
       "    </tr>\n",
       "    <tr>\n",
       "      <th>total_bedrooms</th>\n",
       "      <td>76.0</td>\n",
       "    </tr>\n",
       "    <tr>\n",
       "      <th>population</th>\n",
       "      <td>196.0</td>\n",
       "    </tr>\n",
       "    <tr>\n",
       "      <th>households</th>\n",
       "      <td>68.0</td>\n",
       "    </tr>\n",
       "    <tr>\n",
       "      <th>median_income</th>\n",
       "      <td>3.375</td>\n",
       "    </tr>\n",
       "    <tr>\n",
       "      <th>ocean_proximity</th>\n",
       "      <td>inland</td>\n",
       "    </tr>\n",
       "  </tbody>\n",
       "</table>\n",
       "</div>"
      ],
      "text/plain": [
       "                         0\n",
       "longitude          -120.25\n",
       "latitude             37.93\n",
       "housing_median_age    13.0\n",
       "total_rooms          493.0\n",
       "total_bedrooms        76.0\n",
       "population           196.0\n",
       "households            68.0\n",
       "median_income        3.375\n",
       "ocean_proximity     inland"
      ]
     },
     "execution_count": 36,
     "metadata": {},
     "output_type": "execute_result"
    }
   ],
   "source": [
    "df_train[:1].T"
   ]
  },
  {
   "cell_type": "code",
   "execution_count": 37,
   "id": "61c000f6-2432-4dc6-a65d-5b448336128d",
   "metadata": {},
   "outputs": [],
   "source": [
    "dv = DictVectorizer(sparse=True)\n",
    "\n",
    "train_dicts = df_train.to_dict(orient = 'records')\n",
    "X_train = dv.fit_transform(train_dicts)\n",
    "\n",
    "val_dict = df_val.to_dict(orient='records')\n",
    "X_val = dv.transform(val_dict)\n",
    "\n",
    "dicts_test = df_test.to_dict(orient='records')\n",
    "X_test = dv.transform(dicts_test)"
   ]
  },
  {
   "cell_type": "code",
   "execution_count": 39,
   "id": "f5f24e38-acfa-4eca-96b7-921f07a54d37",
   "metadata": {},
   "outputs": [
    {
     "data": {
      "text/plain": [
       "{'longitude': -120.25,\n",
       " 'latitude': 37.93,\n",
       " 'housing_median_age': 13.0,\n",
       " 'total_rooms': 493.0,\n",
       " 'total_bedrooms': 76.0,\n",
       " 'population': 196.0,\n",
       " 'households': 68.0,\n",
       " 'median_income': 3.375,\n",
       " 'ocean_proximity': 'inland'}"
      ]
     },
     "execution_count": 39,
     "metadata": {},
     "output_type": "execute_result"
    }
   ],
   "source": [
    "train_dicts[0]"
   ]
  },
  {
   "cell_type": "markdown",
   "id": "b36f7c00-71b4-4e26-847c-5e169f3ec9d7",
   "metadata": {},
   "source": [
    "## Question 1\n",
    "\n",
    "Let's train a decision tree regressor to predict the `median_house_value` variable. \n",
    "\n",
    "* Train a model with `max_depth=1`.\n",
    "\n",
    "\n",
    "Which feature is used for splitting the data?\n",
    "\n",
    "* `ocean_proximity` <=\n",
    "* `total_rooms`\n",
    "* `latitude`\n",
    "* `population`"
   ]
  },
  {
   "cell_type": "code",
   "execution_count": 42,
   "id": "6b97ff48-ab0f-4d1f-ab9a-bfa0b1d85532",
   "metadata": {},
   "outputs": [
    {
     "data": {
      "text/html": [
       "<style>#sk-container-id-2 {color: black;}#sk-container-id-2 pre{padding: 0;}#sk-container-id-2 div.sk-toggleable {background-color: white;}#sk-container-id-2 label.sk-toggleable__label {cursor: pointer;display: block;width: 100%;margin-bottom: 0;padding: 0.3em;box-sizing: border-box;text-align: center;}#sk-container-id-2 label.sk-toggleable__label-arrow:before {content: \"▸\";float: left;margin-right: 0.25em;color: #696969;}#sk-container-id-2 label.sk-toggleable__label-arrow:hover:before {color: black;}#sk-container-id-2 div.sk-estimator:hover label.sk-toggleable__label-arrow:before {color: black;}#sk-container-id-2 div.sk-toggleable__content {max-height: 0;max-width: 0;overflow: hidden;text-align: left;background-color: #f0f8ff;}#sk-container-id-2 div.sk-toggleable__content pre {margin: 0.2em;color: black;border-radius: 0.25em;background-color: #f0f8ff;}#sk-container-id-2 input.sk-toggleable__control:checked~div.sk-toggleable__content {max-height: 200px;max-width: 100%;overflow: auto;}#sk-container-id-2 input.sk-toggleable__control:checked~label.sk-toggleable__label-arrow:before {content: \"▾\";}#sk-container-id-2 div.sk-estimator input.sk-toggleable__control:checked~label.sk-toggleable__label {background-color: #d4ebff;}#sk-container-id-2 div.sk-label input.sk-toggleable__control:checked~label.sk-toggleable__label {background-color: #d4ebff;}#sk-container-id-2 input.sk-hidden--visually {border: 0;clip: rect(1px 1px 1px 1px);clip: rect(1px, 1px, 1px, 1px);height: 1px;margin: -1px;overflow: hidden;padding: 0;position: absolute;width: 1px;}#sk-container-id-2 div.sk-estimator {font-family: monospace;background-color: #f0f8ff;border: 1px dotted black;border-radius: 0.25em;box-sizing: border-box;margin-bottom: 0.5em;}#sk-container-id-2 div.sk-estimator:hover {background-color: #d4ebff;}#sk-container-id-2 div.sk-parallel-item::after {content: \"\";width: 100%;border-bottom: 1px solid gray;flex-grow: 1;}#sk-container-id-2 div.sk-label:hover label.sk-toggleable__label {background-color: #d4ebff;}#sk-container-id-2 div.sk-serial::before {content: \"\";position: absolute;border-left: 1px solid gray;box-sizing: border-box;top: 0;bottom: 0;left: 50%;z-index: 0;}#sk-container-id-2 div.sk-serial {display: flex;flex-direction: column;align-items: center;background-color: white;padding-right: 0.2em;padding-left: 0.2em;position: relative;}#sk-container-id-2 div.sk-item {position: relative;z-index: 1;}#sk-container-id-2 div.sk-parallel {display: flex;align-items: stretch;justify-content: center;background-color: white;position: relative;}#sk-container-id-2 div.sk-item::before, #sk-container-id-2 div.sk-parallel-item::before {content: \"\";position: absolute;border-left: 1px solid gray;box-sizing: border-box;top: 0;bottom: 0;left: 50%;z-index: -1;}#sk-container-id-2 div.sk-parallel-item {display: flex;flex-direction: column;z-index: 1;position: relative;background-color: white;}#sk-container-id-2 div.sk-parallel-item:first-child::after {align-self: flex-end;width: 50%;}#sk-container-id-2 div.sk-parallel-item:last-child::after {align-self: flex-start;width: 50%;}#sk-container-id-2 div.sk-parallel-item:only-child::after {width: 0;}#sk-container-id-2 div.sk-dashed-wrapped {border: 1px dashed gray;margin: 0 0.4em 0.5em 0.4em;box-sizing: border-box;padding-bottom: 0.4em;background-color: white;}#sk-container-id-2 div.sk-label label {font-family: monospace;font-weight: bold;display: inline-block;line-height: 1.2em;}#sk-container-id-2 div.sk-label-container {text-align: center;}#sk-container-id-2 div.sk-container {/* jupyter's `normalize.less` sets `[hidden] { display: none; }` but bootstrap.min.css set `[hidden] { display: none !important; }` so we also need the `!important` here to be able to override the default hidden behavior on the sphinx rendered scikit-learn.org. See: https://github.com/scikit-learn/scikit-learn/issues/21755 */display: inline-block !important;position: relative;}#sk-container-id-2 div.sk-text-repr-fallback {display: none;}</style><div id=\"sk-container-id-2\" class=\"sk-top-container\"><div class=\"sk-text-repr-fallback\"><pre>DecisionTreeRegressor(max_depth=1)</pre><b>In a Jupyter environment, please rerun this cell to show the HTML representation or trust the notebook. <br />On GitHub, the HTML representation is unable to render, please try loading this page with nbviewer.org.</b></div><div class=\"sk-container\" hidden><div class=\"sk-item\"><div class=\"sk-estimator sk-toggleable\"><input class=\"sk-toggleable__control sk-hidden--visually\" id=\"sk-estimator-id-2\" type=\"checkbox\" checked><label for=\"sk-estimator-id-2\" class=\"sk-toggleable__label sk-toggleable__label-arrow\">DecisionTreeRegressor</label><div class=\"sk-toggleable__content\"><pre>DecisionTreeRegressor(max_depth=1)</pre></div></div></div></div></div>"
      ],
      "text/plain": [
       "DecisionTreeRegressor(max_depth=1)"
      ]
     },
     "execution_count": 42,
     "metadata": {},
     "output_type": "execute_result"
    }
   ],
   "source": [
    "dt = DecisionTreeRegressor(max_depth=1)\n",
    "dt.fit(X_train, y_train)"
   ]
  },
  {
   "cell_type": "code",
   "execution_count": 43,
   "id": "33193644-0f42-4deb-b2a3-aa91a29f96fa",
   "metadata": {},
   "outputs": [
    {
     "data": {
      "text/plain": [
       "['households',\n",
       " 'housing_median_age',\n",
       " 'latitude',\n",
       " 'longitude',\n",
       " 'median_income',\n",
       " 'ocean_proximity=<1h_ocean',\n",
       " 'ocean_proximity=inland',\n",
       " 'population',\n",
       " 'total_bedrooms',\n",
       " 'total_rooms']"
      ]
     },
     "execution_count": 43,
     "metadata": {},
     "output_type": "execute_result"
    }
   ],
   "source": [
    "list(dv.get_feature_names_out())"
   ]
  },
  {
   "cell_type": "code",
   "execution_count": 44,
   "id": "c9eaabc8-bd3d-4f3f-ae5d-271a23f7a123",
   "metadata": {},
   "outputs": [
    {
     "name": "stdout",
     "output_type": "stream",
     "text": [
      "|--- ocean_proximity=<1h_ocean <= 0.50\n",
      "|   |--- value: [11.61]\n",
      "|--- ocean_proximity=<1h_ocean >  0.50\n",
      "|   |--- value: [12.30]\n",
      "\n"
     ]
    }
   ],
   "source": [
    "print(export_text(dt, feature_names=list(dv.get_feature_names_out())))"
   ]
  },
  {
   "cell_type": "markdown",
   "id": "aef7f1eb-a179-4e2d-8416-f9b2494e2d0a",
   "metadata": {},
   "source": [
    "## Question 2\n",
    "\n",
    "Train a random forest model with these parameters:\n",
    "\n",
    "* `n_estimators=10`\n",
    "* `random_state=1`\n",
    "* `n_jobs=-1` (optional - to make training faster)\n",
    "\n",
    "\n",
    "What's the RMSE of this model on validation?\n",
    "\n",
    "* 0.045\n",
    "* <mark>0.245</mark>\n",
    "* 0.545\n",
    "* 0.845"
   ]
  },
  {
   "cell_type": "code",
   "execution_count": 45,
   "id": "fc133d66-65d2-4ab6-8f9c-4757089ecc8d",
   "metadata": {},
   "outputs": [
    {
     "data": {
      "text/html": [
       "<style>#sk-container-id-3 {color: black;}#sk-container-id-3 pre{padding: 0;}#sk-container-id-3 div.sk-toggleable {background-color: white;}#sk-container-id-3 label.sk-toggleable__label {cursor: pointer;display: block;width: 100%;margin-bottom: 0;padding: 0.3em;box-sizing: border-box;text-align: center;}#sk-container-id-3 label.sk-toggleable__label-arrow:before {content: \"▸\";float: left;margin-right: 0.25em;color: #696969;}#sk-container-id-3 label.sk-toggleable__label-arrow:hover:before {color: black;}#sk-container-id-3 div.sk-estimator:hover label.sk-toggleable__label-arrow:before {color: black;}#sk-container-id-3 div.sk-toggleable__content {max-height: 0;max-width: 0;overflow: hidden;text-align: left;background-color: #f0f8ff;}#sk-container-id-3 div.sk-toggleable__content pre {margin: 0.2em;color: black;border-radius: 0.25em;background-color: #f0f8ff;}#sk-container-id-3 input.sk-toggleable__control:checked~div.sk-toggleable__content {max-height: 200px;max-width: 100%;overflow: auto;}#sk-container-id-3 input.sk-toggleable__control:checked~label.sk-toggleable__label-arrow:before {content: \"▾\";}#sk-container-id-3 div.sk-estimator input.sk-toggleable__control:checked~label.sk-toggleable__label {background-color: #d4ebff;}#sk-container-id-3 div.sk-label input.sk-toggleable__control:checked~label.sk-toggleable__label {background-color: #d4ebff;}#sk-container-id-3 input.sk-hidden--visually {border: 0;clip: rect(1px 1px 1px 1px);clip: rect(1px, 1px, 1px, 1px);height: 1px;margin: -1px;overflow: hidden;padding: 0;position: absolute;width: 1px;}#sk-container-id-3 div.sk-estimator {font-family: monospace;background-color: #f0f8ff;border: 1px dotted black;border-radius: 0.25em;box-sizing: border-box;margin-bottom: 0.5em;}#sk-container-id-3 div.sk-estimator:hover {background-color: #d4ebff;}#sk-container-id-3 div.sk-parallel-item::after {content: \"\";width: 100%;border-bottom: 1px solid gray;flex-grow: 1;}#sk-container-id-3 div.sk-label:hover label.sk-toggleable__label {background-color: #d4ebff;}#sk-container-id-3 div.sk-serial::before {content: \"\";position: absolute;border-left: 1px solid gray;box-sizing: border-box;top: 0;bottom: 0;left: 50%;z-index: 0;}#sk-container-id-3 div.sk-serial {display: flex;flex-direction: column;align-items: center;background-color: white;padding-right: 0.2em;padding-left: 0.2em;position: relative;}#sk-container-id-3 div.sk-item {position: relative;z-index: 1;}#sk-container-id-3 div.sk-parallel {display: flex;align-items: stretch;justify-content: center;background-color: white;position: relative;}#sk-container-id-3 div.sk-item::before, #sk-container-id-3 div.sk-parallel-item::before {content: \"\";position: absolute;border-left: 1px solid gray;box-sizing: border-box;top: 0;bottom: 0;left: 50%;z-index: -1;}#sk-container-id-3 div.sk-parallel-item {display: flex;flex-direction: column;z-index: 1;position: relative;background-color: white;}#sk-container-id-3 div.sk-parallel-item:first-child::after {align-self: flex-end;width: 50%;}#sk-container-id-3 div.sk-parallel-item:last-child::after {align-self: flex-start;width: 50%;}#sk-container-id-3 div.sk-parallel-item:only-child::after {width: 0;}#sk-container-id-3 div.sk-dashed-wrapped {border: 1px dashed gray;margin: 0 0.4em 0.5em 0.4em;box-sizing: border-box;padding-bottom: 0.4em;background-color: white;}#sk-container-id-3 div.sk-label label {font-family: monospace;font-weight: bold;display: inline-block;line-height: 1.2em;}#sk-container-id-3 div.sk-label-container {text-align: center;}#sk-container-id-3 div.sk-container {/* jupyter's `normalize.less` sets `[hidden] { display: none; }` but bootstrap.min.css set `[hidden] { display: none !important; }` so we also need the `!important` here to be able to override the default hidden behavior on the sphinx rendered scikit-learn.org. See: https://github.com/scikit-learn/scikit-learn/issues/21755 */display: inline-block !important;position: relative;}#sk-container-id-3 div.sk-text-repr-fallback {display: none;}</style><div id=\"sk-container-id-3\" class=\"sk-top-container\"><div class=\"sk-text-repr-fallback\"><pre>RandomForestRegressor(n_estimators=10, n_jobs=-1, random_state=1)</pre><b>In a Jupyter environment, please rerun this cell to show the HTML representation or trust the notebook. <br />On GitHub, the HTML representation is unable to render, please try loading this page with nbviewer.org.</b></div><div class=\"sk-container\" hidden><div class=\"sk-item\"><div class=\"sk-estimator sk-toggleable\"><input class=\"sk-toggleable__control sk-hidden--visually\" id=\"sk-estimator-id-3\" type=\"checkbox\" checked><label for=\"sk-estimator-id-3\" class=\"sk-toggleable__label sk-toggleable__label-arrow\">RandomForestRegressor</label><div class=\"sk-toggleable__content\"><pre>RandomForestRegressor(n_estimators=10, n_jobs=-1, random_state=1)</pre></div></div></div></div></div>"
      ],
      "text/plain": [
       "RandomForestRegressor(n_estimators=10, n_jobs=-1, random_state=1)"
      ]
     },
     "execution_count": 45,
     "metadata": {},
     "output_type": "execute_result"
    }
   ],
   "source": [
    "rf = RandomForestRegressor(n_estimators=10, random_state=1, n_jobs=-1)\n",
    "rf.fit(X_train, y_train)"
   ]
  },
  {
   "cell_type": "code",
   "execution_count": 51,
   "id": "3b7b82a8-14bb-4529-920a-749368ac58fa",
   "metadata": {},
   "outputs": [],
   "source": [
    "def rmse(y, y_pred):\n",
    "  se = (y - y_pred) ** 2\n",
    "  mse = se.mean()\n",
    "  return np.sqrt(mse)\n",
    "\n",
    "def sklearn_rmse(y, y_pred):\n",
    "    return mean_squared_error(y, y_pred, squared=False)\n"
   ]
  },
  {
   "cell_type": "code",
   "execution_count": 61,
   "id": "fa4077f9-051b-46c2-a106-b4d1286295a5",
   "metadata": {},
   "outputs": [
    {
     "name": "stdout",
     "output_type": "stream",
     "text": [
      "rmse: 0.2451877248\n",
      "rmse (sklearn): 0.2451877248\n"
     ]
    }
   ],
   "source": [
    "y_pred = rf.predict(X_val)\n",
    "print('rmse: %.10f' % rmse(y_val, y_pred))\n",
    "print('rmse (sklearn): %.10f' % sklearn_rmse(y_val, y_pred))"
   ]
  },
  {
   "cell_type": "markdown",
   "id": "2ad54030-0b52-455a-b03b-f442d82928df",
   "metadata": {},
   "source": [
    "## Question 3\n",
    "\n",
    "Now let's experiment with the `n_estimators` parameter\n",
    "\n",
    "* Try different values of this parameter from 10 to 200 with step 10.\n",
    "* Set `random_state` to `1`.\n",
    "* Evaluate the model on the validation dataset.\n",
    "\n",
    "\n",
    "After which value of `n_estimators` does RMSE stop improving?\n",
    "Consider 3 decimal places for retrieving the answer.\n",
    "\n",
    "- 10\n",
    "- 25\n",
    "- 50\n",
    "- <mark>160</mark>"
   ]
  },
  {
   "cell_type": "code",
   "execution_count": 67,
   "id": "a6627fb4-bacc-4442-a1ee-aff99123a6c6",
   "metadata": {},
   "outputs": [
    {
     "name": "stderr",
     "output_type": "stream",
     "text": [
      "100%|██████████████████████████████████████████████████████████████████████████████████████████████████████████████████| 20/20 [00:51<00:00,  2.56s/it]\n"
     ]
    },
    {
     "data": {
      "text/html": [
       "<div>\n",
       "<style scoped>\n",
       "    .dataframe tbody tr th:only-of-type {\n",
       "        vertical-align: middle;\n",
       "    }\n",
       "\n",
       "    .dataframe tbody tr th {\n",
       "        vertical-align: top;\n",
       "    }\n",
       "\n",
       "    .dataframe thead th {\n",
       "        text-align: right;\n",
       "    }\n",
       "</style>\n",
       "<table border=\"1\" class=\"dataframe\">\n",
       "  <thead>\n",
       "    <tr style=\"text-align: right;\">\n",
       "      <th></th>\n",
       "      <th>n_estimators</th>\n",
       "      <th>rmse</th>\n",
       "    </tr>\n",
       "  </thead>\n",
       "  <tbody>\n",
       "    <tr>\n",
       "      <th>0</th>\n",
       "      <td>10</td>\n",
       "      <td>0.245</td>\n",
       "    </tr>\n",
       "    <tr>\n",
       "      <th>1</th>\n",
       "      <td>20</td>\n",
       "      <td>0.239</td>\n",
       "    </tr>\n",
       "    <tr>\n",
       "      <th>2</th>\n",
       "      <td>30</td>\n",
       "      <td>0.237</td>\n",
       "    </tr>\n",
       "    <tr>\n",
       "      <th>3</th>\n",
       "      <td>40</td>\n",
       "      <td>0.235</td>\n",
       "    </tr>\n",
       "    <tr>\n",
       "      <th>4</th>\n",
       "      <td>50</td>\n",
       "      <td>0.235</td>\n",
       "    </tr>\n",
       "    <tr>\n",
       "      <th>5</th>\n",
       "      <td>60</td>\n",
       "      <td>0.234</td>\n",
       "    </tr>\n",
       "    <tr>\n",
       "      <th>6</th>\n",
       "      <td>70</td>\n",
       "      <td>0.234</td>\n",
       "    </tr>\n",
       "    <tr>\n",
       "      <th>7</th>\n",
       "      <td>80</td>\n",
       "      <td>0.234</td>\n",
       "    </tr>\n",
       "    <tr>\n",
       "      <th>8</th>\n",
       "      <td>90</td>\n",
       "      <td>0.234</td>\n",
       "    </tr>\n",
       "    <tr>\n",
       "      <th>9</th>\n",
       "      <td>100</td>\n",
       "      <td>0.234</td>\n",
       "    </tr>\n",
       "    <tr>\n",
       "      <th>10</th>\n",
       "      <td>110</td>\n",
       "      <td>0.234</td>\n",
       "    </tr>\n",
       "    <tr>\n",
       "      <th>11</th>\n",
       "      <td>120</td>\n",
       "      <td>0.234</td>\n",
       "    </tr>\n",
       "    <tr>\n",
       "      <th>12</th>\n",
       "      <td>130</td>\n",
       "      <td>0.234</td>\n",
       "    </tr>\n",
       "    <tr>\n",
       "      <th>13</th>\n",
       "      <td>140</td>\n",
       "      <td>0.234</td>\n",
       "    </tr>\n",
       "    <tr>\n",
       "      <th>14</th>\n",
       "      <td>150</td>\n",
       "      <td>0.233</td>\n",
       "    </tr>\n",
       "    <tr>\n",
       "      <th>15</th>\n",
       "      <td>160</td>\n",
       "      <td>0.233</td>\n",
       "    </tr>\n",
       "    <tr>\n",
       "      <th>16</th>\n",
       "      <td>170</td>\n",
       "      <td>0.233</td>\n",
       "    </tr>\n",
       "    <tr>\n",
       "      <th>17</th>\n",
       "      <td>180</td>\n",
       "      <td>0.233</td>\n",
       "    </tr>\n",
       "    <tr>\n",
       "      <th>18</th>\n",
       "      <td>190</td>\n",
       "      <td>0.234</td>\n",
       "    </tr>\n",
       "    <tr>\n",
       "      <th>19</th>\n",
       "      <td>200</td>\n",
       "      <td>0.234</td>\n",
       "    </tr>\n",
       "  </tbody>\n",
       "</table>\n",
       "</div>"
      ],
      "text/plain": [
       "    n_estimators   rmse\n",
       "0             10  0.245\n",
       "1             20  0.239\n",
       "2             30  0.237\n",
       "3             40  0.235\n",
       "4             50  0.235\n",
       "5             60  0.234\n",
       "6             70  0.234\n",
       "7             80  0.234\n",
       "8             90  0.234\n",
       "9            100  0.234\n",
       "10           110  0.234\n",
       "11           120  0.234\n",
       "12           130  0.234\n",
       "13           140  0.234\n",
       "14           150  0.233\n",
       "15           160  0.233\n",
       "16           170  0.233\n",
       "17           180  0.233\n",
       "18           190  0.234\n",
       "19           200  0.234"
      ]
     },
     "execution_count": 67,
     "metadata": {},
     "output_type": "execute_result"
    }
   ],
   "source": [
    "scores =[]\n",
    "\n",
    "for n in tqdm(range(10, 201, 10)):\n",
    "  rf = RandomForestRegressor(n_estimators=n, n_jobs=-1, random_state=1)\n",
    "  rf.fit(X_train, y_train)\n",
    "\n",
    "  y_pred = rf.predict(X_val)  \n",
    "  score = round(rmse(y_val, y_pred), 3)\n",
    "\n",
    "  scores.append((n, score))\n",
    "\n",
    "columns = ['n_estimators', 'rmse']\n",
    "df_scores = pd.DataFrame(scores, columns=columns)\n",
    "df_scores"
   ]
  },
  {
   "cell_type": "code",
   "execution_count": 69,
   "id": "0418b7ad-97dc-414e-b489-2d04cadf1a1c",
   "metadata": {},
   "outputs": [
    {
     "data": {
      "text/plain": [
       "<matplotlib.legend.Legend at 0x1765b6cd0>"
      ]
     },
     "execution_count": 69,
     "metadata": {},
     "output_type": "execute_result"
    },
    {
     "data": {
      "image/png": "[encoded data removed]",
      "text/plain": [
       "<Figure size 640x480 with 1 Axes>"
      ]
     },
     "metadata": {},
     "output_type": "display_data"
    }
   ],
   "source": [
    "plt.plot(df_scores.n_estimators, df_scores.rmse, label='rmse')\n",
    "plt.legend()"
   ]
  },
  {
   "cell_type": "markdown",
   "id": "e27911da-cd2b-4d73-8d77-a6e37bbcb529",
   "metadata": {},
   "source": [
    "## Question 4\n",
    "\n",
    "Let's select the best `max_depth`:\n",
    "\n",
    "* Try different values of `max_depth`: `[10, 15, 20, 25]`\n",
    "* For each of these values,\n",
    "  * try different values of `n_estimators` from 10 till 200 (with step 10)\n",
    "  * calculate the mean RMSE \n",
    "* Fix the random seed: `random_state=1`\n",
    "\n",
    "\n",
    "What's the best `max_depth`, using the mean RMSE?\n",
    "\n",
    "* 10\n",
    "* 15\n",
    "* 20\n",
    "* <mark>25</mark>"
   ]
  },
  {
   "cell_type": "code",
   "execution_count": 71,
   "id": "e50ddd9e-23a8-40bf-9c8a-af25877e363b",
   "metadata": {},
   "outputs": [
    {
     "name": "stderr",
     "output_type": "stream",
     "text": [
      "100%|████████████████████████████████████████████████████████████████████████████████████████████████████████████████████| 4/4 [02:29<00:00, 37.35s/it]\n"
     ]
    }
   ],
   "source": [
    "scores = []\n",
    "for d in tqdm([10, 15, 20, 25]):\n",
    "  for n in range(10, 201, 10):\n",
    "    rf = RandomForestRegressor(n_estimators=n, max_depth=d, n_jobs=-1, random_state=1)\n",
    "    rf.fit(X_train, y_train)\n",
    "\n",
    "    y_pred = rf.predict(X_val)\n",
    "    score = round(rmse(y_val, y_pred), 3)\n",
    "      \n",
    "    scores.append((d, n, score))"
   ]
  },
  {
   "cell_type": "code",
   "execution_count": 72,
   "id": "983c54b6-7ef8-47fc-9dcb-0c9a872fab5a",
   "metadata": {},
   "outputs": [
    {
     "data": {
      "text/plain": [
       "<matplotlib.legend.Legend at 0x28094c650>"
      ]
     },
     "execution_count": 72,
     "metadata": {},
     "output_type": "execute_result"
    },
    {
     "data": {
      "image/png": "[encoded data removed]",
      "text/plain": [
       "<Figure size 640x480 with 1 Axes>"
      ]
     },
     "metadata": {},
     "output_type": "display_data"
    }
   ],
   "source": [
    "df_scores = pd.DataFrame(scores, columns=['max_depth', 'n_estimators', 'rmse'])\n",
    "\n",
    "for d in [10, 15, 20, 25]:\n",
    "    df_subset = df_scores[df_scores.max_depth == d]\n",
    "    \n",
    "    plt.plot(df_subset.n_estimators, df_subset.rmse, label='max_depth=%d' % d)\n",
    "\n",
    "plt.legend()"
   ]
  },
  {
   "cell_type": "code",
   "execution_count": 73,
   "id": "841563a1-5487-4374-9c12-f990cfc6dc1b",
   "metadata": {},
   "outputs": [
    {
     "data": {
      "text/plain": [
       "<matplotlib.legend.Legend at 0x2837eb750>"
      ]
     },
     "execution_count": 73,
     "metadata": {},
     "output_type": "execute_result"
    },
    {
     "data": {
      "image/png": "[encoded data removed]",
      "text/plain": [
       "<Figure size 640x480 with 1 Axes>"
      ]
     },
     "metadata": {},
     "output_type": "display_data"
    }
   ],
   "source": [
    "df_scores = pd.DataFrame(scores, columns=['max_depth', 'n_estimators', 'rmse'])\n",
    "\n",
    "for d in [25]:\n",
    "    df_subset = df_scores[df_scores.max_depth == d]\n",
    "    \n",
    "    plt.plot(df_subset.n_estimators, df_subset.rmse, label='max_depth=%d' % d)\n",
    "\n",
    "plt.legend()"
   ]
  },
  {
   "cell_type": "markdown",
   "id": "91db0575-79b4-47f0-bef0-36e8fd731a4f",
   "metadata": {},
   "source": [
    "# Question 5\n",
    "\n",
    "We can extract feature importance information from tree-based models. \n",
    "\n",
    "At each step of the decision tree learning algorithm, it finds the best split. \n",
    "When doing it, we can calculate \"gain\" - the reduction in impurity before and after the split. \n",
    "This gain is quite useful in understanding what are the important features for tree-based models.\n",
    "\n",
    "In Scikit-Learn, tree-based models contain this information in the\n",
    "[`feature_importances_`](https://scikit-learn.org/stable/modules/generated/sklearn.ensemble.RandomForestRegressor.html#sklearn.ensemble.RandomForestRegressor.feature_importances_)\n",
    "field. \n",
    "\n",
    "For this homework question, we'll find the most important feature:\n",
    "\n",
    "* Train the model with these parameters:\n",
    "  * `n_estimators=10`,\n",
    "  * `max_depth=20`,\n",
    "  * `random_state=1`,\n",
    "  * `n_jobs=-1` (optional)\n",
    "* Get the feature importance information from this model\n",
    "\n",
    "\n",
    "What's the most important feature (among these 4)? \n",
    "\n",
    "* `total_rooms`\n",
    "* `median_income` <=\n",
    "* `total_bedrooms`\n",
    "* `longitude`"
   ]
  },
  {
   "cell_type": "code",
   "execution_count": 74,
   "id": "9ba6f902-452c-423b-a07d-b446f7fde099",
   "metadata": {},
   "outputs": [
    {
     "data": {
      "text/html": [
       "<style>#sk-container-id-4 {color: black;}#sk-container-id-4 pre{padding: 0;}#sk-container-id-4 div.sk-toggleable {background-color: white;}#sk-container-id-4 label.sk-toggleable__label {cursor: pointer;display: block;width: 100%;margin-bottom: 0;padding: 0.3em;box-sizing: border-box;text-align: center;}#sk-container-id-4 label.sk-toggleable__label-arrow:before {content: \"▸\";float: left;margin-right: 0.25em;color: #696969;}#sk-container-id-4 label.sk-toggleable__label-arrow:hover:before {color: black;}#sk-container-id-4 div.sk-estimator:hover label.sk-toggleable__label-arrow:before {color: black;}#sk-container-id-4 div.sk-toggleable__content {max-height: 0;max-width: 0;overflow: hidden;text-align: left;background-color: #f0f8ff;}#sk-container-id-4 div.sk-toggleable__content pre {margin: 0.2em;color: black;border-radius: 0.25em;background-color: #f0f8ff;}#sk-container-id-4 input.sk-toggleable__control:checked~div.sk-toggleable__content {max-height: 200px;max-width: 100%;overflow: auto;}#sk-container-id-4 input.sk-toggleable__control:checked~label.sk-toggleable__label-arrow:before {content: \"▾\";}#sk-container-id-4 div.sk-estimator input.sk-toggleable__control:checked~label.sk-toggleable__label {background-color: #d4ebff;}#sk-container-id-4 div.sk-label input.sk-toggleable__control:checked~label.sk-toggleable__label {background-color: #d4ebff;}#sk-container-id-4 input.sk-hidden--visually {border: 0;clip: rect(1px 1px 1px 1px);clip: rect(1px, 1px, 1px, 1px);height: 1px;margin: -1px;overflow: hidden;padding: 0;position: absolute;width: 1px;}#sk-container-id-4 div.sk-estimator {font-family: monospace;background-color: #f0f8ff;border: 1px dotted black;border-radius: 0.25em;box-sizing: border-box;margin-bottom: 0.5em;}#sk-container-id-4 div.sk-estimator:hover {background-color: #d4ebff;}#sk-container-id-4 div.sk-parallel-item::after {content: \"\";width: 100%;border-bottom: 1px solid gray;flex-grow: 1;}#sk-container-id-4 div.sk-label:hover label.sk-toggleable__label {background-color: #d4ebff;}#sk-container-id-4 div.sk-serial::before {content: \"\";position: absolute;border-left: 1px solid gray;box-sizing: border-box;top: 0;bottom: 0;left: 50%;z-index: 0;}#sk-container-id-4 div.sk-serial {display: flex;flex-direction: column;align-items: center;background-color: white;padding-right: 0.2em;padding-left: 0.2em;position: relative;}#sk-container-id-4 div.sk-item {position: relative;z-index: 1;}#sk-container-id-4 div.sk-parallel {display: flex;align-items: stretch;justify-content: center;background-color: white;position: relative;}#sk-container-id-4 div.sk-item::before, #sk-container-id-4 div.sk-parallel-item::before {content: \"\";position: absolute;border-left: 1px solid gray;box-sizing: border-box;top: 0;bottom: 0;left: 50%;z-index: -1;}#sk-container-id-4 div.sk-parallel-item {display: flex;flex-direction: column;z-index: 1;position: relative;background-color: white;}#sk-container-id-4 div.sk-parallel-item:first-child::after {align-self: flex-end;width: 50%;}#sk-container-id-4 div.sk-parallel-item:last-child::after {align-self: flex-start;width: 50%;}#sk-container-id-4 div.sk-parallel-item:only-child::after {width: 0;}#sk-container-id-4 div.sk-dashed-wrapped {border: 1px dashed gray;margin: 0 0.4em 0.5em 0.4em;box-sizing: border-box;padding-bottom: 0.4em;background-color: white;}#sk-container-id-4 div.sk-label label {font-family: monospace;font-weight: bold;display: inline-block;line-height: 1.2em;}#sk-container-id-4 div.sk-label-container {text-align: center;}#sk-container-id-4 div.sk-container {/* jupyter's `normalize.less` sets `[hidden] { display: none; }` but bootstrap.min.css set `[hidden] { display: none !important; }` so we also need the `!important` here to be able to override the default hidden behavior on the sphinx rendered scikit-learn.org. See: https://github.com/scikit-learn/scikit-learn/issues/21755 */display: inline-block !important;position: relative;}#sk-container-id-4 div.sk-text-repr-fallback {display: none;}</style><div id=\"sk-container-id-4\" class=\"sk-top-container\"><div class=\"sk-text-repr-fallback\"><pre>RandomForestRegressor(max_depth=20, n_estimators=10, n_jobs=-1, random_state=1)</pre><b>In a Jupyter environment, please rerun this cell to show the HTML representation or trust the notebook. <br />On GitHub, the HTML representation is unable to render, please try loading this page with nbviewer.org.</b></div><div class=\"sk-container\" hidden><div class=\"sk-item\"><div class=\"sk-estimator sk-toggleable\"><input class=\"sk-toggleable__control sk-hidden--visually\" id=\"sk-estimator-id-4\" type=\"checkbox\" checked><label for=\"sk-estimator-id-4\" class=\"sk-toggleable__label sk-toggleable__label-arrow\">RandomForestRegressor</label><div class=\"sk-toggleable__content\"><pre>RandomForestRegressor(max_depth=20, n_estimators=10, n_jobs=-1, random_state=1)</pre></div></div></div></div></div>"
      ],
      "text/plain": [
       "RandomForestRegressor(max_depth=20, n_estimators=10, n_jobs=-1, random_state=1)"
      ]
     },
     "execution_count": 74,
     "metadata": {},
     "output_type": "execute_result"
    }
   ],
   "source": [
    "rf = RandomForestRegressor(n_estimators=10, max_depth=20, n_jobs=-1, random_state=1)\n",
    "rf.fit(X_train, y_train)"
   ]
  },
  {
   "cell_type": "code",
   "execution_count": 75,
   "id": "c5210742-37c1-4d46-9a76-d7de5ebb651a",
   "metadata": {},
   "outputs": [
    {
     "data": {
      "text/plain": [
       "array([0.01502087, 0.03030503, 0.10195626, 0.08627638, 0.3355917 ,\n",
       "       0.29247297, 0.07380644, 0.02715851, 0.01589402, 0.02151783])"
      ]
     },
     "execution_count": 75,
     "metadata": {},
     "output_type": "execute_result"
    }
   ],
   "source": [
    "rf.feature_importances_"
   ]
  },
  {
   "cell_type": "code",
   "execution_count": 76,
   "id": "cdc34c2d-c0e7-4d1b-bda4-a4b25e00a0f8",
   "metadata": {},
   "outputs": [
    {
     "data": {
      "text/plain": [
       "<BarContainer object of 10 artists>"
      ]
     },
     "execution_count": 76,
     "metadata": {},
     "output_type": "execute_result"
    },
    {
     "data": {
      "image/png": "[encoded data removed]",
      "text/plain": [
       "<Figure size 640x480 with 1 Axes>"
      ]
     },
     "metadata": {},
     "output_type": "display_data"
    }
   ],
   "source": [
    "plt.barh(list(dv.get_feature_names_out()), rf.feature_importances_)"
   ]
  },
  {
   "cell_type": "markdown",
   "id": "02a3d9db-0e43-44d4-bb2f-f0f50c073d36",
   "metadata": {},
   "source": [
    "## Question 6\n",
    "\n",
    "Now let's train an XGBoost model! For this question, we'll tune the `eta` parameter:\n",
    "\n",
    "* Install XGBoost\n",
    "* Create DMatrix for train and validation\n",
    "* Create a watchlist\n",
    "* Train a model with these parameters for 100 rounds:\n",
    "\n",
    "```\n",
    "xgb_params = {\n",
    "    'eta': 0.3, \n",
    "    'max_depth': 6,\n",
    "    'min_child_weight': 1,\n",
    "    \n",
    "    'objective': 'reg:squarederror',\n",
    "    'nthread': 8,\n",
    "    \n",
    "    'seed': 1,\n",
    "    'verbosity': 1,\n",
    "}\n",
    "```\n",
    "\n",
    "Now change `eta` from `0.3` to `0.1`.\n",
    "\n",
    "Which eta leads to the best RMSE score on the validation dataset?\n",
    "\n",
    "* <mark>0.3</mark>\n",
    "* 0.1\n",
    "* Both give equal value"
   ]
  },
  {
   "cell_type": "code",
   "execution_count": 87,
   "id": "b4d394e8-83a8-42c8-9b82-39f08cc57418",
   "metadata": {},
   "outputs": [
    {
     "data": {
      "text/plain": [
       "['households',\n",
       " 'housing_median_age',\n",
       " 'latitude',\n",
       " 'longitude',\n",
       " 'median_income',\n",
       " 'ocean_proximity=<1h_ocean',\n",
       " 'ocean_proximity=inland',\n",
       " 'population',\n",
       " 'total_bedrooms',\n",
       " 'total_rooms']"
      ]
     },
     "execution_count": 87,
     "metadata": {},
     "output_type": "execute_result"
    }
   ],
   "source": [
    "list(dv.get_feature_names_out())"
   ]
  },
  {
   "cell_type": "code",
   "execution_count": 91,
   "id": "573fdcf5-ba37-4b06-9788-856a31309e83",
   "metadata": {},
   "outputs": [
    {
     "name": "stdout",
     "output_type": "stream",
     "text": [
      "['households', 'housing_median_age', 'latitude', 'longitude', 'median_income', 'ocean_proximity_1h_ocean', 'ocean_proximity_inland', 'population', 'total_bedrooms', 'total_rooms']\n"
     ]
    }
   ],
   "source": [
    "features = list(dv.get_feature_names_out())\n",
    "features= [i.replace(\"=<\", \"_\").replace(\"=\",\"_\") for i in features]\n",
    "print(features)"
   ]
  },
  {
   "cell_type": "code",
   "execution_count": 92,
   "id": "410ca9d7-43a7-4e09-ad0f-e77fd3187ebb",
   "metadata": {},
   "outputs": [],
   "source": [
    "dtrain = xgb.DMatrix(X_train, label = y_train, feature_names=features)\n",
    "dval = xgb.DMatrix(X_val, label = y_val, feature_names=features)"
   ]
  },
  {
   "cell_type": "code",
   "execution_count": 93,
   "id": "0c5691c2-831c-4aa4-93c6-f03ed7e2eeda",
   "metadata": {},
   "outputs": [],
   "source": [
    "watchlist = [(dtrain, 'train'), (dval, 'val')]"
   ]
  },
  {
   "cell_type": "code",
   "execution_count": 94,
   "id": "a36a7cf0-ebb7-443f-affa-dfb1b7de8eeb",
   "metadata": {},
   "outputs": [
    {
     "name": "stdout",
     "output_type": "stream",
     "text": [
      "[0]\ttrain-rmse:0.44350\tval-rmse:0.44250\n",
      "[1]\ttrain-rmse:0.36599\tval-rmse:0.36916\n",
      "[2]\ttrain-rmse:0.31556\tval-rmse:0.32382\n",
      "[3]\ttrain-rmse:0.28541\tval-rmse:0.29965\n",
      "[4]\ttrain-rmse:0.26573\tval-rmse:0.28417\n",
      "[5]\ttrain-rmse:0.25338\tval-rmse:0.27463\n",
      "[6]\ttrain-rmse:0.24157\tval-rmse:0.26770\n",
      "[7]\ttrain-rmse:0.23486\tval-rmse:0.26423\n",
      "[8]\ttrain-rmse:0.22668\tval-rmse:0.25820\n",
      "[9]\ttrain-rmse:0.21995\tval-rmse:0.25444\n",
      "[10]\ttrain-rmse:0.21444\tval-rmse:0.25179\n",
      "[11]\ttrain-rmse:0.21155\tval-rmse:0.25054\n",
      "[12]\ttrain-rmse:0.20729\tval-rmse:0.24791\n",
      "[13]\ttrain-rmse:0.20317\tval-rmse:0.24628\n",
      "[14]\ttrain-rmse:0.20135\tval-rmse:0.24630\n",
      "[15]\ttrain-rmse:0.19858\tval-rmse:0.24522\n",
      "[16]\ttrain-rmse:0.19580\tval-rmse:0.24445\n",
      "[17]\ttrain-rmse:0.19333\tval-rmse:0.24395\n",
      "[18]\ttrain-rmse:0.19107\tval-rmse:0.24284\n",
      "[19]\ttrain-rmse:0.18735\tval-rmse:0.24127\n",
      "[20]\ttrain-rmse:0.18524\tval-rmse:0.23978\n",
      "[21]\ttrain-rmse:0.18332\tval-rmse:0.23963\n",
      "[22]\ttrain-rmse:0.18189\tval-rmse:0.23892\n",
      "[23]\ttrain-rmse:0.18006\tval-rmse:0.23847\n",
      "[24]\ttrain-rmse:0.17869\tval-rmse:0.23847\n",
      "[25]\ttrain-rmse:0.17757\tval-rmse:0.23830\n",
      "[26]\ttrain-rmse:0.17520\tval-rmse:0.23862\n",
      "[27]\ttrain-rmse:0.17430\tval-rmse:0.23807\n",
      "[28]\ttrain-rmse:0.17281\tval-rmse:0.23793\n",
      "[29]\ttrain-rmse:0.17091\tval-rmse:0.23683\n",
      "[30]\ttrain-rmse:0.16888\tval-rmse:0.23570\n",
      "[31]\ttrain-rmse:0.16727\tval-rmse:0.23505\n",
      "[32]\ttrain-rmse:0.16553\tval-rmse:0.23494\n",
      "[33]\ttrain-rmse:0.16453\tval-rmse:0.23476\n",
      "[34]\ttrain-rmse:0.16292\tval-rmse:0.23490\n",
      "[35]\ttrain-rmse:0.16113\tval-rmse:0.23416\n",
      "[36]\ttrain-rmse:0.15969\tval-rmse:0.23402\n",
      "[37]\ttrain-rmse:0.15859\tval-rmse:0.23362\n",
      "[38]\ttrain-rmse:0.15726\tval-rmse:0.23393\n",
      "[39]\ttrain-rmse:0.15663\tval-rmse:0.23383\n",
      "[40]\ttrain-rmse:0.15542\tval-rmse:0.23318\n",
      "[41]\ttrain-rmse:0.15426\tval-rmse:0.23300\n",
      "[42]\ttrain-rmse:0.15289\tval-rmse:0.23266\n",
      "[43]\ttrain-rmse:0.15189\tval-rmse:0.23252\n",
      "[44]\ttrain-rmse:0.15092\tval-rmse:0.23252\n",
      "[45]\ttrain-rmse:0.14941\tval-rmse:0.23190\n",
      "[46]\ttrain-rmse:0.14856\tval-rmse:0.23178\n",
      "[47]\ttrain-rmse:0.14742\tval-rmse:0.23183\n",
      "[48]\ttrain-rmse:0.14683\tval-rmse:0.23198\n",
      "[49]\ttrain-rmse:0.14629\tval-rmse:0.23206\n",
      "[50]\ttrain-rmse:0.14536\tval-rmse:0.23225\n",
      "[51]\ttrain-rmse:0.14450\tval-rmse:0.23225\n",
      "[52]\ttrain-rmse:0.14353\tval-rmse:0.23223\n",
      "[53]\ttrain-rmse:0.14276\tval-rmse:0.23199\n",
      "[54]\ttrain-rmse:0.14180\tval-rmse:0.23194\n",
      "[55]\ttrain-rmse:0.14150\tval-rmse:0.23197\n",
      "[56]\ttrain-rmse:0.14085\tval-rmse:0.23189\n",
      "[57]\ttrain-rmse:0.14020\tval-rmse:0.23177\n",
      "[58]\ttrain-rmse:0.13931\tval-rmse:0.23175\n",
      "[59]\ttrain-rmse:0.13816\tval-rmse:0.23148\n",
      "[60]\ttrain-rmse:0.13719\tval-rmse:0.23139\n",
      "[61]\ttrain-rmse:0.13640\tval-rmse:0.23179\n",
      "[62]\ttrain-rmse:0.13566\tval-rmse:0.23160\n",
      "[63]\ttrain-rmse:0.13439\tval-rmse:0.23151\n",
      "[64]\ttrain-rmse:0.13358\tval-rmse:0.23153\n",
      "[65]\ttrain-rmse:0.13259\tval-rmse:0.23158\n",
      "[66]\ttrain-rmse:0.13197\tval-rmse:0.23144\n",
      "[67]\ttrain-rmse:0.13175\tval-rmse:0.23148\n",
      "[68]\ttrain-rmse:0.13117\tval-rmse:0.23148\n",
      "[69]\ttrain-rmse:0.13046\tval-rmse:0.23137\n",
      "[70]\ttrain-rmse:0.12943\tval-rmse:0.23068\n",
      "[71]\ttrain-rmse:0.12894\tval-rmse:0.23064\n",
      "[72]\ttrain-rmse:0.12854\tval-rmse:0.23082\n",
      "[73]\ttrain-rmse:0.12741\tval-rmse:0.23059\n",
      "[74]\ttrain-rmse:0.12635\tval-rmse:0.23048\n",
      "[75]\ttrain-rmse:0.12555\tval-rmse:0.23039\n",
      "[76]\ttrain-rmse:0.12395\tval-rmse:0.22935\n",
      "[77]\ttrain-rmse:0.12342\tval-rmse:0.22941\n",
      "[78]\ttrain-rmse:0.12255\tval-rmse:0.22913\n",
      "[79]\ttrain-rmse:0.12220\tval-rmse:0.22889\n",
      "[80]\ttrain-rmse:0.12192\tval-rmse:0.22886\n",
      "[81]\ttrain-rmse:0.12126\tval-rmse:0.22903\n",
      "[82]\ttrain-rmse:0.12056\tval-rmse:0.22891\n",
      "[83]\ttrain-rmse:0.11995\tval-rmse:0.22885\n",
      "[84]\ttrain-rmse:0.11922\tval-rmse:0.22893\n",
      "[85]\ttrain-rmse:0.11854\tval-rmse:0.22888\n",
      "[86]\ttrain-rmse:0.11781\tval-rmse:0.22899\n",
      "[87]\ttrain-rmse:0.11692\tval-rmse:0.22908\n",
      "[88]\ttrain-rmse:0.11613\tval-rmse:0.22905\n",
      "[89]\ttrain-rmse:0.11557\tval-rmse:0.22886\n",
      "[90]\ttrain-rmse:0.11496\tval-rmse:0.22861\n",
      "[91]\ttrain-rmse:0.11461\tval-rmse:0.22874\n",
      "[92]\ttrain-rmse:0.11386\tval-rmse:0.22887\n",
      "[93]\ttrain-rmse:0.11342\tval-rmse:0.22895\n",
      "[94]\ttrain-rmse:0.11281\tval-rmse:0.22904\n",
      "[95]\ttrain-rmse:0.11211\tval-rmse:0.22908\n",
      "[96]\ttrain-rmse:0.11139\tval-rmse:0.22875\n",
      "[97]\ttrain-rmse:0.11089\tval-rmse:0.22864\n",
      "[98]\ttrain-rmse:0.11041\tval-rmse:0.22868\n",
      "[99]\ttrain-rmse:0.10989\tval-rmse:0.22862\n"
     ]
    }
   ],
   "source": [
    "xgb_params = {\n",
    "    'eta': 0.3,\n",
    "    'max_depth': 6,\n",
    "    'min_child_weight': 1,\n",
    "\n",
    "    'objective': 'reg:squarederror',\n",
    "    'nthread': 8,\n",
    "\n",
    "    'seed': 1,\n",
    "    'verbosity': 1,\n",
    "}\n",
    "\n",
    "model = xgb.train(xgb_params, dtrain, num_boost_round=100, evals=watchlist)"
   ]
  },
  {
   "cell_type": "code",
   "execution_count": 95,
   "id": "26214623-a7ac-44d6-8550-7cd01855e41d",
   "metadata": {},
   "outputs": [
    {
     "data": {
      "text/plain": [
       "0.229"
      ]
     },
     "execution_count": 95,
     "metadata": {},
     "output_type": "execute_result"
    }
   ],
   "source": [
    "y_pred = model.predict(dval)\n",
    "score = round(rmse(y_val, y_pred), 3)\n",
    "score"
   ]
  },
  {
   "cell_type": "code",
   "execution_count": 96,
   "id": "387423a6-f16e-425a-bba9-9d89f43fe857",
   "metadata": {},
   "outputs": [
    {
     "name": "stdout",
     "output_type": "stream",
     "text": [
      "[0]\ttrain-rmse:0.52449\tval-rmse:0.52045\n",
      "[1]\ttrain-rmse:0.48736\tval-rmse:0.48443\n",
      "[2]\ttrain-rmse:0.45433\tval-rmse:0.45293\n",
      "[3]\ttrain-rmse:0.42533\tval-rmse:0.42550\n",
      "[4]\ttrain-rmse:0.39987\tval-rmse:0.40144\n",
      "[5]\ttrain-rmse:0.37822\tval-rmse:0.38151\n",
      "[6]\ttrain-rmse:0.35887\tval-rmse:0.36393\n",
      "[7]\ttrain-rmse:0.34177\tval-rmse:0.34838\n",
      "[8]\ttrain-rmse:0.32701\tval-rmse:0.33492\n",
      "[9]\ttrain-rmse:0.31411\tval-rmse:0.32333\n",
      "[10]\ttrain-rmse:0.30326\tval-rmse:0.31427\n",
      "[11]\ttrain-rmse:0.29355\tval-rmse:0.30615\n",
      "[12]\ttrain-rmse:0.28519\tval-rmse:0.29922\n",
      "[13]\ttrain-rmse:0.27760\tval-rmse:0.29269\n",
      "[14]\ttrain-rmse:0.27116\tval-rmse:0.28796\n",
      "[15]\ttrain-rmse:0.26538\tval-rmse:0.28380\n",
      "[16]\ttrain-rmse:0.26012\tval-rmse:0.27970\n",
      "[17]\ttrain-rmse:0.25583\tval-rmse:0.27661\n",
      "[18]\ttrain-rmse:0.25203\tval-rmse:0.27388\n",
      "[19]\ttrain-rmse:0.24818\tval-rmse:0.27123\n",
      "[20]\ttrain-rmse:0.24512\tval-rmse:0.26882\n",
      "[21]\ttrain-rmse:0.24149\tval-rmse:0.26669\n",
      "[22]\ttrain-rmse:0.23895\tval-rmse:0.26478\n",
      "[23]\ttrain-rmse:0.23594\tval-rmse:0.26331\n",
      "[24]\ttrain-rmse:0.23305\tval-rmse:0.26141\n",
      "[25]\ttrain-rmse:0.23026\tval-rmse:0.25997\n",
      "[26]\ttrain-rmse:0.22720\tval-rmse:0.25799\n",
      "[27]\ttrain-rmse:0.22487\tval-rmse:0.25620\n",
      "[28]\ttrain-rmse:0.22268\tval-rmse:0.25494\n",
      "[29]\ttrain-rmse:0.22084\tval-rmse:0.25374\n",
      "[30]\ttrain-rmse:0.21887\tval-rmse:0.25266\n",
      "[31]\ttrain-rmse:0.21709\tval-rmse:0.25172\n",
      "[32]\ttrain-rmse:0.21505\tval-rmse:0.25075\n",
      "[33]\ttrain-rmse:0.21342\tval-rmse:0.24991\n",
      "[34]\ttrain-rmse:0.21168\tval-rmse:0.24882\n",
      "[35]\ttrain-rmse:0.21020\tval-rmse:0.24826\n",
      "[36]\ttrain-rmse:0.20878\tval-rmse:0.24779\n",
      "[37]\ttrain-rmse:0.20755\tval-rmse:0.24731\n",
      "[38]\ttrain-rmse:0.20625\tval-rmse:0.24668\n",
      "[39]\ttrain-rmse:0.20518\tval-rmse:0.24624\n",
      "[40]\ttrain-rmse:0.20392\tval-rmse:0.24539\n",
      "[41]\ttrain-rmse:0.20285\tval-rmse:0.24501\n",
      "[42]\ttrain-rmse:0.20172\tval-rmse:0.24435\n",
      "[43]\ttrain-rmse:0.20045\tval-rmse:0.24380\n",
      "[44]\ttrain-rmse:0.19900\tval-rmse:0.24311\n",
      "[45]\ttrain-rmse:0.19814\tval-rmse:0.24293\n",
      "[46]\ttrain-rmse:0.19628\tval-rmse:0.24184\n",
      "[47]\ttrain-rmse:0.19561\tval-rmse:0.24159\n",
      "[48]\ttrain-rmse:0.19464\tval-rmse:0.24131\n",
      "[49]\ttrain-rmse:0.19371\tval-rmse:0.24109\n",
      "[50]\ttrain-rmse:0.19215\tval-rmse:0.24020\n",
      "[51]\ttrain-rmse:0.19156\tval-rmse:0.24015\n",
      "[52]\ttrain-rmse:0.19059\tval-rmse:0.23979\n",
      "[53]\ttrain-rmse:0.18985\tval-rmse:0.23958\n",
      "[54]\ttrain-rmse:0.18931\tval-rmse:0.23930\n",
      "[55]\ttrain-rmse:0.18809\tval-rmse:0.23878\n",
      "[56]\ttrain-rmse:0.18734\tval-rmse:0.23853\n",
      "[57]\ttrain-rmse:0.18681\tval-rmse:0.23849\n",
      "[58]\ttrain-rmse:0.18623\tval-rmse:0.23836\n",
      "[59]\ttrain-rmse:0.18561\tval-rmse:0.23835\n",
      "[60]\ttrain-rmse:0.18457\tval-rmse:0.23791\n",
      "[61]\ttrain-rmse:0.18363\tval-rmse:0.23783\n",
      "[62]\ttrain-rmse:0.18310\tval-rmse:0.23788\n",
      "[63]\ttrain-rmse:0.18209\tval-rmse:0.23755\n",
      "[64]\ttrain-rmse:0.18150\tval-rmse:0.23735\n",
      "[65]\ttrain-rmse:0.18063\tval-rmse:0.23698\n",
      "[66]\ttrain-rmse:0.17998\tval-rmse:0.23681\n",
      "[67]\ttrain-rmse:0.17913\tval-rmse:0.23646\n",
      "[68]\ttrain-rmse:0.17843\tval-rmse:0.23628\n",
      "[69]\ttrain-rmse:0.17798\tval-rmse:0.23627\n",
      "[70]\ttrain-rmse:0.17741\tval-rmse:0.23622\n",
      "[71]\ttrain-rmse:0.17685\tval-rmse:0.23607\n",
      "[72]\ttrain-rmse:0.17617\tval-rmse:0.23584\n",
      "[73]\ttrain-rmse:0.17557\tval-rmse:0.23562\n",
      "[74]\ttrain-rmse:0.17522\tval-rmse:0.23537\n",
      "[75]\ttrain-rmse:0.17468\tval-rmse:0.23510\n",
      "[76]\ttrain-rmse:0.17432\tval-rmse:0.23503\n",
      "[77]\ttrain-rmse:0.17395\tval-rmse:0.23494\n",
      "[78]\ttrain-rmse:0.17334\tval-rmse:0.23482\n",
      "[79]\ttrain-rmse:0.17287\tval-rmse:0.23467\n",
      "[80]\ttrain-rmse:0.17242\tval-rmse:0.23453\n",
      "[81]\ttrain-rmse:0.17213\tval-rmse:0.23447\n",
      "[82]\ttrain-rmse:0.17139\tval-rmse:0.23431\n",
      "[83]\ttrain-rmse:0.17105\tval-rmse:0.23428\n",
      "[84]\ttrain-rmse:0.17063\tval-rmse:0.23413\n",
      "[85]\ttrain-rmse:0.17014\tval-rmse:0.23404\n",
      "[86]\ttrain-rmse:0.16966\tval-rmse:0.23401\n",
      "[87]\ttrain-rmse:0.16916\tval-rmse:0.23388\n",
      "[88]\ttrain-rmse:0.16882\tval-rmse:0.23364\n",
      "[89]\ttrain-rmse:0.16835\tval-rmse:0.23339\n",
      "[90]\ttrain-rmse:0.16797\tval-rmse:0.23332\n",
      "[91]\ttrain-rmse:0.16756\tval-rmse:0.23330\n",
      "[92]\ttrain-rmse:0.16707\tval-rmse:0.23298\n",
      "[93]\ttrain-rmse:0.16623\tval-rmse:0.23273\n",
      "[94]\ttrain-rmse:0.16586\tval-rmse:0.23279\n",
      "[95]\ttrain-rmse:0.16562\tval-rmse:0.23276\n",
      "[96]\ttrain-rmse:0.16524\tval-rmse:0.23266\n",
      "[97]\ttrain-rmse:0.16444\tval-rmse:0.23246\n",
      "[98]\ttrain-rmse:0.16383\tval-rmse:0.23222\n",
      "[99]\ttrain-rmse:0.16323\tval-rmse:0.23209\n"
     ]
    }
   ],
   "source": [
    "xgb_params = {\n",
    "    'eta': 0.1,\n",
    "    'max_depth': 6,\n",
    "    'min_child_weight': 1,\n",
    "\n",
    "    'objective': 'reg:squarederror',\n",
    "    'nthread': 8,\n",
    "\n",
    "    'seed': 1,\n",
    "    'verbosity': 1,\n",
    "}\n",
    "\n",
    "model = xgb.train(xgb_params, dtrain, num_boost_round=100, evals=watchlist)"
   ]
  },
  {
   "cell_type": "code",
   "execution_count": 97,
   "id": "1fdaea52-ac86-4f25-bf7b-850ab152cc23",
   "metadata": {},
   "outputs": [
    {
     "data": {
      "text/plain": [
       "0.232"
      ]
     },
     "execution_count": 97,
     "metadata": {},
     "output_type": "execute_result"
    }
   ],
   "source": [
    "y_pred = model.predict(dval)\n",
    "score = round(rmse(y_val, y_pred), 3)\n",
    "score"
   ]
  }
 ],
 "metadata": {
  "kernelspec": {
   "display_name": "Python 3 (ipykernel)",
   "language": "python",
   "name": "python3"
  },
  "language_info": {
   "codemirror_mode": {
    "name": "ipython",
    "version": 3
   },
   "file_extension": ".py",
   "mimetype": "text/x-python",
   "name": "python",
   "nbconvert_exporter": "python",
   "pygments_lexer": "ipython3",
   "version": "3.11.1"
  }
 },
 "nbformat": 4,
 "nbformat_minor": 5
}
