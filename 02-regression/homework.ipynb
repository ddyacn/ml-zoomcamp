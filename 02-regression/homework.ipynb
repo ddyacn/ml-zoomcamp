{
 "cells": [
  {
   "cell_type": "markdown",
   "id": "5a5ea7a3-a12f-48f1-ab3e-7ccfd69f5834",
   "metadata": {},
   "source": [
    "https://github.com/DataTalksClub/machine-learning-zoomcamp/blob/master/cohorts/2023/02-regression/homework.md\n",
    "\n",
    "The goal of this homework is to create a regression model for predicting housing prices (column '**median_house_value**')."
   ]
  },
  {
   "cell_type": "code",
   "execution_count": 380,
   "id": "e834de96-07ad-40af-b1d9-d3116f69b0d0",
   "metadata": {},
   "outputs": [],
   "source": [
    "import pandas as pd\n",
    "import numpy as np\n",
    "\n",
    "import matplotlib.pyplot as plt\n",
    "import seaborn as sns"
   ]
  },
  {
   "cell_type": "code",
   "execution_count": 381,
   "id": "6ffddd31-87d6-43fb-a84c-0633f50b2522",
   "metadata": {},
   "outputs": [],
   "source": [
    "def load_housing_data():\n",
    "    return pd.read_csv('housing.csv')"
   ]
  },
  {
   "cell_type": "code",
   "execution_count": 382,
   "id": "830de5f2-d0c9-4bbc-92fb-1bb88c43c5ef",
   "metadata": {},
   "outputs": [
    {
     "data": {
      "text/html": [
       "<div>\n",
       "<style scoped>\n",
       "    .dataframe tbody tr th:only-of-type {\n",
       "        vertical-align: middle;\n",
       "    }\n",
       "\n",
       "    .dataframe tbody tr th {\n",
       "        vertical-align: top;\n",
       "    }\n",
       "\n",
       "    .dataframe thead th {\n",
       "        text-align: right;\n",
       "    }\n",
       "</style>\n",
       "<table border=\"1\" class=\"dataframe\">\n",
       "  <thead>\n",
       "    <tr style=\"text-align: right;\">\n",
       "      <th></th>\n",
       "      <th>longitude</th>\n",
       "      <th>latitude</th>\n",
       "      <th>housing_median_age</th>\n",
       "      <th>total_rooms</th>\n",
       "      <th>total_bedrooms</th>\n",
       "      <th>population</th>\n",
       "      <th>households</th>\n",
       "      <th>median_income</th>\n",
       "      <th>median_house_value</th>\n",
       "      <th>ocean_proximity</th>\n",
       "    </tr>\n",
       "  </thead>\n",
       "  <tbody>\n",
       "    <tr>\n",
       "      <th>0</th>\n",
       "      <td>-122.23</td>\n",
       "      <td>37.88</td>\n",
       "      <td>41.0</td>\n",
       "      <td>880.0</td>\n",
       "      <td>129.0</td>\n",
       "      <td>322.0</td>\n",
       "      <td>126.0</td>\n",
       "      <td>8.3252</td>\n",
       "      <td>452600.0</td>\n",
       "      <td>NEAR BAY</td>\n",
       "    </tr>\n",
       "    <tr>\n",
       "      <th>1</th>\n",
       "      <td>-122.22</td>\n",
       "      <td>37.86</td>\n",
       "      <td>21.0</td>\n",
       "      <td>7099.0</td>\n",
       "      <td>1106.0</td>\n",
       "      <td>2401.0</td>\n",
       "      <td>1138.0</td>\n",
       "      <td>8.3014</td>\n",
       "      <td>358500.0</td>\n",
       "      <td>NEAR BAY</td>\n",
       "    </tr>\n",
       "    <tr>\n",
       "      <th>2</th>\n",
       "      <td>-122.24</td>\n",
       "      <td>37.85</td>\n",
       "      <td>52.0</td>\n",
       "      <td>1467.0</td>\n",
       "      <td>190.0</td>\n",
       "      <td>496.0</td>\n",
       "      <td>177.0</td>\n",
       "      <td>7.2574</td>\n",
       "      <td>352100.0</td>\n",
       "      <td>NEAR BAY</td>\n",
       "    </tr>\n",
       "    <tr>\n",
       "      <th>3</th>\n",
       "      <td>-122.25</td>\n",
       "      <td>37.85</td>\n",
       "      <td>52.0</td>\n",
       "      <td>1274.0</td>\n",
       "      <td>235.0</td>\n",
       "      <td>558.0</td>\n",
       "      <td>219.0</td>\n",
       "      <td>5.6431</td>\n",
       "      <td>341300.0</td>\n",
       "      <td>NEAR BAY</td>\n",
       "    </tr>\n",
       "    <tr>\n",
       "      <th>4</th>\n",
       "      <td>-122.25</td>\n",
       "      <td>37.85</td>\n",
       "      <td>52.0</td>\n",
       "      <td>1627.0</td>\n",
       "      <td>280.0</td>\n",
       "      <td>565.0</td>\n",
       "      <td>259.0</td>\n",
       "      <td>3.8462</td>\n",
       "      <td>342200.0</td>\n",
       "      <td>NEAR BAY</td>\n",
       "    </tr>\n",
       "  </tbody>\n",
       "</table>\n",
       "</div>"
      ],
      "text/plain": [
       "   longitude  latitude  housing_median_age  total_rooms  total_bedrooms  \\\n",
       "0    -122.23     37.88                41.0        880.0           129.0   \n",
       "1    -122.22     37.86                21.0       7099.0          1106.0   \n",
       "2    -122.24     37.85                52.0       1467.0           190.0   \n",
       "3    -122.25     37.85                52.0       1274.0           235.0   \n",
       "4    -122.25     37.85                52.0       1627.0           280.0   \n",
       "\n",
       "   population  households  median_income  median_house_value ocean_proximity  \n",
       "0       322.0       126.0         8.3252            452600.0        NEAR BAY  \n",
       "1      2401.0      1138.0         8.3014            358500.0        NEAR BAY  \n",
       "2       496.0       177.0         7.2574            352100.0        NEAR BAY  \n",
       "3       558.0       219.0         5.6431            341300.0        NEAR BAY  \n",
       "4       565.0       259.0         3.8462            342200.0        NEAR BAY  "
      ]
     },
     "execution_count": 382,
     "metadata": {},
     "output_type": "execute_result"
    }
   ],
   "source": [
    "df_raw = load_housing_data()\n",
    "df_raw.head()"
   ]
  },
  {
   "cell_type": "markdown",
   "id": "551da8c0-d68f-4e75-a5e8-01768bebc693",
   "metadata": {},
   "source": [
    "##### **Keep only the records where ocean_proximity is either '<1H OCEAN' or 'INLAND'**"
   ]
  },
  {
   "cell_type": "code",
   "execution_count": 383,
   "id": "40e62c70-88a8-4840-95a3-eff0aea6752c",
   "metadata": {},
   "outputs": [],
   "source": [
    "def filter_ocean_proximity_records(df):\n",
    "    return df[(df.ocean_proximity == '<1H OCEAN') | (df.ocean_proximity == 'INLAND')]    "
   ]
  },
  {
   "cell_type": "code",
   "execution_count": 384,
   "id": "34f04372-0394-497d-8a03-564befe8b364",
   "metadata": {},
   "outputs": [
    {
     "data": {
      "text/plain": [
       "array(['<1H OCEAN', 'INLAND'], dtype=object)"
      ]
     },
     "execution_count": 384,
     "metadata": {},
     "output_type": "execute_result"
    }
   ],
   "source": [
    "df = filter_ocean_proximity_records(df_raw)\n",
    "df.ocean_proximity.unique()"
   ]
  },
  {
   "cell_type": "markdown",
   "id": "e83cc864-1ca7-4df1-83ef-9990707f0c88",
   "metadata": {},
   "source": [
    "##### **Data preparation**"
   ]
  },
  {
   "cell_type": "code",
   "execution_count": 385,
   "id": "b1a0bdac-560a-4437-8fd7-91dc20ad0522",
   "metadata": {},
   "outputs": [],
   "source": [
    "def prepare_columns_names(df):\n",
    "    data = df.copy()\n",
    "    data.columns = data.columns.str.lower().str.replace(' ', '_')\n",
    "    return data"
   ]
  },
  {
   "cell_type": "code",
   "execution_count": 386,
   "id": "cc49101a-4a9e-4eb4-85dc-31be18eda8f3",
   "metadata": {},
   "outputs": [],
   "source": [
    "def prepare_string_column_values(df):\n",
    "    data = df.copy()\n",
    "    strings = list(data.dtypes[data.dtypes == 'object'].index)\n",
    "\n",
    "    for col in strings:\n",
    "        data[col] = data[col].str.lower().str.replace(' ', '_')\n",
    "    \n",
    "    return data"
   ]
  },
  {
   "cell_type": "code",
   "execution_count": 387,
   "id": "120a63f8-f262-4ad7-a6e3-b177e6ec68cc",
   "metadata": {},
   "outputs": [
    {
     "data": {
      "text/html": [
       "<div>\n",
       "<style scoped>\n",
       "    .dataframe tbody tr th:only-of-type {\n",
       "        vertical-align: middle;\n",
       "    }\n",
       "\n",
       "    .dataframe tbody tr th {\n",
       "        vertical-align: top;\n",
       "    }\n",
       "\n",
       "    .dataframe thead th {\n",
       "        text-align: right;\n",
       "    }\n",
       "</style>\n",
       "<table border=\"1\" class=\"dataframe\">\n",
       "  <thead>\n",
       "    <tr style=\"text-align: right;\">\n",
       "      <th></th>\n",
       "      <th>longitude</th>\n",
       "      <th>latitude</th>\n",
       "      <th>housing_median_age</th>\n",
       "      <th>total_rooms</th>\n",
       "      <th>total_bedrooms</th>\n",
       "      <th>population</th>\n",
       "      <th>households</th>\n",
       "      <th>median_income</th>\n",
       "      <th>median_house_value</th>\n",
       "      <th>ocean_proximity</th>\n",
       "    </tr>\n",
       "  </thead>\n",
       "  <tbody>\n",
       "    <tr>\n",
       "      <th>701</th>\n",
       "      <td>-121.97</td>\n",
       "      <td>37.64</td>\n",
       "      <td>32.0</td>\n",
       "      <td>1283.0</td>\n",
       "      <td>194.0</td>\n",
       "      <td>485.0</td>\n",
       "      <td>171.0</td>\n",
       "      <td>6.0574</td>\n",
       "      <td>431000.0</td>\n",
       "      <td>&lt;1h_ocean</td>\n",
       "    </tr>\n",
       "    <tr>\n",
       "      <th>830</th>\n",
       "      <td>-121.99</td>\n",
       "      <td>37.61</td>\n",
       "      <td>9.0</td>\n",
       "      <td>3666.0</td>\n",
       "      <td>711.0</td>\n",
       "      <td>2341.0</td>\n",
       "      <td>703.0</td>\n",
       "      <td>4.6458</td>\n",
       "      <td>217000.0</td>\n",
       "      <td>&lt;1h_ocean</td>\n",
       "    </tr>\n",
       "    <tr>\n",
       "      <th>859</th>\n",
       "      <td>-121.97</td>\n",
       "      <td>37.57</td>\n",
       "      <td>21.0</td>\n",
       "      <td>4342.0</td>\n",
       "      <td>783.0</td>\n",
       "      <td>2172.0</td>\n",
       "      <td>789.0</td>\n",
       "      <td>4.6146</td>\n",
       "      <td>247600.0</td>\n",
       "      <td>&lt;1h_ocean</td>\n",
       "    </tr>\n",
       "    <tr>\n",
       "      <th>860</th>\n",
       "      <td>-121.96</td>\n",
       "      <td>37.58</td>\n",
       "      <td>15.0</td>\n",
       "      <td>3575.0</td>\n",
       "      <td>597.0</td>\n",
       "      <td>1777.0</td>\n",
       "      <td>559.0</td>\n",
       "      <td>5.7192</td>\n",
       "      <td>283500.0</td>\n",
       "      <td>&lt;1h_ocean</td>\n",
       "    </tr>\n",
       "    <tr>\n",
       "      <th>861</th>\n",
       "      <td>-121.98</td>\n",
       "      <td>37.58</td>\n",
       "      <td>20.0</td>\n",
       "      <td>4126.0</td>\n",
       "      <td>1031.0</td>\n",
       "      <td>2079.0</td>\n",
       "      <td>975.0</td>\n",
       "      <td>3.6832</td>\n",
       "      <td>216900.0</td>\n",
       "      <td>&lt;1h_ocean</td>\n",
       "    </tr>\n",
       "  </tbody>\n",
       "</table>\n",
       "</div>"
      ],
      "text/plain": [
       "     longitude  latitude  housing_median_age  total_rooms  total_bedrooms  \\\n",
       "701    -121.97     37.64                32.0       1283.0           194.0   \n",
       "830    -121.99     37.61                 9.0       3666.0           711.0   \n",
       "859    -121.97     37.57                21.0       4342.0           783.0   \n",
       "860    -121.96     37.58                15.0       3575.0           597.0   \n",
       "861    -121.98     37.58                20.0       4126.0          1031.0   \n",
       "\n",
       "     population  households  median_income  median_house_value ocean_proximity  \n",
       "701       485.0       171.0         6.0574            431000.0       <1h_ocean  \n",
       "830      2341.0       703.0         4.6458            217000.0       <1h_ocean  \n",
       "859      2172.0       789.0         4.6146            247600.0       <1h_ocean  \n",
       "860      1777.0       559.0         5.7192            283500.0       <1h_ocean  \n",
       "861      2079.0       975.0         3.6832            216900.0       <1h_ocean  "
      ]
     },
     "execution_count": 387,
     "metadata": {},
     "output_type": "execute_result"
    }
   ],
   "source": [
    "df = prepare_columns_names(df)\n",
    "df = prepare_string_column_values(df)\n",
    "df.head()"
   ]
  },
  {
   "cell_type": "markdown",
   "id": "2f1e461c-e598-480e-bf53-a9633544c1d7",
   "metadata": {},
   "source": [
    "##### **Exploratory data analysis**"
   ]
  },
  {
   "cell_type": "code",
   "execution_count": 372,
   "id": "ce663259-505c-474c-9682-96c04e436e21",
   "metadata": {},
   "outputs": [
    {
     "data": {
      "text/plain": [
       "<AxesSubplot: xlabel='median_house_value', ylabel='Count'>"
      ]
     },
     "execution_count": 372,
     "metadata": {},
     "output_type": "execute_result"
    },
    {
     "data": {
      "image/png": "[encoded data removed]",
      "text/plain": [
       "<Figure size 640x480 with 1 Axes>"
      ]
     },
     "metadata": {},
     "output_type": "display_data"
    }
   ],
   "source": [
    "sns.histplot(df.median_house_value, bins=50)"
   ]
  },
  {
   "cell_type": "code",
   "execution_count": 373,
   "id": "e7245646-0bf1-49a4-90b4-89fb8f6de111",
   "metadata": {},
   "outputs": [
    {
     "data": {
      "text/plain": [
       "<AxesSubplot: xlabel='median_house_value', ylabel='Count'>"
      ]
     },
     "execution_count": 373,
     "metadata": {},
     "output_type": "execute_result"
    },
    {
     "data": {
      "image/png": "[encoded data removed]",
      "text/plain": [
       "<Figure size 640x480 with 1 Axes>"
      ]
     },
     "metadata": {},
     "output_type": "display_data"
    }
   ],
   "source": [
    "sns.histplot(np.log1p(df.median_house_value), bins=50)"
   ]
  },
  {
   "cell_type": "markdown",
   "id": "56dc9163-ceb2-42db-997d-a51d44bc6f78",
   "metadata": {},
   "source": [
    "##### **Setting up the validation framework**\n",
    "\n",
    "* Shuffle the dataset (the filtered one you created above), use seed `42`.\n",
    "* Split your data in train/val/test sets, with 60%/20%/20% distribution.\n",
    "* Apply the log transformation to the `median_house_value` variable using the `np.log1p()` function."
   ]
  },
  {
   "cell_type": "code",
   "execution_count": 310,
   "id": "3119dcb3-7a59-4b49-befa-a866d45485fe",
   "metadata": {},
   "outputs": [],
   "source": [
    "def calculate_subset_lengths(df):\n",
    "    n = len(df)\n",
    "    \n",
    "    n_val = int(n * 0.2)       # 20%    \n",
    "    n_test = int(n * 0.2)      # 20%\n",
    "    n_train = n - nval - ntest # the rest\n",
    "\n",
    "    return n_train, n_val, n_test"
   ]
  },
  {
   "cell_type": "code",
   "execution_count": 343,
   "id": "550ba0fd-cad4-4e2b-94a9-63695851c501",
   "metadata": {},
   "outputs": [],
   "source": [
    "def split_into_train_val_test_subsets(df, seed=42):\n",
    "    n_train, n_val, n_test = calculate_subset_lengths(df)\n",
    "\n",
    "    # return evenly spaced values from 0 to n\n",
    "    idx = np.arange(len(df))\n",
    "    \n",
    "    # shuffle ids\n",
    "    np.random.seed(seed)\n",
    "    np.random.shuffle(idx)\n",
    "\n",
    "    # save subsets\n",
    "    df_train = df.iloc[idx[:n_train]]\n",
    "    df_val = df.iloc[idx[n_train:n_train + n_val]]\n",
    "    df_test = df.iloc[idx[n_train + n_val:]]\n",
    "\n",
    "    # reset index\n",
    "    df_train = df_train.reset_index(drop=True)\n",
    "    df_val = df_val.reset_index(drop=True)\n",
    "    df_test = df_test.reset_index(drop=True)\n",
    "    \n",
    "    return df_train, df_val, df_test"
   ]
  },
  {
   "cell_type": "code",
   "execution_count": 312,
   "id": "6afc2729-f621-4bd3-8e80-0a065d254c79",
   "metadata": {},
   "outputs": [],
   "source": [
    "def extract_train_val_test_y_values(df_train, df_val, df_test, y_column_name):\n",
    "    y_train = np.log1p(df_train[y_column_name].values)\n",
    "    y_val = np.log1p(df_val[y_column_name].values)\n",
    "    y_test = np.log1p(df_test[y_column_name].values)\n",
    "\n",
    "    del df_train[y_column_name]\n",
    "    del df_val[y_column_name]\n",
    "    del df_test[y_column_name]\n",
    "\n",
    "    return y_train, y_val, y_test"
   ]
  },
  {
   "cell_type": "code",
   "execution_count": 388,
   "id": "ec06b2dd-e1ca-4a43-a357-d680689d6d41",
   "metadata": {},
   "outputs": [],
   "source": [
    "def setup_validation_framework(df, y_column_name, seed=42):\n",
    "    # prepare data\n",
    "    df_raw = load_housing_data()\n",
    "    df = filter_ocean_proximity_records(df_raw)\n",
    "    df = prepare_columns_names(df)\n",
    "    df = prepare_string_column_values(df)\n",
    "    \n",
    "    # split into subsets\n",
    "    df_train, df_val, df_test = split_into_train_val_test_subsets(df, seed)\n",
    "    y_train, y_val, y_test = extract_train_val_test_y_values(df_train, df_val, df_test, y_column_name)\n",
    "\n",
    "    return df_train, df_val, df_test, y_train, y_val, y_test\n",
    "    "
   ]
  },
  {
   "cell_type": "markdown",
   "id": "ac340759-a58c-44d2-8111-71c8643c19b9",
   "metadata": {},
   "source": [
    "##### **Linear regression model**"
   ]
  },
  {
   "cell_type": "code",
   "execution_count": 243,
   "id": "a0a9f015-3285-492e-b985-674e57e9c77e",
   "metadata": {},
   "outputs": [],
   "source": [
    "def train_linear_regression(X, y):\n",
    "    ones = np.ones(X.shape[0])\n",
    "    X = np.column_stack([ones, X])\n",
    "\n",
    "    XTX = X.T.dot(X)\n",
    "    XTX_inv = np.linalg.inv(XTX)\n",
    "    w_full = XTX_inv.dot(X.T).dot(y)\n",
    "    \n",
    "    return w_full[0], w_full[1:]"
   ]
  },
  {
   "cell_type": "code",
   "execution_count": 288,
   "id": "9e14d167-2ff8-4bfa-8dfd-e909b7d03906",
   "metadata": {},
   "outputs": [],
   "source": [
    "def calc_prediction(X, w0, w):\n",
    "    return w0 + X.dot(w)"
   ]
  },
  {
   "cell_type": "markdown",
   "id": "f823d2aa-c367-4861-bc88-967b6d44768e",
   "metadata": {},
   "source": [
    "##### **Regularization**"
   ]
  },
  {
   "cell_type": "code",
   "execution_count": 265,
   "id": "2450aee1-ae5e-4cc6-ab43-53d1badf6b88",
   "metadata": {},
   "outputs": [],
   "source": [
    "def train_linear_regression_reg(X, y, r=0.001):\n",
    "    ones = np.ones(X.shape[0])\n",
    "    X = np.column_stack([ones, X])\n",
    "\n",
    "    XTX = X.T.dot(X)\n",
    "    XTX = XTX + r * np.eye(XTX.shape[0])\n",
    "\n",
    "    XTX_inv = np.linalg.inv(XTX)\n",
    "    w_full = XTX_inv.dot(X.T).dot(y)\n",
    "    \n",
    "    return w_full[0], w_full[1:]"
   ]
  },
  {
   "cell_type": "markdown",
   "id": "437f2671-1fe5-4db0-86b0-4f33c8a2a5e1",
   "metadata": {},
   "source": [
    "##### **Baseline model**"
   ]
  },
  {
   "cell_type": "code",
   "execution_count": 245,
   "id": "0e314bb9-4dd9-4676-a7d9-36df54ef7b08",
   "metadata": {},
   "outputs": [],
   "source": [
    "def prepare_X(df, base, fillna_value=0):    \n",
    "    df_num = df[base]\n",
    "    df_num = df_num.fillna(fillna_value)\n",
    "    X = df_num.values\n",
    "    return X"
   ]
  },
  {
   "cell_type": "markdown",
   "id": "269604da-ea46-4762-a285-4da60439bff5",
   "metadata": {},
   "source": [
    "##### **RMSE**"
   ]
  },
  {
   "cell_type": "code",
   "execution_count": 246,
   "id": "c522d241-9f02-432b-a4a3-f446a152748f",
   "metadata": {},
   "outputs": [],
   "source": [
    "def rmse(y, y_pred):\n",
    "    se = (y - y_pred) ** 2\n",
    "    mse = se.mean()\n",
    "    return np.sqrt(mse)"
   ]
  },
  {
   "cell_type": "markdown",
   "id": "b42d4ecf-b01e-432b-b727-1e2862208be6",
   "metadata": {},
   "source": [
    "***"
   ]
  },
  {
   "cell_type": "markdown",
   "id": "0c07bc9d-3150-4fca-837c-ead01cc47b26",
   "metadata": {},
   "source": []
  },
  {
   "cell_type": "markdown",
   "id": "875d55fe-507c-44e7-afce-c01330fb6ae3",
   "metadata": {},
   "source": [
    "### **Questions**"
   ]
  },
  {
   "cell_type": "markdown",
   "id": "033ca30d-1982-4a0d-86e0-f581f758af60",
   "metadata": {
    "jp-MarkdownHeadingCollapsed": true
   },
   "source": [
    "##### **Use only the following columns**:\n",
    "* `'latitude'`,\n",
    "* `'longitude'`,\n",
    "* `'housing_median_age'`,\n",
    "* `'total_rooms'`,\n",
    "* `'total_bedrooms'`,\n",
    "* `'population'`,\n",
    "* `'households'`,\n",
    "* `'median_income'`,\n",
    "* `'median_house_value'`"
   ]
  },
  {
   "cell_type": "code",
   "execution_count": 321,
   "id": "8da959fd-9e2f-4244-9d8e-c32ccce7b816",
   "metadata": {},
   "outputs": [],
   "source": [
    "base = [\n",
    "    'latitude', \n",
    "    'longitude', \n",
    "    'housing_median_age', \n",
    "    'total_rooms', \n",
    "    'total_bedrooms', \n",
    "    'population', \n",
    "    'households', \n",
    "    'median_income'\n",
    "]"
   ]
  },
  {
   "cell_type": "markdown",
   "id": "c62ae4f8-18f9-4ac3-a4e3-cf61e60e8909",
   "metadata": {},
   "source": [
    "##### **Question 1**\n",
    "There's one feature with missing values. What is it?\n",
    "\n",
    "* `total_rooms`\n",
    "* `total_bedrooms` <=\n",
    "* `population`\n",
    "* `households`"
   ]
  },
  {
   "cell_type": "code",
   "execution_count": 390,
   "id": "0c03262a-23a0-4517-b2d3-1c5e0c17e6b6",
   "metadata": {},
   "outputs": [
    {
     "data": {
      "text/plain": [
       "longitude               0\n",
       "latitude                0\n",
       "housing_median_age      0\n",
       "total_rooms             0\n",
       "total_bedrooms        157\n",
       "population              0\n",
       "households              0\n",
       "median_income           0\n",
       "median_house_value      0\n",
       "ocean_proximity         0\n",
       "dtype: int64"
      ]
     },
     "execution_count": 390,
     "metadata": {},
     "output_type": "execute_result"
    }
   ],
   "source": [
    "df = filter_ocean_proximity_records(load_housing_data())\n",
    "df.isnull().sum()"
   ]
  },
  {
   "cell_type": "markdown",
   "id": "aa327dec-85af-4117-bab9-b741353b77ca",
   "metadata": {},
   "source": [
    "##### **Question 2**\n",
    "\n",
    "What's the median (50% percentile) for variable `'population'`?\n",
    "\n",
    "- 995\n",
    "- 1095\n",
    "- <mark>1195</mark>\n",
    "- 1295"
   ]
  },
  {
   "cell_type": "code",
   "execution_count": 391,
   "id": "dea07c73-b758-4b56-a90f-dec1d17c887a",
   "metadata": {},
   "outputs": [
    {
     "data": {
      "text/plain": [
       "1195.0"
      ]
     },
     "execution_count": 391,
     "metadata": {},
     "output_type": "execute_result"
    }
   ],
   "source": [
    "df = filter_ocean_proximity_records(load_housing_data())\n",
    "df.population.median()"
   ]
  },
  {
   "cell_type": "markdown",
   "id": "480fe204-11ba-4e43-ab26-f1c1d14b6ae3",
   "metadata": {},
   "source": [
    "##### **Question 3**\n",
    "\n",
    "* We need to deal with missing values for the column from Question 1.\n",
    "* We have two options: fill it with 0 or with the mean of this variable.\n",
    "* Try both options. For each, train a linear regression model without regularization using the code from the lessons.\n",
    "* For computing the mean, use the training only!\n",
    "* Use the validation dataset to evaluate the models and compare the RMSE of each option.\n",
    "* Round the RMSE scores to 2 decimal digits using `round(score, 2)`\n",
    "* Which option gives better RMSE?\n",
    "\n",
    "Options:\n",
    "\n",
    "- With 0\n",
    "- With mean\n",
    "- <mark>Both are equally good</mark>"
   ]
  },
  {
   "cell_type": "code",
   "execution_count": 392,
   "id": "cffa460b-99a6-4b65-a93a-48a8e793bd4e",
   "metadata": {},
   "outputs": [],
   "source": [
    "df_train, df_val, df_test, y_train, y_val, y_test = setup_validation_framework(df, 'median_house_value', 42)"
   ]
  },
  {
   "cell_type": "code",
   "execution_count": 393,
   "id": "485e1329-a71e-454c-93fb-c0cc5fe49b27",
   "metadata": {},
   "outputs": [
    {
     "name": "stdout",
     "output_type": "stream",
     "text": [
      "rmse=0.34\n"
     ]
    },
    {
     "data": {
      "text/plain": [
       "<matplotlib.legend.Legend at 0x2868f8c50>"
      ]
     },
     "execution_count": 393,
     "metadata": {},
     "output_type": "execute_result"
    },
    {
     "data": {
      "image/png": "[encoded data removed]",
      "text/plain": [
       "<Figure size 640x480 with 1 Axes>"
      ]
     },
     "metadata": {},
     "output_type": "display_data"
    }
   ],
   "source": [
    "# Option 1\n",
    "X_train = prepare_X(df_train, base, 0)\n",
    "\n",
    "w0, w = train_linear_regression(X_train, y_train)\n",
    "y_pred = calc_prediction(X_train, w0, w)\n",
    "\n",
    "print(f\"rmse={rmse(y_train, y_pred).round(2)}\")\n",
    "\n",
    "sns.histplot(y_train, bins=70, label='train')\n",
    "sns.histplot(y_pred, bins=70, label='pred')\n",
    "plt.legend()"
   ]
  },
  {
   "cell_type": "code",
   "execution_count": 394,
   "id": "2fb35077-e3ea-4f74-bb1a-c572fbb8b380",
   "metadata": {},
   "outputs": [
    {
     "name": "stdout",
     "output_type": "stream",
     "text": [
      "rmse=0.34\n"
     ]
    },
    {
     "data": {
      "text/plain": [
       "<matplotlib.legend.Legend at 0x287078c90>"
      ]
     },
     "execution_count": 394,
     "metadata": {},
     "output_type": "execute_result"
    },
    {
     "data": {
      "image/png": "[encoded data removed]",
      "text/plain": [
       "<Figure size 640x480 with 1 Axes>"
      ]
     },
     "metadata": {},
     "output_type": "display_data"
    }
   ],
   "source": [
    "# Option 2\n",
    "X_train = prepare_X(df_train, base, df_train.population.median())\n",
    "\n",
    "w0, w = train_linear_regression(X_train, y_train)\n",
    "y_pred = calc_prediction(X_train, w0, w)\n",
    "\n",
    "print(f\"rmse={rmse(y_train, y_pred).round(2)}\")\n",
    "\n",
    "sns.histplot(y_train, bins=70, label='train')\n",
    "sns.histplot(y_pred, bins=70, label='pred')\n",
    "plt.legend()"
   ]
  },
  {
   "cell_type": "markdown",
   "id": "a6f8f026-0206-4d38-9c81-4f39c126112b",
   "metadata": {},
   "source": [
    "##### **Question 4**\n",
    "\n",
    "* Now let's train a regularized linear regression.\n",
    "* For this question, fill the NAs with 0. \n",
    "* Try different values of `r` from this list: `[0, 0.000001, 0.0001, 0.001, 0.01, 0.1, 1, 5, 10]`.\n",
    "* Use RMSE to evaluate the model on the validation dataset.\n",
    "* Round the RMSE scores to 2 decimal digits.\n",
    "* Which `r` gives the best RMSE?\n",
    "\n",
    "If there are multiple options, select the smallest `r`.\n",
    "\n",
    "Options:\n",
    "\n",
    "- <mark>0</mark>\n",
    "- 0.000001\n",
    "- 0.001\n",
    "- 0.0001"
   ]
  },
  {
   "cell_type": "code",
   "execution_count": 395,
   "id": "00283d66-647d-4a24-bbe4-47c11ad7da13",
   "metadata": {},
   "outputs": [],
   "source": [
    "df_train, df_val, df_test, y_train, y_val, y_test = setup_validation_framework(df, 'median_house_value')"
   ]
  },
  {
   "cell_type": "code",
   "execution_count": 396,
   "id": "256025c5-624b-4157-8fa2-54a1399b76cf",
   "metadata": {},
   "outputs": [
    {
     "name": "stdout",
     "output_type": "stream",
     "text": [
      "0 -9.763249478100542 0.34084790341900123\n",
      "1e-06 -9.763228831147018 0.3408479061790611\n",
      "0.0001 -9.761185235961971 0.3408481800551529\n",
      "0.001 -9.742646249920137 0.3408506921883878\n",
      "0.01 -9.561056193036546 0.3408779300498141\n",
      "0.1 -8.058889769552684 0.3412862041989286\n",
      "1 -3.13315427844415 0.34489583276403035\n",
      "5 -0.8410867974556349 0.34773980704861973\n",
      "10 -0.4381172315400117 0.3483149833519123\n",
      "\n",
      "best_r: 0, best_score: 0.34084790341900123\n"
     ]
    }
   ],
   "source": [
    "best_r = 1000000\n",
    "best_score = 1000000\n",
    "\n",
    "for r in [0, 0.000001, 0.0001, 0.001, 0.01, 0.1, 1, 5, 10]:\n",
    "    X_train = prepare_X(df_train, base)\n",
    "    w0, w = train_linear_regression_reg(X_train, y_train, r=r)    \n",
    "    \n",
    "    X_val = prepare_X(df_val, base)\n",
    "    y_pred = calc_prediction(X_val, w0, w)\n",
    "        \n",
    "    score = rmse(y_val, y_pred)\n",
    "\n",
    "    if (score < best_score):\n",
    "        best_score = score\n",
    "        best_r = r\n",
    "        \n",
    "    print(r, w0, score)\n",
    "\n",
    "print()\n",
    "print(f\"best_r: {best_r}, best_score: {best_score}\")"
   ]
  },
  {
   "cell_type": "markdown",
   "id": "e18cb7fb-34c5-4be8-995a-e6c75472e7db",
   "metadata": {},
   "source": [
    "##### **Question 5**\n",
    "\n",
    "* We used seed 42 for splitting the data. Let's find out how selecting the seed influences our score.\n",
    "* Try different seed values: `[0, 1, 2, 3, 4, 5, 6, 7, 8, 9]`.\n",
    "* For each seed, do the train/validation/test split with 60%/20%/20% distribution.\n",
    "* Fill the missing values with 0 and train a model without regularization.\n",
    "* For each seed, evaluate the model on the validation dataset and collect the RMSE scores. \n",
    "* What's the standard deviation of all the scores? To compute the standard deviation, use `np.std`.\n",
    "* Round the result to 3 decimal digits (`round(std, 3)`)\n",
    "\n",
    "What's the value of std?\n",
    "\n",
    "- 0.5\n",
    "- 0.05\n",
    "- <mark>0.005</mark>\n",
    "- 0.0005\n",
    "\n",
    "> Note: Standard deviation shows how different the values are.\n",
    "> If it's low, then all values are approximately the same.\n",
    "> If it's high, the values are different. \n",
    "> If standard deviation of scores is low, then our model is *stable*."
   ]
  },
  {
   "cell_type": "code",
   "execution_count": 398,
   "id": "ba3e2518-1608-4a25-8484-b8a84471dcdd",
   "metadata": {},
   "outputs": [
    {
     "name": "stdout",
     "output_type": "stream",
     "text": [
      "0 -9.870068971097925 0.3377387160050441\n",
      "1 -9.114011209993139 0.337799935366588\n",
      "2 -9.911560201193756 0.3384287006763356\n",
      "3 -10.233183681906137 0.3320049468307625\n",
      "4 -9.174763450405491 0.33944518625550274\n",
      "5 -10.006648303713407 0.34338197052534497\n",
      "6 -10.039903099735962 0.3385330211773503\n",
      "7 -10.353545444922416 0.3468747697301338\n",
      "8 -9.899416167249983 0.35127368659575803\n",
      "9 -9.964622125763638 0.33415582665074306\n",
      "\n",
      "best_seed: 3, best_score: 0.3320049468307625, score_standard_deviation: 0.005\n"
     ]
    }
   ],
   "source": [
    "seed_values = [0, 1, 2, 3, 4, 5, 6, 7, 8, 9]\n",
    "scores = []\n",
    "\n",
    "best_seed = 1000000\n",
    "best_score = 1000000\n",
    "\n",
    "for seed in seed_values:\n",
    "    df_train, df_val, df_test, y_train, y_val, y_test = setup_validation_framework(df, 'median_house_value', seed)\n",
    "\n",
    "    # train model\n",
    "    X_train = prepare_X(df_train, base)\n",
    "    w0, w = train_linear_regression(X_train, y_train)\n",
    "\n",
    "    # calc predictions based using trained model\n",
    "    X_val = prepare_X(df_val, base)\n",
    "    y_pred = calc_prediction(X_val, w0, w)\n",
    "            \n",
    "    score = rmse(y_val, y_pred)\n",
    "    scores.append(score)\n",
    "    \n",
    "    if (score < best_score):\n",
    "        best_score = score\n",
    "        best_seed = seed\n",
    "            \n",
    "    print(seed, w0, score)\n",
    "    \n",
    "print()\n",
    "print(f\"best_seed: {best_seed}, best_score: {best_score}, score_standard_deviation: {np.std(scores).round(3)}\")"
   ]
  },
  {
   "cell_type": "markdown",
   "id": "3f33a330-e13b-4742-b67a-6f1c78e88c78",
   "metadata": {},
   "source": [
    "##### **Question 6**\n",
    "\n",
    "* Split the dataset like previously, use seed 9.\n",
    "* Combine train and validation datasets.\n",
    "* Fill the missing values with 0 and train a model with `r=0.001`. \n",
    "* What's the RMSE on the test dataset?\n",
    "\n",
    "Options:\n",
    "\n",
    "- 0.13\n",
    "- 0.23\n",
    "- <mark>0.33</mark>\n",
    "- 0.43"
   ]
  },
  {
   "cell_type": "code",
   "execution_count": 399,
   "id": "5241e941-8981-4df8-bca5-a69d80d505c0",
   "metadata": {},
   "outputs": [],
   "source": [
    "df_train, df_val, df_test, y_train, y_val, y_test = setup_validation_framework(df, 'median_house_value', seed=9)"
   ]
  },
  {
   "cell_type": "code",
   "execution_count": 400,
   "id": "14acee29-1d91-48a6-82fe-90e870dca429",
   "metadata": {},
   "outputs": [],
   "source": [
    "df_full_train = pd.concat([df_train, df_val])\n",
    "df_full_train = df_full_train.reset_index(drop=True)"
   ]
  },
  {
   "cell_type": "code",
   "execution_count": 401,
   "id": "76a3f511-68c6-4948-a7ba-c249ffd65085",
   "metadata": {},
   "outputs": [],
   "source": [
    "y_full_train = np.concatenate([y_train, y_val])"
   ]
  },
  {
   "cell_type": "code",
   "execution_count": 402,
   "id": "375043b3-4f74-426c-a592-41bb0d5612d1",
   "metadata": {},
   "outputs": [
    {
     "data": {
      "text/plain": [
       "0.3349899336606186"
      ]
     },
     "execution_count": 402,
     "metadata": {},
     "output_type": "execute_result"
    }
   ],
   "source": [
    "X_full_train = prepare_X(df_full_train, base)\n",
    "w0, w = train_linear_regression_reg(X_full_train, y_full_train, r=0.001)\n",
    "    \n",
    "X_test = prepare_X(df_test, base)\n",
    "y_pred = calc_prediction(X_test, w0, w)\n",
    "       \n",
    "score = rmse(y_test, y_pred)\n",
    "score"
   ]
  }
 ],
 "metadata": {
  "kernelspec": {
   "display_name": "Python 3 (ipykernel)",
   "language": "python",
   "name": "python3"
  },
  "language_info": {
   "codemirror_mode": {
    "name": "ipython",
    "version": 3
   },
   "file_extension": ".py",
   "mimetype": "text/x-python",
   "name": "python",
   "nbconvert_exporter": "python",
   "pygments_lexer": "ipython3",
   "version": "3.11.1"
  }
 },
 "nbformat": 4,
 "nbformat_minor": 5
}
