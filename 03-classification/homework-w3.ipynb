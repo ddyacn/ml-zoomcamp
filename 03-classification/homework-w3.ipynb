{
 "cells": [
  {
   "cell_type": "markdown",
   "id": "003b4cce-1716-4262-826e-44084e6bb46e",
   "metadata": {},
   "source": [
    "https://github.com/DataTalksClub/machine-learning-zoomcamp/blob/master/cohorts/2023/03-classification/homework.md"
   ]
  },
  {
   "cell_type": "code",
   "execution_count": 205,
   "id": "2595c168-02a6-4c1e-af50-d0f1d64a0392",
   "metadata": {},
   "outputs": [],
   "source": [
    "import pandas as pd\n",
    "import numpy as np\n",
    "\n",
    "import matplotlib.pyplot as plt\n",
    "import seaborn as sns"
   ]
  },
  {
   "cell_type": "code",
   "execution_count": 206,
   "id": "f0540f5f-8037-46fe-ad2e-f652dd191733",
   "metadata": {},
   "outputs": [],
   "source": [
    "def load_data():\n",
    "    return pd.read_csv('car_price_data-w3.csv')"
   ]
  },
  {
   "cell_type": "code",
   "execution_count": 207,
   "id": "950bb447-4127-41f9-aff5-17e4340a614a",
   "metadata": {},
   "outputs": [
    {
     "data": {
      "text/html": [
       "<div>\n",
       "<style scoped>\n",
       "    .dataframe tbody tr th:only-of-type {\n",
       "        vertical-align: middle;\n",
       "    }\n",
       "\n",
       "    .dataframe tbody tr th {\n",
       "        vertical-align: top;\n",
       "    }\n",
       "\n",
       "    .dataframe thead th {\n",
       "        text-align: right;\n",
       "    }\n",
       "</style>\n",
       "<table border=\"1\" class=\"dataframe\">\n",
       "  <thead>\n",
       "    <tr style=\"text-align: right;\">\n",
       "      <th></th>\n",
       "      <th>Make</th>\n",
       "      <th>Model</th>\n",
       "      <th>Year</th>\n",
       "      <th>Engine Fuel Type</th>\n",
       "      <th>Engine HP</th>\n",
       "      <th>Engine Cylinders</th>\n",
       "      <th>Transmission Type</th>\n",
       "      <th>Driven_Wheels</th>\n",
       "      <th>Number of Doors</th>\n",
       "      <th>Market Category</th>\n",
       "      <th>Vehicle Size</th>\n",
       "      <th>Vehicle Style</th>\n",
       "      <th>highway MPG</th>\n",
       "      <th>city mpg</th>\n",
       "      <th>Popularity</th>\n",
       "      <th>MSRP</th>\n",
       "    </tr>\n",
       "  </thead>\n",
       "  <tbody>\n",
       "    <tr>\n",
       "      <th>0</th>\n",
       "      <td>BMW</td>\n",
       "      <td>1 Series M</td>\n",
       "      <td>2011</td>\n",
       "      <td>premium unleaded (required)</td>\n",
       "      <td>335.0</td>\n",
       "      <td>6.0</td>\n",
       "      <td>MANUAL</td>\n",
       "      <td>rear wheel drive</td>\n",
       "      <td>2.0</td>\n",
       "      <td>Factory Tuner,Luxury,High-Performance</td>\n",
       "      <td>Compact</td>\n",
       "      <td>Coupe</td>\n",
       "      <td>26</td>\n",
       "      <td>19</td>\n",
       "      <td>3916</td>\n",
       "      <td>46135</td>\n",
       "    </tr>\n",
       "    <tr>\n",
       "      <th>1</th>\n",
       "      <td>BMW</td>\n",
       "      <td>1 Series</td>\n",
       "      <td>2011</td>\n",
       "      <td>premium unleaded (required)</td>\n",
       "      <td>300.0</td>\n",
       "      <td>6.0</td>\n",
       "      <td>MANUAL</td>\n",
       "      <td>rear wheel drive</td>\n",
       "      <td>2.0</td>\n",
       "      <td>Luxury,Performance</td>\n",
       "      <td>Compact</td>\n",
       "      <td>Convertible</td>\n",
       "      <td>28</td>\n",
       "      <td>19</td>\n",
       "      <td>3916</td>\n",
       "      <td>40650</td>\n",
       "    </tr>\n",
       "  </tbody>\n",
       "</table>\n",
       "</div>"
      ],
      "text/plain": [
       "  Make       Model  Year             Engine Fuel Type  Engine HP  \\\n",
       "0  BMW  1 Series M  2011  premium unleaded (required)      335.0   \n",
       "1  BMW    1 Series  2011  premium unleaded (required)      300.0   \n",
       "\n",
       "   Engine Cylinders Transmission Type     Driven_Wheels  Number of Doors  \\\n",
       "0               6.0            MANUAL  rear wheel drive              2.0   \n",
       "1               6.0            MANUAL  rear wheel drive              2.0   \n",
       "\n",
       "                         Market Category Vehicle Size Vehicle Style  \\\n",
       "0  Factory Tuner,Luxury,High-Performance      Compact         Coupe   \n",
       "1                     Luxury,Performance      Compact   Convertible   \n",
       "\n",
       "   highway MPG  city mpg  Popularity   MSRP  \n",
       "0           26        19        3916  46135  \n",
       "1           28        19        3916  40650  "
      ]
     },
     "execution_count": 207,
     "metadata": {},
     "output_type": "execute_result"
    }
   ],
   "source": [
    "df_raw = load_data()\n",
    "df_raw.head(2)"
   ]
  },
  {
   "cell_type": "code",
   "execution_count": 208,
   "id": "4d081a42-a89c-404e-b5cc-7010bdc17305",
   "metadata": {},
   "outputs": [],
   "source": [
    "def prepare_columns_names(df):\n",
    "    data = df.copy()\n",
    "    data.columns = data.columns.str.lower().str.replace(' ', '_')\n",
    "    return data"
   ]
  },
  {
   "cell_type": "code",
   "execution_count": 209,
   "id": "714c8e9c-b961-4901-89e8-f871bef06ecf",
   "metadata": {},
   "outputs": [],
   "source": [
    "def prepare_string_column_values(df):\n",
    "    data = df.copy()\n",
    "    strings = list(data.dtypes[data.dtypes == 'object'].index)\n",
    "\n",
    "    for col in strings:\n",
    "        data[col] = data[col].str.lower().str.replace(' ', '_')\n",
    "        data[col] = data[col].str.lower().str.replace('/', '_')\n",
    "    \n",
    "    return data"
   ]
  },
  {
   "cell_type": "code",
   "execution_count": 210,
   "id": "6804b021-42c8-4533-8581-87777f588ca2",
   "metadata": {},
   "outputs": [
    {
     "data": {
      "text/html": [
       "<div>\n",
       "<style scoped>\n",
       "    .dataframe tbody tr th:only-of-type {\n",
       "        vertical-align: middle;\n",
       "    }\n",
       "\n",
       "    .dataframe tbody tr th {\n",
       "        vertical-align: top;\n",
       "    }\n",
       "\n",
       "    .dataframe thead th {\n",
       "        text-align: right;\n",
       "    }\n",
       "</style>\n",
       "<table border=\"1\" class=\"dataframe\">\n",
       "  <thead>\n",
       "    <tr style=\"text-align: right;\">\n",
       "      <th></th>\n",
       "      <th>make</th>\n",
       "      <th>model</th>\n",
       "      <th>year</th>\n",
       "      <th>engine_fuel_type</th>\n",
       "      <th>engine_hp</th>\n",
       "      <th>engine_cylinders</th>\n",
       "      <th>transmission_type</th>\n",
       "      <th>driven_wheels</th>\n",
       "      <th>number_of_doors</th>\n",
       "      <th>market_category</th>\n",
       "      <th>vehicle_size</th>\n",
       "      <th>vehicle_style</th>\n",
       "      <th>highway_mpg</th>\n",
       "      <th>city_mpg</th>\n",
       "      <th>popularity</th>\n",
       "      <th>msrp</th>\n",
       "    </tr>\n",
       "  </thead>\n",
       "  <tbody>\n",
       "    <tr>\n",
       "      <th>0</th>\n",
       "      <td>bmw</td>\n",
       "      <td>1_series_m</td>\n",
       "      <td>2011</td>\n",
       "      <td>premium_unleaded_(required)</td>\n",
       "      <td>335.0</td>\n",
       "      <td>6.0</td>\n",
       "      <td>manual</td>\n",
       "      <td>rear_wheel_drive</td>\n",
       "      <td>2.0</td>\n",
       "      <td>factory_tuner,luxury,high-performance</td>\n",
       "      <td>compact</td>\n",
       "      <td>coupe</td>\n",
       "      <td>26</td>\n",
       "      <td>19</td>\n",
       "      <td>3916</td>\n",
       "      <td>46135</td>\n",
       "    </tr>\n",
       "    <tr>\n",
       "      <th>1</th>\n",
       "      <td>bmw</td>\n",
       "      <td>1_series</td>\n",
       "      <td>2011</td>\n",
       "      <td>premium_unleaded_(required)</td>\n",
       "      <td>300.0</td>\n",
       "      <td>6.0</td>\n",
       "      <td>manual</td>\n",
       "      <td>rear_wheel_drive</td>\n",
       "      <td>2.0</td>\n",
       "      <td>luxury,performance</td>\n",
       "      <td>compact</td>\n",
       "      <td>convertible</td>\n",
       "      <td>28</td>\n",
       "      <td>19</td>\n",
       "      <td>3916</td>\n",
       "      <td>40650</td>\n",
       "    </tr>\n",
       "    <tr>\n",
       "      <th>2</th>\n",
       "      <td>bmw</td>\n",
       "      <td>1_series</td>\n",
       "      <td>2011</td>\n",
       "      <td>premium_unleaded_(required)</td>\n",
       "      <td>300.0</td>\n",
       "      <td>6.0</td>\n",
       "      <td>manual</td>\n",
       "      <td>rear_wheel_drive</td>\n",
       "      <td>2.0</td>\n",
       "      <td>luxury,high-performance</td>\n",
       "      <td>compact</td>\n",
       "      <td>coupe</td>\n",
       "      <td>28</td>\n",
       "      <td>20</td>\n",
       "      <td>3916</td>\n",
       "      <td>36350</td>\n",
       "    </tr>\n",
       "    <tr>\n",
       "      <th>3</th>\n",
       "      <td>bmw</td>\n",
       "      <td>1_series</td>\n",
       "      <td>2011</td>\n",
       "      <td>premium_unleaded_(required)</td>\n",
       "      <td>230.0</td>\n",
       "      <td>6.0</td>\n",
       "      <td>manual</td>\n",
       "      <td>rear_wheel_drive</td>\n",
       "      <td>2.0</td>\n",
       "      <td>luxury,performance</td>\n",
       "      <td>compact</td>\n",
       "      <td>coupe</td>\n",
       "      <td>28</td>\n",
       "      <td>18</td>\n",
       "      <td>3916</td>\n",
       "      <td>29450</td>\n",
       "    </tr>\n",
       "    <tr>\n",
       "      <th>4</th>\n",
       "      <td>bmw</td>\n",
       "      <td>1_series</td>\n",
       "      <td>2011</td>\n",
       "      <td>premium_unleaded_(required)</td>\n",
       "      <td>230.0</td>\n",
       "      <td>6.0</td>\n",
       "      <td>manual</td>\n",
       "      <td>rear_wheel_drive</td>\n",
       "      <td>2.0</td>\n",
       "      <td>luxury</td>\n",
       "      <td>compact</td>\n",
       "      <td>convertible</td>\n",
       "      <td>28</td>\n",
       "      <td>18</td>\n",
       "      <td>3916</td>\n",
       "      <td>34500</td>\n",
       "    </tr>\n",
       "  </tbody>\n",
       "</table>\n",
       "</div>"
      ],
      "text/plain": [
       "  make       model  year             engine_fuel_type  engine_hp  \\\n",
       "0  bmw  1_series_m  2011  premium_unleaded_(required)      335.0   \n",
       "1  bmw    1_series  2011  premium_unleaded_(required)      300.0   \n",
       "2  bmw    1_series  2011  premium_unleaded_(required)      300.0   \n",
       "3  bmw    1_series  2011  premium_unleaded_(required)      230.0   \n",
       "4  bmw    1_series  2011  premium_unleaded_(required)      230.0   \n",
       "\n",
       "   engine_cylinders transmission_type     driven_wheels  number_of_doors  \\\n",
       "0               6.0            manual  rear_wheel_drive              2.0   \n",
       "1               6.0            manual  rear_wheel_drive              2.0   \n",
       "2               6.0            manual  rear_wheel_drive              2.0   \n",
       "3               6.0            manual  rear_wheel_drive              2.0   \n",
       "4               6.0            manual  rear_wheel_drive              2.0   \n",
       "\n",
       "                         market_category vehicle_size vehicle_style  \\\n",
       "0  factory_tuner,luxury,high-performance      compact         coupe   \n",
       "1                     luxury,performance      compact   convertible   \n",
       "2                luxury,high-performance      compact         coupe   \n",
       "3                     luxury,performance      compact         coupe   \n",
       "4                                 luxury      compact   convertible   \n",
       "\n",
       "   highway_mpg  city_mpg  popularity   msrp  \n",
       "0           26        19        3916  46135  \n",
       "1           28        19        3916  40650  \n",
       "2           28        20        3916  36350  \n",
       "3           28        18        3916  29450  \n",
       "4           28        18        3916  34500  "
      ]
     },
     "execution_count": 210,
     "metadata": {},
     "output_type": "execute_result"
    }
   ],
   "source": [
    "df = prepare_columns_names(df_raw)\n",
    "df = prepare_string_column_values(df)\n",
    "df.head()"
   ]
  },
  {
   "cell_type": "code",
   "execution_count": 211,
   "id": "fd3e7560-d7d0-49a4-ba8e-6f5e8db4de7f",
   "metadata": {},
   "outputs": [],
   "source": [
    "features = [\n",
    "    'make',\n",
    "    'model',\n",
    "    'year',\n",
    "    'engine_hp',\n",
    "    'engine_cylinders',\n",
    "    'transmission_type',\n",
    "    'vehicle_style',\n",
    "    'highway_mpg',\n",
    "    'city_mpg'\n",
    "]"
   ]
  },
  {
   "cell_type": "code",
   "execution_count": 212,
   "id": "71f49f8f-753b-4d93-a934-f31cc9d5e746",
   "metadata": {},
   "outputs": [
    {
     "data": {
      "text/html": [
       "<div>\n",
       "<style scoped>\n",
       "    .dataframe tbody tr th:only-of-type {\n",
       "        vertical-align: middle;\n",
       "    }\n",
       "\n",
       "    .dataframe tbody tr th {\n",
       "        vertical-align: top;\n",
       "    }\n",
       "\n",
       "    .dataframe thead th {\n",
       "        text-align: right;\n",
       "    }\n",
       "</style>\n",
       "<table border=\"1\" class=\"dataframe\">\n",
       "  <thead>\n",
       "    <tr style=\"text-align: right;\">\n",
       "      <th></th>\n",
       "      <th>make</th>\n",
       "      <th>model</th>\n",
       "      <th>year</th>\n",
       "      <th>engine_hp</th>\n",
       "      <th>engine_cylinders</th>\n",
       "      <th>transmission_type</th>\n",
       "      <th>vehicle_style</th>\n",
       "      <th>highway_mpg</th>\n",
       "      <th>city_mpg</th>\n",
       "    </tr>\n",
       "  </thead>\n",
       "  <tbody>\n",
       "    <tr>\n",
       "      <th>0</th>\n",
       "      <td>bmw</td>\n",
       "      <td>1_series_m</td>\n",
       "      <td>2011</td>\n",
       "      <td>335.0</td>\n",
       "      <td>6.0</td>\n",
       "      <td>manual</td>\n",
       "      <td>coupe</td>\n",
       "      <td>26</td>\n",
       "      <td>19</td>\n",
       "    </tr>\n",
       "    <tr>\n",
       "      <th>1</th>\n",
       "      <td>bmw</td>\n",
       "      <td>1_series</td>\n",
       "      <td>2011</td>\n",
       "      <td>300.0</td>\n",
       "      <td>6.0</td>\n",
       "      <td>manual</td>\n",
       "      <td>convertible</td>\n",
       "      <td>28</td>\n",
       "      <td>19</td>\n",
       "    </tr>\n",
       "    <tr>\n",
       "      <th>2</th>\n",
       "      <td>bmw</td>\n",
       "      <td>1_series</td>\n",
       "      <td>2011</td>\n",
       "      <td>300.0</td>\n",
       "      <td>6.0</td>\n",
       "      <td>manual</td>\n",
       "      <td>coupe</td>\n",
       "      <td>28</td>\n",
       "      <td>20</td>\n",
       "    </tr>\n",
       "    <tr>\n",
       "      <th>3</th>\n",
       "      <td>bmw</td>\n",
       "      <td>1_series</td>\n",
       "      <td>2011</td>\n",
       "      <td>230.0</td>\n",
       "      <td>6.0</td>\n",
       "      <td>manual</td>\n",
       "      <td>coupe</td>\n",
       "      <td>28</td>\n",
       "      <td>18</td>\n",
       "    </tr>\n",
       "    <tr>\n",
       "      <th>4</th>\n",
       "      <td>bmw</td>\n",
       "      <td>1_series</td>\n",
       "      <td>2011</td>\n",
       "      <td>230.0</td>\n",
       "      <td>6.0</td>\n",
       "      <td>manual</td>\n",
       "      <td>convertible</td>\n",
       "      <td>28</td>\n",
       "      <td>18</td>\n",
       "    </tr>\n",
       "    <tr>\n",
       "      <th>...</th>\n",
       "      <td>...</td>\n",
       "      <td>...</td>\n",
       "      <td>...</td>\n",
       "      <td>...</td>\n",
       "      <td>...</td>\n",
       "      <td>...</td>\n",
       "      <td>...</td>\n",
       "      <td>...</td>\n",
       "      <td>...</td>\n",
       "    </tr>\n",
       "    <tr>\n",
       "      <th>11909</th>\n",
       "      <td>acura</td>\n",
       "      <td>zdx</td>\n",
       "      <td>2012</td>\n",
       "      <td>300.0</td>\n",
       "      <td>6.0</td>\n",
       "      <td>automatic</td>\n",
       "      <td>4dr_hatchback</td>\n",
       "      <td>23</td>\n",
       "      <td>16</td>\n",
       "    </tr>\n",
       "    <tr>\n",
       "      <th>11910</th>\n",
       "      <td>acura</td>\n",
       "      <td>zdx</td>\n",
       "      <td>2012</td>\n",
       "      <td>300.0</td>\n",
       "      <td>6.0</td>\n",
       "      <td>automatic</td>\n",
       "      <td>4dr_hatchback</td>\n",
       "      <td>23</td>\n",
       "      <td>16</td>\n",
       "    </tr>\n",
       "    <tr>\n",
       "      <th>11911</th>\n",
       "      <td>acura</td>\n",
       "      <td>zdx</td>\n",
       "      <td>2012</td>\n",
       "      <td>300.0</td>\n",
       "      <td>6.0</td>\n",
       "      <td>automatic</td>\n",
       "      <td>4dr_hatchback</td>\n",
       "      <td>23</td>\n",
       "      <td>16</td>\n",
       "    </tr>\n",
       "    <tr>\n",
       "      <th>11912</th>\n",
       "      <td>acura</td>\n",
       "      <td>zdx</td>\n",
       "      <td>2013</td>\n",
       "      <td>300.0</td>\n",
       "      <td>6.0</td>\n",
       "      <td>automatic</td>\n",
       "      <td>4dr_hatchback</td>\n",
       "      <td>23</td>\n",
       "      <td>16</td>\n",
       "    </tr>\n",
       "    <tr>\n",
       "      <th>11913</th>\n",
       "      <td>lincoln</td>\n",
       "      <td>zephyr</td>\n",
       "      <td>2006</td>\n",
       "      <td>221.0</td>\n",
       "      <td>6.0</td>\n",
       "      <td>automatic</td>\n",
       "      <td>sedan</td>\n",
       "      <td>26</td>\n",
       "      <td>17</td>\n",
       "    </tr>\n",
       "  </tbody>\n",
       "</table>\n",
       "<p>11914 rows × 9 columns</p>\n",
       "</div>"
      ],
      "text/plain": [
       "          make       model  year  engine_hp  engine_cylinders  \\\n",
       "0          bmw  1_series_m  2011      335.0               6.0   \n",
       "1          bmw    1_series  2011      300.0               6.0   \n",
       "2          bmw    1_series  2011      300.0               6.0   \n",
       "3          bmw    1_series  2011      230.0               6.0   \n",
       "4          bmw    1_series  2011      230.0               6.0   \n",
       "...        ...         ...   ...        ...               ...   \n",
       "11909    acura         zdx  2012      300.0               6.0   \n",
       "11910    acura         zdx  2012      300.0               6.0   \n",
       "11911    acura         zdx  2012      300.0               6.0   \n",
       "11912    acura         zdx  2013      300.0               6.0   \n",
       "11913  lincoln      zephyr  2006      221.0               6.0   \n",
       "\n",
       "      transmission_type  vehicle_style  highway_mpg  city_mpg  \n",
       "0                manual          coupe           26        19  \n",
       "1                manual    convertible           28        19  \n",
       "2                manual          coupe           28        20  \n",
       "3                manual          coupe           28        18  \n",
       "4                manual    convertible           28        18  \n",
       "...                 ...            ...          ...       ...  \n",
       "11909         automatic  4dr_hatchback           23        16  \n",
       "11910         automatic  4dr_hatchback           23        16  \n",
       "11911         automatic  4dr_hatchback           23        16  \n",
       "11912         automatic  4dr_hatchback           23        16  \n",
       "11913         automatic          sedan           26        17  \n",
       "\n",
       "[11914 rows x 9 columns]"
      ]
     },
     "execution_count": 212,
     "metadata": {},
     "output_type": "execute_result"
    }
   ],
   "source": [
    "df[features]"
   ]
  },
  {
   "cell_type": "code",
   "execution_count": 213,
   "id": "656eddb6-e675-46d1-9279-1c9d666a4b93",
   "metadata": {},
   "outputs": [
    {
     "data": {
      "text/plain": [
       "make                    0\n",
       "model                   0\n",
       "year                    0\n",
       "engine_fuel_type        3\n",
       "engine_hp              69\n",
       "engine_cylinders       30\n",
       "transmission_type       0\n",
       "driven_wheels           0\n",
       "number_of_doors         6\n",
       "market_category      3742\n",
       "vehicle_size            0\n",
       "vehicle_style           0\n",
       "highway_mpg             0\n",
       "city_mpg                0\n",
       "popularity              0\n",
       "msrp                    0\n",
       "dtype: int64"
      ]
     },
     "execution_count": 213,
     "metadata": {},
     "output_type": "execute_result"
    }
   ],
   "source": [
    "df.isnull().sum()"
   ]
  },
  {
   "cell_type": "code",
   "execution_count": 214,
   "id": "60bd3778-72b9-4678-b686-1152606e0de5",
   "metadata": {},
   "outputs": [
    {
     "data": {
      "text/plain": [
       "make                 0\n",
       "model                0\n",
       "year                 0\n",
       "engine_hp            0\n",
       "engine_cylinders     0\n",
       "transmission_type    0\n",
       "vehicle_style        0\n",
       "highway_mpg          0\n",
       "city_mpg             0\n",
       "msrp                 0\n",
       "dtype: int64"
      ]
     },
     "execution_count": 214,
     "metadata": {},
     "output_type": "execute_result"
    }
   ],
   "source": [
    "df = df[features + ['msrp']].fillna(0)\n",
    "df.isnull().sum()"
   ]
  },
  {
   "cell_type": "code",
   "execution_count": 215,
   "id": "90e38513-a4d3-4fb8-8225-5e887fe8da23",
   "metadata": {},
   "outputs": [
    {
     "data": {
      "text/html": [
       "<div>\n",
       "<style scoped>\n",
       "    .dataframe tbody tr th:only-of-type {\n",
       "        vertical-align: middle;\n",
       "    }\n",
       "\n",
       "    .dataframe tbody tr th {\n",
       "        vertical-align: top;\n",
       "    }\n",
       "\n",
       "    .dataframe thead th {\n",
       "        text-align: right;\n",
       "    }\n",
       "</style>\n",
       "<table border=\"1\" class=\"dataframe\">\n",
       "  <thead>\n",
       "    <tr style=\"text-align: right;\">\n",
       "      <th></th>\n",
       "      <th>make</th>\n",
       "      <th>model</th>\n",
       "      <th>year</th>\n",
       "      <th>engine_hp</th>\n",
       "      <th>engine_cylinders</th>\n",
       "      <th>transmission_type</th>\n",
       "      <th>vehicle_style</th>\n",
       "      <th>highway_mpg</th>\n",
       "      <th>city_mpg</th>\n",
       "      <th>price</th>\n",
       "    </tr>\n",
       "  </thead>\n",
       "  <tbody>\n",
       "    <tr>\n",
       "      <th>0</th>\n",
       "      <td>bmw</td>\n",
       "      <td>1_series_m</td>\n",
       "      <td>2011</td>\n",
       "      <td>335.0</td>\n",
       "      <td>6.0</td>\n",
       "      <td>manual</td>\n",
       "      <td>coupe</td>\n",
       "      <td>26</td>\n",
       "      <td>19</td>\n",
       "      <td>46135</td>\n",
       "    </tr>\n",
       "    <tr>\n",
       "      <th>1</th>\n",
       "      <td>bmw</td>\n",
       "      <td>1_series</td>\n",
       "      <td>2011</td>\n",
       "      <td>300.0</td>\n",
       "      <td>6.0</td>\n",
       "      <td>manual</td>\n",
       "      <td>convertible</td>\n",
       "      <td>28</td>\n",
       "      <td>19</td>\n",
       "      <td>40650</td>\n",
       "    </tr>\n",
       "  </tbody>\n",
       "</table>\n",
       "</div>"
      ],
      "text/plain": [
       "  make       model  year  engine_hp  engine_cylinders transmission_type  \\\n",
       "0  bmw  1_series_m  2011      335.0               6.0            manual   \n",
       "1  bmw    1_series  2011      300.0               6.0            manual   \n",
       "\n",
       "  vehicle_style  highway_mpg  city_mpg  price  \n",
       "0         coupe           26        19  46135  \n",
       "1   convertible           28        19  40650  "
      ]
     },
     "execution_count": 215,
     "metadata": {},
     "output_type": "execute_result"
    }
   ],
   "source": [
    "df = df.rename(columns={'msrp': 'price'})\n",
    "df.head(2)"
   ]
  },
  {
   "cell_type": "markdown",
   "id": "735d565c-954d-47b9-a33f-0c2d5c43db64",
   "metadata": {},
   "source": [
    "### Question 1\n",
    "\n",
    "What is the most frequent observation (mode) for the column `transmission_type`?\n",
    "\n",
    "- `AUTOMATIC` <=\n",
    "- `MANUAL`\n",
    "- `AUTOMATED_MANUAL`\n",
    "- `DIRECT_DRIVE`\n"
   ]
  },
  {
   "cell_type": "code",
   "execution_count": 216,
   "id": "40813697-4d44-45a0-9f60-840bab8fe405",
   "metadata": {},
   "outputs": [
    {
     "data": {
      "text/plain": [
       "automatic           8266\n",
       "manual              2935\n",
       "automated_manual     626\n",
       "direct_drive          68\n",
       "unknown               19\n",
       "Name: transmission_type, dtype: int64"
      ]
     },
     "execution_count": 216,
     "metadata": {},
     "output_type": "execute_result"
    }
   ],
   "source": [
    "df.transmission_type.value_counts()"
   ]
  },
  {
   "cell_type": "markdown",
   "id": "fed0e652-d827-4916-9c99-13e12c7685bd",
   "metadata": {},
   "source": [
    "### Question 2\n",
    "\n",
    "Create the [correlation matrix](https://www.google.com/search?q=correlation+matrix) for the numerical features of your dataset. \n",
    "In a correlation matrix, you compute the correlation coefficient between every pair of features in the dataset.\n",
    "\n",
    "What are the two features that have the biggest correlation in this dataset?\n",
    "\n",
    "- `engine_hp` and `year`\n",
    "- `engine_hp` and `engine_cylinders`\n",
    "- `highway_mpg` and `engine_cylinders`\n",
    "- `highway_mpg` and `city_mpg` <=\n",
    "\n",
    "\n",
    "### Make `price` binary\n",
    "\n",
    "* Now we need to turn the `price` variable from numeric into a binary format.\n",
    "* Let's create a variable `above_average` which is `1` if the `price` is above its mean value and `0` otherwise.\n",
    "\n",
    "### Split the data\n",
    "\n",
    "* Split your data in train/val/test sets with 60%/20%/20% distribution.\n",
    "* Use Scikit-Learn for that (the `train_test_split` function) and set the seed to `42`.\n",
    "* Make sure that the target value (`above_average`) is not in your dataframe."
   ]
  },
  {
   "cell_type": "code",
   "execution_count": 217,
   "id": "78e97814-1720-4e95-a1cf-fcfc98bfa7e0",
   "metadata": {},
   "outputs": [
    {
     "name": "stderr",
     "output_type": "stream",
     "text": [
      "/var/folders/qq/4462k7m965791w_c1y5k4k480000gn/T/ipykernel_2516/2325726537.py:1: FutureWarning: The default value of numeric_only in DataFrame.corr is deprecated. In a future version, it will default to False. Select only valid columns or specify the value of numeric_only to silence this warning.\n",
      "  df[features].corr().style.background_gradient(cmap='coolwarm', axis=None)\n"
     ]
    },
    {
     "data": {
      "text/html": [
       "<style type=\"text/css\">\n",
       "#T_6d307_row0_col0, #T_6d307_row1_col1, #T_6d307_row2_col2, #T_6d307_row3_col3, #T_6d307_row4_col4 {\n",
       "  background-color: #b40426;\n",
       "  color: #f1f1f1;\n",
       "}\n",
       "#T_6d307_row0_col1, #T_6d307_row1_col0 {\n",
       "  background-color: #f1cdba;\n",
       "  color: #000000;\n",
       "}\n",
       "#T_6d307_row0_col2, #T_6d307_row2_col0 {\n",
       "  background-color: #b1cbfc;\n",
       "  color: #000000;\n",
       "}\n",
       "#T_6d307_row0_col3, #T_6d307_row3_col0 {\n",
       "  background-color: #e7d7ce;\n",
       "  color: #000000;\n",
       "}\n",
       "#T_6d307_row0_col4, #T_6d307_row4_col0 {\n",
       "  background-color: #dddcdc;\n",
       "  color: #000000;\n",
       "}\n",
       "#T_6d307_row1_col2, #T_6d307_row2_col1 {\n",
       "  background-color: #e16751;\n",
       "  color: #f1f1f1;\n",
       "}\n",
       "#T_6d307_row1_col3, #T_6d307_row3_col1 {\n",
       "  background-color: #6180e9;\n",
       "  color: #f1f1f1;\n",
       "}\n",
       "#T_6d307_row1_col4, #T_6d307_row4_col1 {\n",
       "  background-color: #5f7fe8;\n",
       "  color: #f1f1f1;\n",
       "}\n",
       "#T_6d307_row2_col3, #T_6d307_row3_col2 {\n",
       "  background-color: #3b4cc0;\n",
       "  color: #f1f1f1;\n",
       "}\n",
       "#T_6d307_row2_col4, #T_6d307_row4_col2 {\n",
       "  background-color: #3f53c6;\n",
       "  color: #f1f1f1;\n",
       "}\n",
       "#T_6d307_row3_col4, #T_6d307_row4_col3 {\n",
       "  background-color: #cc403a;\n",
       "  color: #f1f1f1;\n",
       "}\n",
       "</style>\n",
       "<table id=\"T_6d307\">\n",
       "  <thead>\n",
       "    <tr>\n",
       "      <th class=\"blank level0\" >&nbsp;</th>\n",
       "      <th id=\"T_6d307_level0_col0\" class=\"col_heading level0 col0\" >year</th>\n",
       "      <th id=\"T_6d307_level0_col1\" class=\"col_heading level0 col1\" >engine_hp</th>\n",
       "      <th id=\"T_6d307_level0_col2\" class=\"col_heading level0 col2\" >engine_cylinders</th>\n",
       "      <th id=\"T_6d307_level0_col3\" class=\"col_heading level0 col3\" >highway_mpg</th>\n",
       "      <th id=\"T_6d307_level0_col4\" class=\"col_heading level0 col4\" >city_mpg</th>\n",
       "    </tr>\n",
       "  </thead>\n",
       "  <tbody>\n",
       "    <tr>\n",
       "      <th id=\"T_6d307_level0_row0\" class=\"row_heading level0 row0\" >year</th>\n",
       "      <td id=\"T_6d307_row0_col0\" class=\"data row0 col0\" >1.000000</td>\n",
       "      <td id=\"T_6d307_row0_col1\" class=\"data row0 col1\" >0.338714</td>\n",
       "      <td id=\"T_6d307_row0_col2\" class=\"data row0 col2\" >-0.040708</td>\n",
       "      <td id=\"T_6d307_row0_col3\" class=\"data row0 col3\" >0.258240</td>\n",
       "      <td id=\"T_6d307_row0_col4\" class=\"data row0 col4\" >0.198171</td>\n",
       "    </tr>\n",
       "    <tr>\n",
       "      <th id=\"T_6d307_level0_row1\" class=\"row_heading level0 row1\" >engine_hp</th>\n",
       "      <td id=\"T_6d307_row1_col0\" class=\"data row1 col0\" >0.338714</td>\n",
       "      <td id=\"T_6d307_row1_col1\" class=\"data row1 col1\" >1.000000</td>\n",
       "      <td id=\"T_6d307_row1_col2\" class=\"data row1 col2\" >0.774851</td>\n",
       "      <td id=\"T_6d307_row1_col3\" class=\"data row1 col3\" >-0.415707</td>\n",
       "      <td id=\"T_6d307_row1_col4\" class=\"data row1 col4\" >-0.424918</td>\n",
       "    </tr>\n",
       "    <tr>\n",
       "      <th id=\"T_6d307_level0_row2\" class=\"row_heading level0 row2\" >engine_cylinders</th>\n",
       "      <td id=\"T_6d307_row2_col0\" class=\"data row2 col0\" >-0.040708</td>\n",
       "      <td id=\"T_6d307_row2_col1\" class=\"data row2 col1\" >0.774851</td>\n",
       "      <td id=\"T_6d307_row2_col2\" class=\"data row2 col2\" >1.000000</td>\n",
       "      <td id=\"T_6d307_row2_col3\" class=\"data row2 col3\" >-0.614541</td>\n",
       "      <td id=\"T_6d307_row2_col4\" class=\"data row2 col4\" >-0.587306</td>\n",
       "    </tr>\n",
       "    <tr>\n",
       "      <th id=\"T_6d307_level0_row3\" class=\"row_heading level0 row3\" >highway_mpg</th>\n",
       "      <td id=\"T_6d307_row3_col0\" class=\"data row3 col0\" >0.258240</td>\n",
       "      <td id=\"T_6d307_row3_col1\" class=\"data row3 col1\" >-0.415707</td>\n",
       "      <td id=\"T_6d307_row3_col2\" class=\"data row3 col2\" >-0.614541</td>\n",
       "      <td id=\"T_6d307_row3_col3\" class=\"data row3 col3\" >1.000000</td>\n",
       "      <td id=\"T_6d307_row3_col4\" class=\"data row3 col4\" >0.886829</td>\n",
       "    </tr>\n",
       "    <tr>\n",
       "      <th id=\"T_6d307_level0_row4\" class=\"row_heading level0 row4\" >city_mpg</th>\n",
       "      <td id=\"T_6d307_row4_col0\" class=\"data row4 col0\" >0.198171</td>\n",
       "      <td id=\"T_6d307_row4_col1\" class=\"data row4 col1\" >-0.424918</td>\n",
       "      <td id=\"T_6d307_row4_col2\" class=\"data row4 col2\" >-0.587306</td>\n",
       "      <td id=\"T_6d307_row4_col3\" class=\"data row4 col3\" >0.886829</td>\n",
       "      <td id=\"T_6d307_row4_col4\" class=\"data row4 col4\" >1.000000</td>\n",
       "    </tr>\n",
       "  </tbody>\n",
       "</table>\n"
      ],
      "text/plain": [
       "<pandas.io.formats.style.Styler at 0x1773b6090>"
      ]
     },
     "execution_count": 217,
     "metadata": {},
     "output_type": "execute_result"
    }
   ],
   "source": [
    "df[features].corr().style.background_gradient(cmap='coolwarm', axis=None)"
   ]
  },
  {
   "cell_type": "code",
   "execution_count": 218,
   "id": "29d9fbd2-f914-4310-b281-28f53f01db8d",
   "metadata": {},
   "outputs": [
    {
     "data": {
      "text/plain": [
       "40594.737032063116"
      ]
     },
     "execution_count": 218,
     "metadata": {},
     "output_type": "execute_result"
    }
   ],
   "source": [
    "price_avg = df.price.mean()\n",
    "price_avg"
   ]
  },
  {
   "cell_type": "code",
   "execution_count": 219,
   "id": "e8572c2b-a451-472d-9611-ee9cf92189fc",
   "metadata": {},
   "outputs": [
    {
     "data": {
      "text/html": [
       "<div>\n",
       "<style scoped>\n",
       "    .dataframe tbody tr th:only-of-type {\n",
       "        vertical-align: middle;\n",
       "    }\n",
       "\n",
       "    .dataframe tbody tr th {\n",
       "        vertical-align: top;\n",
       "    }\n",
       "\n",
       "    .dataframe thead th {\n",
       "        text-align: right;\n",
       "    }\n",
       "</style>\n",
       "<table border=\"1\" class=\"dataframe\">\n",
       "  <thead>\n",
       "    <tr style=\"text-align: right;\">\n",
       "      <th></th>\n",
       "      <th>make</th>\n",
       "      <th>model</th>\n",
       "      <th>year</th>\n",
       "      <th>engine_hp</th>\n",
       "      <th>engine_cylinders</th>\n",
       "      <th>transmission_type</th>\n",
       "      <th>vehicle_style</th>\n",
       "      <th>highway_mpg</th>\n",
       "      <th>city_mpg</th>\n",
       "      <th>price</th>\n",
       "      <th>above_average</th>\n",
       "    </tr>\n",
       "  </thead>\n",
       "  <tbody>\n",
       "    <tr>\n",
       "      <th>0</th>\n",
       "      <td>bmw</td>\n",
       "      <td>1_series_m</td>\n",
       "      <td>2011</td>\n",
       "      <td>335.0</td>\n",
       "      <td>6.0</td>\n",
       "      <td>manual</td>\n",
       "      <td>coupe</td>\n",
       "      <td>26</td>\n",
       "      <td>19</td>\n",
       "      <td>46135</td>\n",
       "      <td>1</td>\n",
       "    </tr>\n",
       "    <tr>\n",
       "      <th>1</th>\n",
       "      <td>bmw</td>\n",
       "      <td>1_series</td>\n",
       "      <td>2011</td>\n",
       "      <td>300.0</td>\n",
       "      <td>6.0</td>\n",
       "      <td>manual</td>\n",
       "      <td>convertible</td>\n",
       "      <td>28</td>\n",
       "      <td>19</td>\n",
       "      <td>40650</td>\n",
       "      <td>1</td>\n",
       "    </tr>\n",
       "  </tbody>\n",
       "</table>\n",
       "</div>"
      ],
      "text/plain": [
       "  make       model  year  engine_hp  engine_cylinders transmission_type  \\\n",
       "0  bmw  1_series_m  2011      335.0               6.0            manual   \n",
       "1  bmw    1_series  2011      300.0               6.0            manual   \n",
       "\n",
       "  vehicle_style  highway_mpg  city_mpg  price  above_average  \n",
       "0         coupe           26        19  46135              1  \n",
       "1   convertible           28        19  40650              1  "
      ]
     },
     "execution_count": 219,
     "metadata": {},
     "output_type": "execute_result"
    }
   ],
   "source": [
    "df['above_average'] = (df.price > price_avg).astype(int)\n",
    "df.head(2)"
   ]
  },
  {
   "cell_type": "code",
   "execution_count": 220,
   "id": "25d1f177-769d-487d-9162-b6b8c68cd800",
   "metadata": {},
   "outputs": [],
   "source": [
    "from sklearn.model_selection import train_test_split"
   ]
  },
  {
   "cell_type": "code",
   "execution_count": 221,
   "id": "f63e5cea-7afd-4fe5-9a19-fedbb30bf6a2",
   "metadata": {},
   "outputs": [],
   "source": [
    "df_full_train, df_test = train_test_split(df, test_size=0.2, random_state=42)\n",
    "df_train, df_val = train_test_split(df_full_train, test_size=0.25, random_state=42)"
   ]
  },
  {
   "cell_type": "code",
   "execution_count": 222,
   "id": "62adbd1c-c45c-49df-993d-a0ecef608967",
   "metadata": {},
   "outputs": [],
   "source": [
    "df_train = df_train.reset_index(drop=True)\n",
    "df_val = df_val.reset_index(drop=True)\n",
    "df_test = df_test.reset_index(drop=True)"
   ]
  },
  {
   "cell_type": "code",
   "execution_count": 223,
   "id": "9b6b2889-b954-47aa-ac9f-7b3e0c618c29",
   "metadata": {},
   "outputs": [
    {
     "data": {
      "text/html": [
       "<div>\n",
       "<style scoped>\n",
       "    .dataframe tbody tr th:only-of-type {\n",
       "        vertical-align: middle;\n",
       "    }\n",
       "\n",
       "    .dataframe tbody tr th {\n",
       "        vertical-align: top;\n",
       "    }\n",
       "\n",
       "    .dataframe thead th {\n",
       "        text-align: right;\n",
       "    }\n",
       "</style>\n",
       "<table border=\"1\" class=\"dataframe\">\n",
       "  <thead>\n",
       "    <tr style=\"text-align: right;\">\n",
       "      <th></th>\n",
       "      <th>0</th>\n",
       "    </tr>\n",
       "  </thead>\n",
       "  <tbody>\n",
       "    <tr>\n",
       "      <th>make</th>\n",
       "      <td>mitsubishi</td>\n",
       "    </tr>\n",
       "    <tr>\n",
       "      <th>model</th>\n",
       "      <td>endeavor</td>\n",
       "    </tr>\n",
       "    <tr>\n",
       "      <th>year</th>\n",
       "      <td>2011</td>\n",
       "    </tr>\n",
       "    <tr>\n",
       "      <th>engine_hp</th>\n",
       "      <td>225.0</td>\n",
       "    </tr>\n",
       "    <tr>\n",
       "      <th>engine_cylinders</th>\n",
       "      <td>6.0</td>\n",
       "    </tr>\n",
       "    <tr>\n",
       "      <th>transmission_type</th>\n",
       "      <td>automatic</td>\n",
       "    </tr>\n",
       "    <tr>\n",
       "      <th>vehicle_style</th>\n",
       "      <td>4dr_suv</td>\n",
       "    </tr>\n",
       "    <tr>\n",
       "      <th>highway_mpg</th>\n",
       "      <td>19</td>\n",
       "    </tr>\n",
       "    <tr>\n",
       "      <th>city_mpg</th>\n",
       "      <td>15</td>\n",
       "    </tr>\n",
       "    <tr>\n",
       "      <th>price</th>\n",
       "      <td>33599</td>\n",
       "    </tr>\n",
       "    <tr>\n",
       "      <th>above_average</th>\n",
       "      <td>0</td>\n",
       "    </tr>\n",
       "  </tbody>\n",
       "</table>\n",
       "</div>"
      ],
      "text/plain": [
       "                            0\n",
       "make               mitsubishi\n",
       "model                endeavor\n",
       "year                     2011\n",
       "engine_hp               225.0\n",
       "engine_cylinders          6.0\n",
       "transmission_type   automatic\n",
       "vehicle_style         4dr_suv\n",
       "highway_mpg                19\n",
       "city_mpg                   15\n",
       "price                   33599\n",
       "above_average               0"
      ]
     },
     "execution_count": 223,
     "metadata": {},
     "output_type": "execute_result"
    }
   ],
   "source": [
    "df_train[:1].T"
   ]
  },
  {
   "cell_type": "code",
   "execution_count": 224,
   "id": "e3a5ad46-1d2a-405a-a536-d44cf6d26c19",
   "metadata": {},
   "outputs": [],
   "source": [
    "y_train = df_train.above_average.values # df_train.price.values\n",
    "y_val = df_val.above_average.values     # df_val.price.values\n",
    "y_test = df_test.above_average.values   # df_test.price.values\n",
    "\n",
    "y_train_price = df_train.price.values\n",
    "y_val_price = df_val.price.values\n",
    "y_test_price = df_test.price.values\n",
    "\n",
    "del df_train['price']\n",
    "del df_val['price']\n",
    "del df_test['price']\n",
    "\n",
    "del df_train['above_average']\n",
    "del df_val['above_average']\n",
    "del df_test['above_average']"
   ]
  },
  {
   "cell_type": "code",
   "execution_count": 225,
   "id": "0e1e44d4-9db4-4777-9b96-e3b26c2b5e23",
   "metadata": {},
   "outputs": [
    {
     "data": {
      "text/html": [
       "<div>\n",
       "<style scoped>\n",
       "    .dataframe tbody tr th:only-of-type {\n",
       "        vertical-align: middle;\n",
       "    }\n",
       "\n",
       "    .dataframe tbody tr th {\n",
       "        vertical-align: top;\n",
       "    }\n",
       "\n",
       "    .dataframe thead th {\n",
       "        text-align: right;\n",
       "    }\n",
       "</style>\n",
       "<table border=\"1\" class=\"dataframe\">\n",
       "  <thead>\n",
       "    <tr style=\"text-align: right;\">\n",
       "      <th></th>\n",
       "      <th>0</th>\n",
       "    </tr>\n",
       "  </thead>\n",
       "  <tbody>\n",
       "    <tr>\n",
       "      <th>make</th>\n",
       "      <td>mitsubishi</td>\n",
       "    </tr>\n",
       "    <tr>\n",
       "      <th>model</th>\n",
       "      <td>endeavor</td>\n",
       "    </tr>\n",
       "    <tr>\n",
       "      <th>year</th>\n",
       "      <td>2011</td>\n",
       "    </tr>\n",
       "    <tr>\n",
       "      <th>engine_hp</th>\n",
       "      <td>225.0</td>\n",
       "    </tr>\n",
       "    <tr>\n",
       "      <th>engine_cylinders</th>\n",
       "      <td>6.0</td>\n",
       "    </tr>\n",
       "    <tr>\n",
       "      <th>transmission_type</th>\n",
       "      <td>automatic</td>\n",
       "    </tr>\n",
       "    <tr>\n",
       "      <th>vehicle_style</th>\n",
       "      <td>4dr_suv</td>\n",
       "    </tr>\n",
       "    <tr>\n",
       "      <th>highway_mpg</th>\n",
       "      <td>19</td>\n",
       "    </tr>\n",
       "    <tr>\n",
       "      <th>city_mpg</th>\n",
       "      <td>15</td>\n",
       "    </tr>\n",
       "  </tbody>\n",
       "</table>\n",
       "</div>"
      ],
      "text/plain": [
       "                            0\n",
       "make               mitsubishi\n",
       "model                endeavor\n",
       "year                     2011\n",
       "engine_hp               225.0\n",
       "engine_cylinders          6.0\n",
       "transmission_type   automatic\n",
       "vehicle_style         4dr_suv\n",
       "highway_mpg                19\n",
       "city_mpg                   15"
      ]
     },
     "execution_count": 225,
     "metadata": {},
     "output_type": "execute_result"
    }
   ],
   "source": [
    "df_train[:1].T"
   ]
  },
  {
   "cell_type": "markdown",
   "id": "6a961428-76fa-495b-8843-76e1bc782b81",
   "metadata": {},
   "source": [
    "### Question 3\n",
    "\n",
    "* Calculate the mutual information score between `above_average` and other categorical variables in our dataset. \n",
    "  Use the training set only.\n",
    "* Round the scores to 2 decimals using `round(score, 2)`.\n",
    "\n",
    "Which of these variables has the lowest mutual information score?\n",
    "  \n",
    "- `make`\n",
    "- `model`\n",
    "- `transmission_type` <= transmission_type\n",
    "- `vehicle_style`"
   ]
  },
  {
   "cell_type": "code",
   "execution_count": 226,
   "id": "6a0e4c8d-7477-4f93-bd11-361f35ee6f11",
   "metadata": {},
   "outputs": [],
   "source": [
    "from sklearn.metrics import mutual_info_score"
   ]
  },
  {
   "cell_type": "code",
   "execution_count": 227,
   "id": "56212950-b269-4f73-8e74-1678cb469e3e",
   "metadata": {},
   "outputs": [
    {
     "data": {
      "text/plain": [
       "['make', 'model', 'transmission_type', 'vehicle_style']"
      ]
     },
     "execution_count": 227,
     "metadata": {},
     "output_type": "execute_result"
    }
   ],
   "source": [
    "categorical = list(df_train.dtypes[df_train.dtypes == 'object'].index)\n",
    "categorical"
   ]
  },
  {
   "cell_type": "code",
   "execution_count": 228,
   "id": "0787b169-7153-4341-8c58-34bead300523",
   "metadata": {},
   "outputs": [
    {
     "data": {
      "text/plain": [
       "(7148, 7148)"
      ]
     },
     "execution_count": 228,
     "metadata": {},
     "output_type": "execute_result"
    }
   ],
   "source": [
    "len(df_train.make), len(above_average_train)"
   ]
  },
  {
   "cell_type": "code",
   "execution_count": 229,
   "id": "8fae993b-146e-4596-b7d2-5ca6095aef71",
   "metadata": {},
   "outputs": [],
   "source": [
    "def mutual_info_above_average_score(series):\n",
    "    return mutual_info_score(series, y_train)"
   ]
  },
  {
   "cell_type": "code",
   "execution_count": 230,
   "id": "2c2804c1-ec48-4df5-bd29-3179fb89488f",
   "metadata": {},
   "outputs": [
    {
     "data": {
      "text/plain": [
       "model                0.462344\n",
       "make                 0.239769\n",
       "vehicle_style        0.084143\n",
       "transmission_type    0.020958\n",
       "dtype: float64"
      ]
     },
     "execution_count": 230,
     "metadata": {},
     "output_type": "execute_result"
    }
   ],
   "source": [
    "mi = df_train[categorical]\n",
    "mi = mi.apply(mutual_info_above_average_score)\n",
    "mi.sort_values(ascending=False)"
   ]
  },
  {
   "cell_type": "markdown",
   "id": "2b12212b-0b74-4187-9697-b367f6fd62b2",
   "metadata": {},
   "source": [
    "### Question 4\n",
    "\n",
    "* Now let's train a logistic regression.\n",
    "* Remember that we have several categorical variables in the dataset. Include them using one-hot encoding.\n",
    "* Fit the model on the training dataset.\n",
    "    - To make sure the results are reproducible across different versions of Scikit-Learn, fit the model with these parameters:\n",
    "    - `model = LogisticRegression(solver='liblinear', C=10, max_iter=1000, random_state=42)`\n",
    "* Calculate the accuracy on the validation dataset and round it to 2 decimal digits.\n",
    "\n",
    "What accuracy did you get?\n",
    "\n",
    "- 0.60\n",
    "- 0.72\n",
    "- 0.84\n",
    "- 0.95 <="
   ]
  },
  {
   "cell_type": "code",
   "execution_count": 231,
   "id": "b64c5450-2065-4699-8caa-aed38d2d8e67",
   "metadata": {},
   "outputs": [],
   "source": [
    "from sklearn.feature_extraction import DictVectorizer"
   ]
  },
  {
   "cell_type": "code",
   "execution_count": 232,
   "id": "e3d09585-248f-438b-9562-44c21f4c3165",
   "metadata": {},
   "outputs": [],
   "source": [
    "dv = DictVectorizer(sparse=False)\n",
    "\n",
    "train_dict = df_train.to_dict(orient='records')\n",
    "X_train = dv.fit_transform(train_dict)\n",
    "\n",
    "val_dict = df_val.to_dict(orient='records')\n",
    "X_val = dv.transform(val_dict)\n",
    "\n",
    "test_dict = df_test.to_dict(orient='records')\n",
    "X_test = dv.transform(test_dict)"
   ]
  },
  {
   "cell_type": "code",
   "execution_count": 233,
   "id": "62a6dc33-e091-4177-906e-ff56dc2198b0",
   "metadata": {},
   "outputs": [],
   "source": [
    "from sklearn.linear_model import LogisticRegression"
   ]
  },
  {
   "cell_type": "code",
   "execution_count": 234,
   "id": "7dad1999-c2ae-4583-88e5-8ad433b178db",
   "metadata": {},
   "outputs": [],
   "source": [
    "model = LogisticRegression(solver='liblinear', C=10, max_iter=1000, random_state=42)"
   ]
  },
  {
   "cell_type": "code",
   "execution_count": 235,
   "id": "c74d17fe-536e-4189-9305-5a8e9b56589e",
   "metadata": {},
   "outputs": [
    {
     "data": {
      "text/html": [
       "<style>#sk-container-id-6 {color: black;}#sk-container-id-6 pre{padding: 0;}#sk-container-id-6 div.sk-toggleable {background-color: white;}#sk-container-id-6 label.sk-toggleable__label {cursor: pointer;display: block;width: 100%;margin-bottom: 0;padding: 0.3em;box-sizing: border-box;text-align: center;}#sk-container-id-6 label.sk-toggleable__label-arrow:before {content: \"▸\";float: left;margin-right: 0.25em;color: #696969;}#sk-container-id-6 label.sk-toggleable__label-arrow:hover:before {color: black;}#sk-container-id-6 div.sk-estimator:hover label.sk-toggleable__label-arrow:before {color: black;}#sk-container-id-6 div.sk-toggleable__content {max-height: 0;max-width: 0;overflow: hidden;text-align: left;background-color: #f0f8ff;}#sk-container-id-6 div.sk-toggleable__content pre {margin: 0.2em;color: black;border-radius: 0.25em;background-color: #f0f8ff;}#sk-container-id-6 input.sk-toggleable__control:checked~div.sk-toggleable__content {max-height: 200px;max-width: 100%;overflow: auto;}#sk-container-id-6 input.sk-toggleable__control:checked~label.sk-toggleable__label-arrow:before {content: \"▾\";}#sk-container-id-6 div.sk-estimator input.sk-toggleable__control:checked~label.sk-toggleable__label {background-color: #d4ebff;}#sk-container-id-6 div.sk-label input.sk-toggleable__control:checked~label.sk-toggleable__label {background-color: #d4ebff;}#sk-container-id-6 input.sk-hidden--visually {border: 0;clip: rect(1px 1px 1px 1px);clip: rect(1px, 1px, 1px, 1px);height: 1px;margin: -1px;overflow: hidden;padding: 0;position: absolute;width: 1px;}#sk-container-id-6 div.sk-estimator {font-family: monospace;background-color: #f0f8ff;border: 1px dotted black;border-radius: 0.25em;box-sizing: border-box;margin-bottom: 0.5em;}#sk-container-id-6 div.sk-estimator:hover {background-color: #d4ebff;}#sk-container-id-6 div.sk-parallel-item::after {content: \"\";width: 100%;border-bottom: 1px solid gray;flex-grow: 1;}#sk-container-id-6 div.sk-label:hover label.sk-toggleable__label {background-color: #d4ebff;}#sk-container-id-6 div.sk-serial::before {content: \"\";position: absolute;border-left: 1px solid gray;box-sizing: border-box;top: 0;bottom: 0;left: 50%;z-index: 0;}#sk-container-id-6 div.sk-serial {display: flex;flex-direction: column;align-items: center;background-color: white;padding-right: 0.2em;padding-left: 0.2em;position: relative;}#sk-container-id-6 div.sk-item {position: relative;z-index: 1;}#sk-container-id-6 div.sk-parallel {display: flex;align-items: stretch;justify-content: center;background-color: white;position: relative;}#sk-container-id-6 div.sk-item::before, #sk-container-id-6 div.sk-parallel-item::before {content: \"\";position: absolute;border-left: 1px solid gray;box-sizing: border-box;top: 0;bottom: 0;left: 50%;z-index: -1;}#sk-container-id-6 div.sk-parallel-item {display: flex;flex-direction: column;z-index: 1;position: relative;background-color: white;}#sk-container-id-6 div.sk-parallel-item:first-child::after {align-self: flex-end;width: 50%;}#sk-container-id-6 div.sk-parallel-item:last-child::after {align-self: flex-start;width: 50%;}#sk-container-id-6 div.sk-parallel-item:only-child::after {width: 0;}#sk-container-id-6 div.sk-dashed-wrapped {border: 1px dashed gray;margin: 0 0.4em 0.5em 0.4em;box-sizing: border-box;padding-bottom: 0.4em;background-color: white;}#sk-container-id-6 div.sk-label label {font-family: monospace;font-weight: bold;display: inline-block;line-height: 1.2em;}#sk-container-id-6 div.sk-label-container {text-align: center;}#sk-container-id-6 div.sk-container {/* jupyter's `normalize.less` sets `[hidden] { display: none; }` but bootstrap.min.css set `[hidden] { display: none !important; }` so we also need the `!important` here to be able to override the default hidden behavior on the sphinx rendered scikit-learn.org. See: https://github.com/scikit-learn/scikit-learn/issues/21755 */display: inline-block !important;position: relative;}#sk-container-id-6 div.sk-text-repr-fallback {display: none;}</style><div id=\"sk-container-id-6\" class=\"sk-top-container\"><div class=\"sk-text-repr-fallback\"><pre>LogisticRegression(C=10, max_iter=1000, random_state=42, solver=&#x27;liblinear&#x27;)</pre><b>In a Jupyter environment, please rerun this cell to show the HTML representation or trust the notebook. <br />On GitHub, the HTML representation is unable to render, please try loading this page with nbviewer.org.</b></div><div class=\"sk-container\" hidden><div class=\"sk-item\"><div class=\"sk-estimator sk-toggleable\"><input class=\"sk-toggleable__control sk-hidden--visually\" id=\"sk-estimator-id-6\" type=\"checkbox\" checked><label for=\"sk-estimator-id-6\" class=\"sk-toggleable__label sk-toggleable__label-arrow\">LogisticRegression</label><div class=\"sk-toggleable__content\"><pre>LogisticRegression(C=10, max_iter=1000, random_state=42, solver=&#x27;liblinear&#x27;)</pre></div></div></div></div></div>"
      ],
      "text/plain": [
       "LogisticRegression(C=10, max_iter=1000, random_state=42, solver='liblinear')"
      ]
     },
     "execution_count": 235,
     "metadata": {},
     "output_type": "execute_result"
    }
   ],
   "source": [
    "model.fit(X_train, y_train)"
   ]
  },
  {
   "cell_type": "code",
   "execution_count": 236,
   "id": "d4b5c069-c7cd-4caa-a791-64d6fa48b633",
   "metadata": {},
   "outputs": [
    {
     "data": {
      "text/plain": [
       "-0.39215857714206603"
      ]
     },
     "execution_count": 236,
     "metadata": {},
     "output_type": "execute_result"
    }
   ],
   "source": [
    "model.intercept_[0]"
   ]
  },
  {
   "cell_type": "code",
   "execution_count": null,
   "id": "05baf6ee-e435-4e3a-80fd-769f5fdfb410",
   "metadata": {},
   "outputs": [],
   "source": [
    "model.coef_[0].round(3)"
   ]
  },
  {
   "cell_type": "code",
   "execution_count": 237,
   "id": "f32d7ae5-5da4-48a0-91a9-8e0ae1425218",
   "metadata": {},
   "outputs": [
    {
     "data": {
      "text/plain": [
       "0.95"
      ]
     },
     "execution_count": 237,
     "metadata": {},
     "output_type": "execute_result"
    }
   ],
   "source": [
    "y_pred = model.predict_proba(X_val)[:, 1]\n",
    "\n",
    "(y_val == (y_pred >= 0.5)).mean().round(2)"
   ]
  },
  {
   "cell_type": "markdown",
   "id": "e56f7356-7663-482e-84d5-0d20fd9f58eb",
   "metadata": {},
   "source": [
    "### Question 5 \n",
    "\n",
    "* Let's find the least useful feature using the *feature elimination* technique.\n",
    "* Train a model with all these features (using the same parameters as in Q4).\n",
    "* Now exclude each feature from this set and train a model without it. Record the accuracy for each model.\n",
    "* For each feature, calculate the difference between the original accuracy and the accuracy without the feature. \n",
    "\n",
    "Which of following feature has the smallest difference?\n",
    "\n",
    "- `year` <=\n",
    "- `engine_hp`\n",
    "- `transmission_type`\n",
    "- `city_mpg`\n",
    "\n",
    "> **Note**: the difference doesn't have to be positive"
   ]
  },
  {
   "cell_type": "code",
   "execution_count": 358,
   "id": "d6562708-58dc-4a02-a9af-98ea85cb2790",
   "metadata": {},
   "outputs": [],
   "source": [
    "from sklearn.model_selection import train_test_split\n",
    "from sklearn.metrics import mutual_info_score\n",
    "from sklearn.linear_model import LogisticRegression\n",
    "\n",
    "df_raw = load_data()\n",
    "df = prepare_columns_names(df_raw)\n",
    "df = prepare_string_column_values(df)\n",
    "\n",
    "df = df[features + ['msrp']].fillna(0)\n",
    "df = df.rename(columns={'msrp': 'price'})\n",
    "\n",
    "price_avg = df.price.mean()\n",
    "df['above_average'] = (df.price > price_avg).astype(int)\n",
    "\n",
    "df_full_train, df_test = train_test_split(df, test_size=0.2, random_state=42)\n",
    "df_train, df_val = train_test_split(df_full_train, test_size=0.25, random_state=42)\n",
    "\n",
    "df_train = df_train.reset_index(drop=True)\n",
    "df_val = df_val.reset_index(drop=True)\n",
    "df_test = df_test.reset_index(drop=True)\n",
    "\n",
    "y_train = df_train.above_average.values # df_train.price.values\n",
    "y_val = df_val.above_average.values     # df_val.price.values\n",
    "y_test = df_test.above_average.values   # df_test.price.values\n",
    "\n",
    "del df_train['price']\n",
    "del df_val['price']\n",
    "del df_test['price']\n",
    "\n",
    "del df_train['above_average']\n",
    "del df_val['above_average']\n",
    "del df_test['above_average']\n",
    "\n",
    "categorical = list(df_train.dtypes[df_train.dtypes == 'object'].index)\n",
    "\n",
    "from sklearn.feature_extraction import DictVectorizer"
   ]
  },
  {
   "cell_type": "code",
   "execution_count": 359,
   "id": "6b1c350a-d377-43c4-92f5-af34de96fe78",
   "metadata": {},
   "outputs": [
    {
     "name": "stdout",
     "output_type": "stream",
     "text": [
      "accuracy: 0.95\n"
     ]
    }
   ],
   "source": [
    "dv = DictVectorizer(sparse=False)\n",
    "\n",
    "train_dict = df_train.to_dict(orient='records')\n",
    "X_train = dv.fit_transform(train_dict)\n",
    "\n",
    "val_dict = df_val.to_dict(orient='records')\n",
    "X_val = dv.transform(val_dict)\n",
    "\n",
    "test_dict = df_test.to_dict(orient='records')\n",
    "X_test = dv.transform(test_dict)\n",
    "\n",
    "model = LogisticRegression(solver='liblinear', C=10, max_iter=1000, random_state=42)\n",
    "model.fit(X_train, y_train)\n",
    "y_pred = model.predict_proba(X_val)[:, 1]\n",
    "\n",
    "print(f\"accuracy: {(y_val == (y_pred >= 0.5)).mean().round(2)}\")"
   ]
  },
  {
   "cell_type": "code",
   "execution_count": 309,
   "id": "c1d16aca-c941-493c-beb5-350281d69095",
   "metadata": {},
   "outputs": [],
   "source": [
    "def exclude_column(df, column_name):\n",
    "    new_df = df.copy()\n",
    "    new_df = new_df.loc[:, new_df.columns != column_name]\n",
    "    return new_df\n",
    "\n",
    "def find_accuracy(df_train, y_train, df_val, y_val, column_to_exclude:str = None):\n",
    "    dv = DictVectorizer(sparse=False)\n",
    "\n",
    "    if exclude_column is not None:        \n",
    "        df_train = exclude_column(df_train, column_to_exclude)\n",
    "        df_val = exclude_column(df_val, column_to_exclude)        \n",
    "\n",
    "    train_dict = df_train.to_dict(orient='records')\n",
    "    X_train = dv.fit_transform(train_dict)\n",
    "    \n",
    "    val_dict = df_val.to_dict(orient='records')\n",
    "    X_val = dv.transform(val_dict)\n",
    "    \n",
    "    model = LogisticRegression(solver='liblinear', C=10, max_iter=1000, random_state=42)\n",
    "    model.fit(X_train, y_train)\n",
    "    y_pred = model.predict_proba(X_val)[:, 1]\n",
    "\n",
    "    accuracy = (y_val == (y_pred >= 0.5)).mean().round(5)\n",
    "\n",
    "    return accuracy"
   ]
  },
  {
   "cell_type": "code",
   "execution_count": null,
   "id": "302ba5cb-0b1b-4a43-8dee-1e3dd386b90b",
   "metadata": {},
   "outputs": [],
   "source": [
    "Which of following feature has the smallest difference?\n",
    "year\n",
    "engine_hp\n",
    "transmission_type\n",
    "city_mpg"
   ]
  },
  {
   "cell_type": "code",
   "execution_count": 321,
   "id": "efa3850f-fee2-4b83-9511-cdf293d65657",
   "metadata": {},
   "outputs": [
    {
     "name": "stdout",
     "output_type": "stream",
     "text": [
      "accuracy: 0.94545, excluded column: None\n",
      "accuracy: 0.94755, excluded column: year, diff: 0.0021\n",
      "accuracy: 0.92279, excluded column: engine_hp, diff: 0.02266\n",
      "accuracy: 0.94041, excluded column: transmission_type, diff: 0.00504\n",
      "accuracy: 0.93244, excluded column: city_mpg, diff: 0.01301\n",
      "[0.0021, 0.00504, 0.01301, 0.02266]\n"
     ]
    }
   ],
   "source": [
    "base_accuracy = find_accuracy(df_train, y_train, df_val, y_val)\n",
    "accuracy = base_accuracy\n",
    "print(f\"accuracy: {accuracy}, excluded column: {None}\")\n",
    "diffs = []\n",
    "\n",
    "# for col in df_train.columns:\n",
    "for col in ['year', 'engine_hp', 'transmission_type', 'city_mpg']:\n",
    "    accuracy = find_accuracy(df_train, y_train, df_val, y_val, col)\n",
    "    diff = abs((base_accuracy - accuracy).round(7))\n",
    "    print(f\"accuracy: {accuracy}, excluded column: {col}, diff: {diff}\")\n",
    "    diffs.append(diff)\n",
    "\n",
    "diffs.sort()\n",
    "print(diffs)"
   ]
  },
  {
   "cell_type": "markdown",
   "id": "7a8c2ea3-7b36-4a57-97bd-922caeb9b1bb",
   "metadata": {},
   "source": [
    "### Question 6\n",
    "\n",
    "* For this question, we'll see how to use a linear regression model from Scikit-Learn.\n",
    "* We'll need to use the original column `price`. Apply the logarithmic transformation to this column.\n",
    "* Fit the Ridge regression model on the training data with a solver `'sag'`. Set the seed to `42`.\n",
    "* This model also has a parameter `alpha`. Let's try the following values: `[0, 0.01, 0.1, 1, 10]`.\n",
    "* Round your RMSE scores to 3 decimal digits.\n",
    "\n",
    "Which of these alphas leads to the best RMSE on the validation set?\n",
    "\n",
    "- 0\n",
    "- 0.01\n",
    "- <mark>0.1</mark>\n",
    "- 1\n",
    "- 10\n",
    "\n",
    "> **Note**: If there are multiple options, select the smallest `alpha`."
   ]
  },
  {
   "cell_type": "code",
   "execution_count": 360,
   "id": "0fa398ae-e207-49c6-9c21-8aa2b9ba9b14",
   "metadata": {},
   "outputs": [],
   "source": [
    "def rmse(y, y_pred):\n",
    "    se = (y - y_pred) ** 2\n",
    "    mse = se.mean()\n",
    "    return np.sqrt(mse)"
   ]
  },
  {
   "cell_type": "code",
   "execution_count": 410,
   "id": "322255a3-96ec-417e-a4ca-5b75c25e16f7",
   "metadata": {},
   "outputs": [],
   "source": [
    "from sklearn.model_selection import train_test_split\n",
    "from sklearn.metrics import mutual_info_score\n",
    "from sklearn.linear_model import LogisticRegression, LinearRegression, Ridge\n",
    "from sklearn.feature_extraction import DictVectorizer\n",
    "from sklearn.preprocessing import StandardScaler\n",
    "\n",
    "df_raw = load_data()\n",
    "df = prepare_columns_names(df_raw)\n",
    "df = prepare_string_column_values(df)\n",
    "\n",
    "df = df[features + ['msrp']].fillna(0)\n",
    "df = df.rename(columns={'msrp': 'price'})\n",
    "\n",
    "df_full_train, df_test = train_test_split(df, test_size=0.2, random_state=42)\n",
    "df_train, df_val = train_test_split(df_full_train, test_size=0.25, random_state=42)\n",
    "\n",
    "df_train = df_train.reset_index(drop=True)\n",
    "df_val = df_val.reset_index(drop=True)\n",
    "df_test = df_test.reset_index(drop=True)\n",
    "\n",
    "y_train = np.log1p(df_train['price'].values)\n",
    "y_val = np.log1p(df_val['price'].values)\n",
    "y_test = np.log1p(df_test['price'].values)\n",
    "\n",
    "del df_train['price']\n",
    "del df_val['price']\n",
    "del df_test['price']\n",
    "\n",
    "categorical = list(df_train.dtypes[df_train.dtypes == 'object'].index)\n",
    "numerical = list(df_train.dtypes[df_train.dtypes != 'object'].index)"
   ]
  },
  {
   "cell_type": "code",
   "execution_count": 411,
   "id": "6a20199d-a770-4953-a996-4fbb574e17a6",
   "metadata": {},
   "outputs": [
    {
     "data": {
      "text/plain": [
       "['year', 'engine_hp', 'engine_cylinders', 'highway_mpg', 'city_mpg']"
      ]
     },
     "execution_count": 411,
     "metadata": {},
     "output_type": "execute_result"
    }
   ],
   "source": [
    "numerical"
   ]
  },
  {
   "cell_type": "code",
   "execution_count": 412,
   "id": "6ae11bb2-666d-4c81-a27c-502ff5104739",
   "metadata": {},
   "outputs": [],
   "source": [
    "# scale numerical values\n",
    "scaler = StandardScaler()\n",
    "\n",
    "for col in numerical:\n",
    "    df_train[col] = scaler.fit_transform(df_train[col].values.reshape(-1, 1))\n",
    "    df_val[col] = scaler.fit_transform(df_val[col].values.reshape(-1, 1))\n",
    "    df_test[col] = scaler.fit_transform(df_test[col].values.reshape(-1, 1))"
   ]
  },
  {
   "cell_type": "code",
   "execution_count": 402,
   "id": "6fd509b2-8560-4728-8218-0cafa93ba05d",
   "metadata": {},
   "outputs": [
    {
     "data": {
      "text/plain": [
       "array([ 0.06998932, -0.19711354,  0.20354075, ...,  0.20354075,\n",
       "       -2.33393639,  0.60419503])"
      ]
     },
     "execution_count": 402,
     "metadata": {},
     "output_type": "execute_result"
    }
   ],
   "source": [
    "df_train['year'].values"
   ]
  },
  {
   "cell_type": "code",
   "execution_count": 421,
   "id": "c5ce5cb9-c8d1-4150-8a4a-78b348c312d8",
   "metadata": {},
   "outputs": [],
   "source": [
    "dv = DictVectorizer(sparse=True)\n",
    "\n",
    "train_dict = df_train.to_dict(orient='records')\n",
    "X_train = dv.fit_transform(train_dict)\n",
    "\n",
    "val_dict = df_val.to_dict(orient='records')\n",
    "X_val = dv.transform(val_dict)\n",
    "\n",
    "test_dict = df_test.to_dict(orient='records')\n",
    "X_test = dv.transform(test_dict)"
   ]
  },
  {
   "cell_type": "code",
   "execution_count": 423,
   "id": "f25f00a0-542d-4f96-80f9-c496ba74a3d2",
   "metadata": {},
   "outputs": [
    {
     "data": {
      "text/plain": [
       "943"
      ]
     },
     "execution_count": 423,
     "metadata": {},
     "output_type": "execute_result"
    }
   ],
   "source": [
    "# dv.get_feature_names_out()\n",
    "len(dv.get_feature_names_out())\n",
    "# train_dict[0]"
   ]
  },
  {
   "cell_type": "code",
   "execution_count": 424,
   "id": "85a38b9f-0ab3-4f96-9b4e-ebb40b556ef8",
   "metadata": {},
   "outputs": [
    {
     "data": {
      "text/html": [
       "<style>#sk-container-id-15 {color: black;}#sk-container-id-15 pre{padding: 0;}#sk-container-id-15 div.sk-toggleable {background-color: white;}#sk-container-id-15 label.sk-toggleable__label {cursor: pointer;display: block;width: 100%;margin-bottom: 0;padding: 0.3em;box-sizing: border-box;text-align: center;}#sk-container-id-15 label.sk-toggleable__label-arrow:before {content: \"▸\";float: left;margin-right: 0.25em;color: #696969;}#sk-container-id-15 label.sk-toggleable__label-arrow:hover:before {color: black;}#sk-container-id-15 div.sk-estimator:hover label.sk-toggleable__label-arrow:before {color: black;}#sk-container-id-15 div.sk-toggleable__content {max-height: 0;max-width: 0;overflow: hidden;text-align: left;background-color: #f0f8ff;}#sk-container-id-15 div.sk-toggleable__content pre {margin: 0.2em;color: black;border-radius: 0.25em;background-color: #f0f8ff;}#sk-container-id-15 input.sk-toggleable__control:checked~div.sk-toggleable__content {max-height: 200px;max-width: 100%;overflow: auto;}#sk-container-id-15 input.sk-toggleable__control:checked~label.sk-toggleable__label-arrow:before {content: \"▾\";}#sk-container-id-15 div.sk-estimator input.sk-toggleable__control:checked~label.sk-toggleable__label {background-color: #d4ebff;}#sk-container-id-15 div.sk-label input.sk-toggleable__control:checked~label.sk-toggleable__label {background-color: #d4ebff;}#sk-container-id-15 input.sk-hidden--visually {border: 0;clip: rect(1px 1px 1px 1px);clip: rect(1px, 1px, 1px, 1px);height: 1px;margin: -1px;overflow: hidden;padding: 0;position: absolute;width: 1px;}#sk-container-id-15 div.sk-estimator {font-family: monospace;background-color: #f0f8ff;border: 1px dotted black;border-radius: 0.25em;box-sizing: border-box;margin-bottom: 0.5em;}#sk-container-id-15 div.sk-estimator:hover {background-color: #d4ebff;}#sk-container-id-15 div.sk-parallel-item::after {content: \"\";width: 100%;border-bottom: 1px solid gray;flex-grow: 1;}#sk-container-id-15 div.sk-label:hover label.sk-toggleable__label {background-color: #d4ebff;}#sk-container-id-15 div.sk-serial::before {content: \"\";position: absolute;border-left: 1px solid gray;box-sizing: border-box;top: 0;bottom: 0;left: 50%;z-index: 0;}#sk-container-id-15 div.sk-serial {display: flex;flex-direction: column;align-items: center;background-color: white;padding-right: 0.2em;padding-left: 0.2em;position: relative;}#sk-container-id-15 div.sk-item {position: relative;z-index: 1;}#sk-container-id-15 div.sk-parallel {display: flex;align-items: stretch;justify-content: center;background-color: white;position: relative;}#sk-container-id-15 div.sk-item::before, #sk-container-id-15 div.sk-parallel-item::before {content: \"\";position: absolute;border-left: 1px solid gray;box-sizing: border-box;top: 0;bottom: 0;left: 50%;z-index: -1;}#sk-container-id-15 div.sk-parallel-item {display: flex;flex-direction: column;z-index: 1;position: relative;background-color: white;}#sk-container-id-15 div.sk-parallel-item:first-child::after {align-self: flex-end;width: 50%;}#sk-container-id-15 div.sk-parallel-item:last-child::after {align-self: flex-start;width: 50%;}#sk-container-id-15 div.sk-parallel-item:only-child::after {width: 0;}#sk-container-id-15 div.sk-dashed-wrapped {border: 1px dashed gray;margin: 0 0.4em 0.5em 0.4em;box-sizing: border-box;padding-bottom: 0.4em;background-color: white;}#sk-container-id-15 div.sk-label label {font-family: monospace;font-weight: bold;display: inline-block;line-height: 1.2em;}#sk-container-id-15 div.sk-label-container {text-align: center;}#sk-container-id-15 div.sk-container {/* jupyter's `normalize.less` sets `[hidden] { display: none; }` but bootstrap.min.css set `[hidden] { display: none !important; }` so we also need the `!important` here to be able to override the default hidden behavior on the sphinx rendered scikit-learn.org. See: https://github.com/scikit-learn/scikit-learn/issues/21755 */display: inline-block !important;position: relative;}#sk-container-id-15 div.sk-text-repr-fallback {display: none;}</style><div id=\"sk-container-id-15\" class=\"sk-top-container\"><div class=\"sk-text-repr-fallback\"><pre>Ridge(random_state=42, solver=&#x27;sag&#x27;)</pre><b>In a Jupyter environment, please rerun this cell to show the HTML representation or trust the notebook. <br />On GitHub, the HTML representation is unable to render, please try loading this page with nbviewer.org.</b></div><div class=\"sk-container\" hidden><div class=\"sk-item\"><div class=\"sk-estimator sk-toggleable\"><input class=\"sk-toggleable__control sk-hidden--visually\" id=\"sk-estimator-id-15\" type=\"checkbox\" checked><label for=\"sk-estimator-id-15\" class=\"sk-toggleable__label sk-toggleable__label-arrow\">Ridge</label><div class=\"sk-toggleable__content\"><pre>Ridge(random_state=42, solver=&#x27;sag&#x27;)</pre></div></div></div></div></div>"
      ],
      "text/plain": [
       "Ridge(random_state=42, solver='sag')"
      ]
     },
     "execution_count": 424,
     "metadata": {},
     "output_type": "execute_result"
    }
   ],
   "source": [
    "model = Ridge(alpha=1.0, solver='sag', random_state=42, )\n",
    "model.fit(X_train, y_train)"
   ]
  },
  {
   "cell_type": "code",
   "execution_count": 425,
   "id": "f2537f77-2db7-4aa4-94ea-a28dd056d30b",
   "metadata": {},
   "outputs": [
    {
     "data": {
      "text/plain": [
       "array([10.12877888, 10.83548158,  9.92374901, ...,  9.93023767,\n",
       "       11.77113531, 10.91406345])"
      ]
     },
     "execution_count": 425,
     "metadata": {},
     "output_type": "execute_result"
    }
   ],
   "source": [
    "y_val_pred = model.predict(X_val)\n",
    "y_val_pred"
   ]
  },
  {
   "cell_type": "code",
   "execution_count": 426,
   "id": "6af40b8c-c57d-442c-bad0-24e39bae3ade",
   "metadata": {},
   "outputs": [
    {
     "data": {
      "text/plain": [
       "array([10.26381581, 11.00544424,  9.90802723, ...,  9.99747868,\n",
       "       11.72558222, 10.87749987])"
      ]
     },
     "execution_count": 426,
     "metadata": {},
     "output_type": "execute_result"
    }
   ],
   "source": [
    "y_val"
   ]
  },
  {
   "cell_type": "code",
   "execution_count": 427,
   "id": "495f9d9d-8c04-4556-8368-405726a8e3e9",
   "metadata": {},
   "outputs": [
    {
     "data": {
      "text/plain": [
       "<matplotlib.legend.Legend at 0x29ed690d0>"
      ]
     },
     "execution_count": 427,
     "metadata": {},
     "output_type": "execute_result"
    },
    {
     "data": {
      "image/png": "[encoded data removed]",
      "text/plain": [
       "<Figure size 640x480 with 1 Axes>"
      ]
     },
     "metadata": {},
     "output_type": "display_data"
    }
   ],
   "source": [
    "sns.histplot(y_val, bins=70, label='train')\n",
    "sns.histplot(y_val_pred, bins=70, label='pred')\n",
    "plt.legend()"
   ]
  },
  {
   "cell_type": "code",
   "execution_count": 428,
   "id": "3b768db3-93a0-422f-8471-18c37fa3c914",
   "metadata": {},
   "outputs": [
    {
     "data": {
      "text/plain": [
       "0.233"
      ]
     },
     "execution_count": 428,
     "metadata": {},
     "output_type": "execute_result"
    }
   ],
   "source": [
    "rmse(y_val, y_val_pred).round(3)"
   ]
  },
  {
   "cell_type": "code",
   "execution_count": 436,
   "id": "dcb256fc-f63e-4bc9-a66b-9d365e564727",
   "metadata": {},
   "outputs": [],
   "source": [
    "def train_ridge_model(alpha):\n",
    "    model = Ridge(alpha=alpha, solver='sag', random_state=42, )\n",
    "    model.fit(X_train, y_train)\n",
    "\n",
    "    y_val_pred = model.predict(X_val)\n",
    "    y_val_pred\n",
    "\n",
    "    score = rmse(y_val, y_val_pred).round(7)\n",
    "    return score"
   ]
  },
  {
   "cell_type": "code",
   "execution_count": 438,
   "id": "6535d59f-ec88-4bb6-ac23-f6d86d945755",
   "metadata": {},
   "outputs": [
    {
     "name": "stdout",
     "output_type": "stream",
     "text": [
      "0.2297078 0\n",
      "0.22257 0.01\n",
      "0.2167103 0.1\n",
      "0.2327499 1\n",
      "0.3229156 10\n",
      "\n",
      "best_alpha: 0.1, best_score: 0.2167103\n"
     ]
    }
   ],
   "source": [
    "best_alpha = 1000000\n",
    "best_score = 1000000\n",
    "\n",
    "for alpha in [0, 0.01, 0.1, 1, 10]:\n",
    "    score = train_ridge_model(alpha)\n",
    "\n",
    "    if (score < best_score):\n",
    "        best_score = score\n",
    "        best_alpha = alpha\n",
    "        \n",
    "    print(score, alpha)\n",
    "\n",
    "print()\n",
    "print(f\"best_alpha: {best_alpha}, best_score: {best_score}\")"
   ]
  }
 ],
 "metadata": {
  "kernelspec": {
   "display_name": "Python 3 (ipykernel)",
   "language": "python",
   "name": "python3"
  },
  "language_info": {
   "codemirror_mode": {
    "name": "ipython",
    "version": 3
   },
   "file_extension": ".py",
   "mimetype": "text/x-python",
   "name": "python",
   "nbconvert_exporter": "python",
   "pygments_lexer": "ipython3",
   "version": "3.11.1"
  }
 },
 "nbformat": 4,
 "nbformat_minor": 5
}
