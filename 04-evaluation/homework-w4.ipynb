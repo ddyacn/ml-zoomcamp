{
 "cells": [
  {
   "cell_type": "markdown",
   "id": "e23f6351-7e85-4bf5-8420-50ed7020e2ed",
   "metadata": {},
   "source": [
    "https://github.com/DataTalksClub/machine-learning-zoomcamp/blob/master/cohorts/2023/04-evaluation/homework.md"
   ]
  },
  {
   "cell_type": "markdown",
   "id": "83f13520-2451-4ea5-8da2-0492d949e4d4",
   "metadata": {},
   "source": [
    "We'll work with the `MSRP` variable, and we'll transform it to a classification task. \n",
    "\n",
    "For the rest of the homework, you'll need to use only these columns:\n",
    "\n",
    "* `Make`,\n",
    "* `Model`,\n",
    "* `Year`,\n",
    "* `Engine HP`,\n",
    "* `Engine Cylinders`,\n",
    "* `Transmission Type`,\n",
    "* `Vehicle Style`,\n",
    "* `highway MPG`,\n",
    "* `city mpg`\n",
    "* `MSRP`"
   ]
  },
  {
   "cell_type": "code",
   "execution_count": 285,
   "id": "d1a0cdab-8107-4bbd-b823-a13f69ed986a",
   "metadata": {},
   "outputs": [],
   "source": [
    "from tqdm.auto import tqdm"
   ]
  },
  {
   "cell_type": "code",
   "execution_count": 286,
   "id": "d4df0592-7fc7-4580-8105-7806e3e97cd1",
   "metadata": {},
   "outputs": [],
   "source": [
    "import pandas as pd\n",
    "import numpy as np\n",
    "\n",
    "import matplotlib.pyplot as plt\n",
    "import seaborn as sns"
   ]
  },
  {
   "cell_type": "code",
   "execution_count": 287,
   "id": "a37b7c4a-110c-4dc1-9048-08bfc9f26e96",
   "metadata": {},
   "outputs": [],
   "source": [
    "from sklearn.model_selection import train_test_split\n",
    "from sklearn.feature_extraction import DictVectorizer\n",
    "from sklearn.linear_model import LogisticRegression\n",
    "from sklearn.metrics import auc\n",
    "from sklearn.metrics import roc_curve\n",
    "from sklearn.metrics import roc_auc_score\n",
    "from sklearn.model_selection import KFold"
   ]
  },
  {
   "cell_type": "code",
   "execution_count": 288,
   "id": "cddee1e9-ef53-4133-acc4-4f19ff6f958e",
   "metadata": {},
   "outputs": [],
   "source": [
    "def load_data():\n",
    "    return pd.read_csv('car_price_data-w4.csv')"
   ]
  },
  {
   "cell_type": "code",
   "execution_count": 289,
   "id": "b7f7f8eb-6dc2-4a5a-b00e-bf8556cc2d9c",
   "metadata": {},
   "outputs": [],
   "source": [
    "def prepare_columns_names(df):\n",
    "    data = df.copy()\n",
    "    data.columns = data.columns.str.lower().str.replace(' ', '_')\n",
    "    return data"
   ]
  },
  {
   "cell_type": "code",
   "execution_count": 290,
   "id": "17d11066-0a28-444e-b0ba-39bf38871e9c",
   "metadata": {},
   "outputs": [],
   "source": [
    "def prepare_string_column_values(df):\n",
    "    data = df.copy()\n",
    "    strings = list(data.dtypes[data.dtypes == 'object'].index)\n",
    "\n",
    "    for col in strings:\n",
    "        data[col] = data[col].str.lower().str.replace(' ', '_')\n",
    "        data[col] = data[col].str.lower().str.replace('/', '_')\n",
    "    \n",
    "    return data"
   ]
  },
  {
   "cell_type": "code",
   "execution_count": 291,
   "id": "dd2b7ed8-ad55-472b-9e99-8a4730402249",
   "metadata": {},
   "outputs": [],
   "source": [
    "def fill_missing_values_with_zero(df):\n",
    "    return df.fillna(0)"
   ]
  },
  {
   "cell_type": "code",
   "execution_count": 292,
   "id": "a67464cc-c611-4b7f-a56a-3889e1db9b0b",
   "metadata": {},
   "outputs": [],
   "source": [
    "def calc_confusion_table_values(y_val, y_pred, threshold=0.5):\n",
    "    actual_positive = (y_val == 1)\n",
    "    actual_negative = (y_val == 0)\n",
    "    \n",
    "    predict_positive = (y_pred >= threshold)\n",
    "    predict_negative = (y_pred < threshold)\n",
    "\n",
    "    tp = (predict_positive & actual_positive).sum()\n",
    "    tn = (predict_negative & actual_negative).sum()\n",
    "    \n",
    "    fp = (predict_positive & actual_negative).sum()\n",
    "    fn = (predict_negative & actual_positive).sum()\n",
    "\n",
    "    return tp, tn, fp, fn"
   ]
  },
  {
   "cell_type": "code",
   "execution_count": 293,
   "id": "59e740b4-1e15-4f7d-aa23-65984466beb2",
   "metadata": {},
   "outputs": [],
   "source": [
    "def vectorize(df, sparse=False):\n",
    "    dv = DictVectorizer(sparse=sparse)\n",
    "\n",
    "    df_dict = df.to_dict(orient='records')\n",
    "    X = dv.fit_transform(df_dict)    \n",
    "\n",
    "    return dv, X"
   ]
  },
  {
   "cell_type": "code",
   "execution_count": 294,
   "id": "340fd023-1be7-47f7-890f-1f810f14db39",
   "metadata": {},
   "outputs": [],
   "source": [
    "def vectorize_and_train(df_train, y_train, C=1.0, random_state=None):\n",
    "    dv, X_train = vectorize(df_train)\n",
    "    \n",
    "    model = LogisticRegression(solver='liblinear', C=C, max_iter=1000, random_state=random_state)\n",
    "    model.fit(X_train, y_train)\n",
    "\n",
    "    return dv, model"
   ]
  },
  {
   "cell_type": "code",
   "execution_count": 295,
   "id": "2b5452c1-2de2-4464-85fa-0f53d401dc7f",
   "metadata": {},
   "outputs": [],
   "source": [
    "hw_columns = [\n",
    "    'make',\n",
    "    'model',\n",
    "    'year',\n",
    "    'engine_hp',\n",
    "    'engine_cylinders',\n",
    "    'transmission_type',\n",
    "    'vehicle_style',\n",
    "    'highway_mpg',\n",
    "    'city_mpg',\n",
    "    'msrp'\n",
    "]"
   ]
  },
  {
   "cell_type": "markdown",
   "id": "e90b50f1-01a7-4db6-8a54-be38aff1e29b",
   "metadata": {},
   "source": [
    "### Data preparation\n",
    "\n",
    "* Keep only the columns above\n",
    "* Lowercase the column names and replace spaces with underscores\n",
    "* Fill the missing values with 0 \n",
    "* Make the price binary (1 if above the average, 0 otherwise) - this will be our target variable `above_average`\n",
    "\n",
    "Split the data into 3 parts: train/validation/test with 60%/20%/20% distribution. Use `train_test_split` function for that with `random_state=1`"
   ]
  },
  {
   "cell_type": "code",
   "execution_count": 296,
   "id": "47d7b2f4-1c01-46b0-9e4f-b7ea367b2df0",
   "metadata": {},
   "outputs": [],
   "source": [
    "df_raw = load_data()"
   ]
  },
  {
   "cell_type": "code",
   "execution_count": 297,
   "id": "bfef0d09-5c0d-4513-99bc-734361b1bf70",
   "metadata": {},
   "outputs": [
    {
     "data": {
      "text/html": [
       "<div>\n",
       "<style scoped>\n",
       "    .dataframe tbody tr th:only-of-type {\n",
       "        vertical-align: middle;\n",
       "    }\n",
       "\n",
       "    .dataframe tbody tr th {\n",
       "        vertical-align: top;\n",
       "    }\n",
       "\n",
       "    .dataframe thead th {\n",
       "        text-align: right;\n",
       "    }\n",
       "</style>\n",
       "<table border=\"1\" class=\"dataframe\">\n",
       "  <thead>\n",
       "    <tr style=\"text-align: right;\">\n",
       "      <th></th>\n",
       "      <th>make</th>\n",
       "      <th>model</th>\n",
       "      <th>year</th>\n",
       "      <th>engine_hp</th>\n",
       "      <th>engine_cylinders</th>\n",
       "      <th>transmission_type</th>\n",
       "      <th>vehicle_style</th>\n",
       "      <th>highway_mpg</th>\n",
       "      <th>city_mpg</th>\n",
       "      <th>msrp</th>\n",
       "      <th>above_average</th>\n",
       "    </tr>\n",
       "  </thead>\n",
       "  <tbody>\n",
       "    <tr>\n",
       "      <th>0</th>\n",
       "      <td>bmw</td>\n",
       "      <td>1_series_m</td>\n",
       "      <td>2011</td>\n",
       "      <td>335.0</td>\n",
       "      <td>6.0</td>\n",
       "      <td>manual</td>\n",
       "      <td>coupe</td>\n",
       "      <td>26</td>\n",
       "      <td>19</td>\n",
       "      <td>46135</td>\n",
       "      <td>1</td>\n",
       "    </tr>\n",
       "    <tr>\n",
       "      <th>1</th>\n",
       "      <td>bmw</td>\n",
       "      <td>1_series</td>\n",
       "      <td>2011</td>\n",
       "      <td>300.0</td>\n",
       "      <td>6.0</td>\n",
       "      <td>manual</td>\n",
       "      <td>convertible</td>\n",
       "      <td>28</td>\n",
       "      <td>19</td>\n",
       "      <td>40650</td>\n",
       "      <td>1</td>\n",
       "    </tr>\n",
       "  </tbody>\n",
       "</table>\n",
       "</div>"
      ],
      "text/plain": [
       "  make       model  year  engine_hp  engine_cylinders transmission_type  \\\n",
       "0  bmw  1_series_m  2011      335.0               6.0            manual   \n",
       "1  bmw    1_series  2011      300.0               6.0            manual   \n",
       "\n",
       "  vehicle_style  highway_mpg  city_mpg   msrp  above_average  \n",
       "0         coupe           26        19  46135              1  \n",
       "1   convertible           28        19  40650              1  "
      ]
     },
     "execution_count": 297,
     "metadata": {},
     "output_type": "execute_result"
    }
   ],
   "source": [
    "# Prepare Data\n",
    "df = prepare_columns_names(df_raw)\n",
    "df = prepare_string_column_values(df)\n",
    "\n",
    "df = df[hw_columns]\n",
    "df = fill_missing_values_with_zero(df)\n",
    "# df = df.rename(columns={'msrp': 'price'})\n",
    "\n",
    "price_avg = df.msrp.mean()\n",
    "df['above_average'] = (df.msrp > price_avg).astype(int)\n",
    "\n",
    "df.head(2)"
   ]
  },
  {
   "cell_type": "code",
   "execution_count": 298,
   "id": "20ac88e2-ad3b-48cb-a628-4cdae772c5fa",
   "metadata": {},
   "outputs": [],
   "source": [
    "random_state = 1\n",
    "\n",
    "df_full_train, df_test = train_test_split(df, test_size=0.2, random_state=random_state)\n",
    "df_train, df_val = train_test_split(df_full_train, test_size=0.25, random_state=random_state)\n",
    "\n",
    "df_train = df_train.reset_index(drop=True)\n",
    "df_val = df_val.reset_index(drop=True)\n",
    "df_test = df_test.reset_index(drop=True)\n",
    "\n",
    "y_train = df_train.above_average.values\n",
    "y_val = df_val.above_average.values\n",
    "y_test = df_test.above_average.values\n",
    "\n",
    "for col in ['msrp', 'above_average']:\n",
    "    del df_train[col]\n",
    "    del df_val[col]\n",
    "    del df_test[col]"
   ]
  },
  {
   "cell_type": "code",
   "execution_count": 299,
   "id": "adb700ce-a19a-43d0-98ef-d52c396915a9",
   "metadata": {},
   "outputs": [
    {
     "data": {
      "text/html": [
       "<div>\n",
       "<style scoped>\n",
       "    .dataframe tbody tr th:only-of-type {\n",
       "        vertical-align: middle;\n",
       "    }\n",
       "\n",
       "    .dataframe tbody tr th {\n",
       "        vertical-align: top;\n",
       "    }\n",
       "\n",
       "    .dataframe thead th {\n",
       "        text-align: right;\n",
       "    }\n",
       "</style>\n",
       "<table border=\"1\" class=\"dataframe\">\n",
       "  <thead>\n",
       "    <tr style=\"text-align: right;\">\n",
       "      <th></th>\n",
       "      <th>0</th>\n",
       "    </tr>\n",
       "  </thead>\n",
       "  <tbody>\n",
       "    <tr>\n",
       "      <th>make</th>\n",
       "      <td>toyota</td>\n",
       "    </tr>\n",
       "    <tr>\n",
       "      <th>model</th>\n",
       "      <td>highlander_hybrid</td>\n",
       "    </tr>\n",
       "    <tr>\n",
       "      <th>year</th>\n",
       "      <td>2016</td>\n",
       "    </tr>\n",
       "    <tr>\n",
       "      <th>engine_hp</th>\n",
       "      <td>280.0</td>\n",
       "    </tr>\n",
       "    <tr>\n",
       "      <th>engine_cylinders</th>\n",
       "      <td>6.0</td>\n",
       "    </tr>\n",
       "    <tr>\n",
       "      <th>transmission_type</th>\n",
       "      <td>automatic</td>\n",
       "    </tr>\n",
       "    <tr>\n",
       "      <th>vehicle_style</th>\n",
       "      <td>4dr_suv</td>\n",
       "    </tr>\n",
       "    <tr>\n",
       "      <th>highway_mpg</th>\n",
       "      <td>28</td>\n",
       "    </tr>\n",
       "    <tr>\n",
       "      <th>city_mpg</th>\n",
       "      <td>27</td>\n",
       "    </tr>\n",
       "  </tbody>\n",
       "</table>\n",
       "</div>"
      ],
      "text/plain": [
       "                                   0\n",
       "make                          toyota\n",
       "model              highlander_hybrid\n",
       "year                            2016\n",
       "engine_hp                      280.0\n",
       "engine_cylinders                 6.0\n",
       "transmission_type          automatic\n",
       "vehicle_style                4dr_suv\n",
       "highway_mpg                       28\n",
       "city_mpg                          27"
      ]
     },
     "execution_count": 299,
     "metadata": {},
     "output_type": "execute_result"
    }
   ],
   "source": [
    "df_train[:1].T"
   ]
  },
  {
   "cell_type": "markdown",
   "id": "ed1d2d24-8ce7-45f3-83d8-249a127cdc5d",
   "metadata": {},
   "source": [
    "### Question 1: ROC AUC feature importance\n",
    "\n",
    "ROC AUC could also be used to evaluate feature importance of numerical variables. \n",
    "\n",
    "Let's do that\n",
    "\n",
    "* For each numerical variable, use it as score and compute AUC with the `above_average` variable\n",
    "* Use the training dataset for that\n",
    "\n",
    "\n",
    "If your AUC is < 0.5, invert this variable by putting \"-\" in front\n",
    "\n",
    "(e.g. `-df_train['engine_hp']`)\n",
    "\n",
    "AUC can go below 0.5 if the variable is negatively correlated with the target varialble. You can change the direction of the correlation by negating this variable - then negative correlation becomes positive.\n",
    "\n",
    "Which numerical variable (among the following 4) has the highest AUC?\n",
    "\n",
    "- `engine_hp` <=\n",
    "- `engine_cylinders`\n",
    "- `highway_mpg`\n",
    "- `city_mpg`"
   ]
  },
  {
   "cell_type": "code",
   "execution_count": 300,
   "id": "5b1147cc-e78a-4c86-ab7b-05d4fad8d4fa",
   "metadata": {},
   "outputs": [
    {
     "name": "stdout",
     "output_type": "stream",
     "text": [
      "auc: 0.9153  - engine_hp\n",
      "auc: 0.7691  - engine_cylinders\n",
      "auc: 0.6286  - highway_mpg\n",
      "auc: 0.67    - city_mpg\n"
     ]
    }
   ],
   "source": [
    "columns = [\n",
    "    'engine_hp',\n",
    "    'engine_cylinders',        \n",
    "    'highway_mpg',\n",
    "    'city_mpg'\n",
    "]\n",
    "\n",
    "for col in columns:\n",
    "    dv, model = vectorize_and_train(df_train[[col]], y_train)\n",
    "    X_val = dv.transform(df_val[[col]].to_dict(orient='records'))\n",
    "    y_pred = model.predict_proba(X_val)[:, 1]\n",
    "    score = roc_auc_score(y_val, y_pred)\n",
    "    print(f\"auc: {score.round(4):<6}  - {col}\")"
   ]
  },
  {
   "cell_type": "markdown",
   "id": "8e5a671f-60fb-4b19-a73d-77d59686b723",
   "metadata": {},
   "source": [
    "### Question 2: Training the model\n",
    "\n",
    "Apply one-hot-encoding using `DictVectorizer` and train the logistic regression with these parameters:\n",
    "\n",
    "```python\n",
    "LogisticRegression(solver='liblinear', C=1.0, max_iter=1000)\n",
    "```\n",
    "\n",
    "What's the AUC of this model on the validation dataset? (round to 3 digits)\n",
    "\n",
    "- 0.678\n",
    "- 0.779\n",
    "- 0.878\n",
    "- <mark>0.979</mark>"
   ]
  },
  {
   "cell_type": "code",
   "execution_count": 301,
   "id": "9f07fe9e-50bd-4d28-b86b-157ca931ff6d",
   "metadata": {},
   "outputs": [],
   "source": [
    "dv, model = vectorize_and_train(df_train, y_train)\n",
    "\n",
    "X_val = dv.transform(df_val.to_dict(orient='records'))\n",
    "y_pred = model.predict_proba(X_val)[:, 1]"
   ]
  },
  {
   "cell_type": "code",
   "execution_count": 302,
   "id": "a8619ba7-47a6-47b8-a3a9-a3020501822d",
   "metadata": {},
   "outputs": [
    {
     "name": "stdout",
     "output_type": "stream",
     "text": [
      "auc: 0.9796\n",
      "\n"
     ]
    },
    {
     "data": {
      "text/plain": [
       "<matplotlib.legend.Legend at 0x2ba9c0c50>"
      ]
     },
     "execution_count": 302,
     "metadata": {},
     "output_type": "execute_result"
    },
    {
     "data": {
      "image/png": "[encoded data removed]",
      "text/plain": [
       "<Figure size 500x500 with 1 Axes>"
      ]
     },
     "metadata": {},
     "output_type": "display_data"
    }
   ],
   "source": [
    "fpr, tpr, thresholds = roc_curve(y_val, y_pred)\n",
    "\n",
    "print(f\"auc: {auc(fpr, tpr).round(4)}\")\n",
    "print()\n",
    "\n",
    "plt.figure(figsize=(5, 5))\n",
    "\n",
    "plt.plot(fpr, tpr, label='Model')\n",
    "plt.plot([0, 1], [0, 1], label='Random', linestyle='--')\n",
    "\n",
    "plt.xlabel('FPR')\n",
    "plt.ylabel('TPR')\n",
    "\n",
    "plt.legend()"
   ]
  },
  {
   "cell_type": "markdown",
   "id": "b2a9232a-9caa-4a88-b03b-3b0b813699e2",
   "metadata": {},
   "source": [
    "### Question 3: Precision and Recall\n",
    "\n",
    "Now let's compute precision and recall for our model.\n",
    "\n",
    "* Evaluate the model on all thresholds from 0.0 to 1.0 with step 0.01\n",
    "* For each threshold, compute precision and recall\n",
    "* Plot them\n",
    "\n",
    "At which threshold precision and recall curves intersect?\n",
    "\n",
    "* 0.28\n",
    "* <mark>0.48</mark>\n",
    "* 0.68\n",
    "* 0.88"
   ]
  },
  {
   "cell_type": "code",
   "execution_count": 303,
   "id": "3178bfd2-d9f8-4992-ac30-1b0a29f7cfdb",
   "metadata": {},
   "outputs": [],
   "source": [
    "dv, model = vectorize_and_train(df_train, y_train)\n",
    "\n",
    "X_val = dv.transform(df_val.to_dict(orient='records'))\n",
    "y_pred = model.predict_proba(X_val)[:, 1]"
   ]
  },
  {
   "cell_type": "code",
   "execution_count": 304,
   "id": "319b43c3-a268-4655-912c-ad7d9ddf2d7a",
   "metadata": {},
   "outputs": [
    {
     "data": {
      "text/plain": [
       "<matplotlib.legend.Legend at 0x1749fc8d0>"
      ]
     },
     "execution_count": 304,
     "metadata": {},
     "output_type": "execute_result"
    },
    {
     "data": {
      "image/png": "[encoded data removed]",
      "text/plain": [
       "<Figure size 640x480 with 1 Axes>"
      ]
     },
     "metadata": {},
     "output_type": "display_data"
    }
   ],
   "source": [
    "scores = []\n",
    "thresholds = np.linspace(0, 1, 101)\n",
    "\n",
    "for t in thresholds:\n",
    "    tp, tn, fp, fn = calc_confusion_table_values(y_val, y_pred, t)\n",
    "    scores.append((t, tp, fp, fn, tn))\n",
    "\n",
    "columns = ['threshold', 'tp', 'fp', 'fn', 'tn']\n",
    "df_scores = pd.DataFrame(scores, columns=columns)\n",
    "\n",
    "df_scores['p'] = df_scores.tp / (df_scores.tp + df_scores.fp)\n",
    "df_scores['r'] = df_scores.tp / (df_scores.tp + df_scores.fn)\n",
    "\n",
    "plt.plot(df_scores.threshold, df_scores['p'], label='Precision')\n",
    "plt.plot(df_scores.threshold, df_scores['r'], label='Recall')\n",
    "plt.legend()"
   ]
  },
  {
   "cell_type": "markdown",
   "id": "2726e262-d5bb-409c-b3e9-fd29a5b5b501",
   "metadata": {},
   "source": [
    "### Question 4: F1 score\n",
    "\n",
    "Precision and recall are conflicting - when one grows, the other goes down. That's why they are often combined into the F1 score - a metrics that takes into account both\n",
    "\n",
    "This is the formula for computing F1:\n",
    "\n",
    "$$F_1 = 2 \\cdot \\cfrac{P \\cdot R}{P + R}$$\n",
    "\n",
    "Where $P$ is precision and $R$ is recall.\n",
    "\n",
    "Let's compute F1 for all thresholds from 0.0 to 1.0 with increment 0.01\n",
    "\n",
    "At which threshold F1 is maximal?\n",
    "\n",
    "- 0.12\n",
    "- 0.32\n",
    "- <mark>0.52</mark>\n",
    "- 0.72\n"
   ]
  },
  {
   "cell_type": "code",
   "execution_count": 305,
   "id": "4cca641b-cabe-4197-b1e6-cbcb123b13b6",
   "metadata": {},
   "outputs": [],
   "source": [
    "dv, model = vectorize_and_train(df_train, y_train)\n",
    "\n",
    "X_val = dv.transform(df_val.to_dict(orient='records'))\n",
    "y_pred = model.predict_proba(X_val)[:, 1]"
   ]
  },
  {
   "cell_type": "code",
   "execution_count": 306,
   "id": "5d276ffd-e210-42da-a652-7ee8f6f3a16d",
   "metadata": {},
   "outputs": [
    {
     "data": {
      "text/plain": [
       "<matplotlib.legend.Legend at 0x285995190>"
      ]
     },
     "execution_count": 306,
     "metadata": {},
     "output_type": "execute_result"
    },
    {
     "data": {
      "image/png": "[encoded data removed]",
      "text/plain": [
       "<Figure size 640x480 with 1 Axes>"
      ]
     },
     "metadata": {},
     "output_type": "display_data"
    }
   ],
   "source": [
    "scores = []\n",
    "thresholds = np.linspace(0, 1, 101)\n",
    "\n",
    "f1_max = 0\n",
    "f1_threshold = 0\n",
    "\n",
    "for t in thresholds:\n",
    "    tp, tn, fp, fn = calc_confusion_table_values(y_val, y_pred, t)\n",
    "    scores.append((t, tp, fp, fn, tn))\n",
    "\n",
    "columns = ['threshold', 'tp', 'fp', 'fn', 'tn']\n",
    "df_scores = pd.DataFrame(scores, columns=columns)\n",
    "\n",
    "df_scores['p'] = df_scores.tp / (df_scores.tp + df_scores.fp)\n",
    "df_scores['r'] = df_scores.tp / (df_scores.tp + df_scores.fn)\n",
    "df_scores['f1'] = 2 * (df_scores.p * df_scores.r / (df_scores.p + df_scores.r))\n",
    "\n",
    "plt.plot(df_scores.threshold, df_scores['p'], label='Precision')\n",
    "plt.plot(df_scores.threshold, df_scores['r'], label='Recall')\n",
    "plt.plot(df_scores.threshold, df_scores['f1'], label='F1')\n",
    "plt.legend()"
   ]
  },
  {
   "cell_type": "code",
   "execution_count": 307,
   "id": "6e8a003b-4d01-4844-9bad-bdc805fd2895",
   "metadata": {},
   "outputs": [],
   "source": [
    "selected_thresholds = [0.12, 0.32, 0.52, 0.72]"
   ]
  },
  {
   "cell_type": "code",
   "execution_count": 308,
   "id": "f841d524-c3ef-4393-b78d-87e4a78407a6",
   "metadata": {},
   "outputs": [
    {
     "data": {
      "text/html": [
       "<div>\n",
       "<style scoped>\n",
       "    .dataframe tbody tr th:only-of-type {\n",
       "        vertical-align: middle;\n",
       "    }\n",
       "\n",
       "    .dataframe tbody tr th {\n",
       "        vertical-align: top;\n",
       "    }\n",
       "\n",
       "    .dataframe thead th {\n",
       "        text-align: right;\n",
       "    }\n",
       "</style>\n",
       "<table border=\"1\" class=\"dataframe\">\n",
       "  <thead>\n",
       "    <tr style=\"text-align: right;\">\n",
       "      <th></th>\n",
       "      <th>threshold</th>\n",
       "      <th>tp</th>\n",
       "      <th>fp</th>\n",
       "      <th>fn</th>\n",
       "      <th>tn</th>\n",
       "      <th>p</th>\n",
       "      <th>r</th>\n",
       "      <th>f1</th>\n",
       "    </tr>\n",
       "  </thead>\n",
       "  <tbody>\n",
       "    <tr>\n",
       "      <th>12</th>\n",
       "      <td>0.12</td>\n",
       "      <td>640</td>\n",
       "      <td>289</td>\n",
       "      <td>14</td>\n",
       "      <td>1440</td>\n",
       "      <td>0.688913</td>\n",
       "      <td>0.978593</td>\n",
       "      <td>0.808591</td>\n",
       "    </tr>\n",
       "    <tr>\n",
       "      <th>32</th>\n",
       "      <td>0.32</td>\n",
       "      <td>603</td>\n",
       "      <td>126</td>\n",
       "      <td>51</td>\n",
       "      <td>1603</td>\n",
       "      <td>0.827160</td>\n",
       "      <td>0.922018</td>\n",
       "      <td>0.872017</td>\n",
       "    </tr>\n",
       "    <tr>\n",
       "      <th>52</th>\n",
       "      <td>0.52</td>\n",
       "      <td>565</td>\n",
       "      <td>61</td>\n",
       "      <td>89</td>\n",
       "      <td>1668</td>\n",
       "      <td>0.902556</td>\n",
       "      <td>0.863914</td>\n",
       "      <td>0.882812</td>\n",
       "    </tr>\n",
       "    <tr>\n",
       "      <th>72</th>\n",
       "      <td>0.72</td>\n",
       "      <td>499</td>\n",
       "      <td>26</td>\n",
       "      <td>155</td>\n",
       "      <td>1703</td>\n",
       "      <td>0.950476</td>\n",
       "      <td>0.762997</td>\n",
       "      <td>0.846480</td>\n",
       "    </tr>\n",
       "  </tbody>\n",
       "</table>\n",
       "</div>"
      ],
      "text/plain": [
       "    threshold   tp   fp   fn    tn         p         r        f1\n",
       "12       0.12  640  289   14  1440  0.688913  0.978593  0.808591\n",
       "32       0.32  603  126   51  1603  0.827160  0.922018  0.872017\n",
       "52       0.52  565   61   89  1668  0.902556  0.863914  0.882812\n",
       "72       0.72  499   26  155  1703  0.950476  0.762997  0.846480"
      ]
     },
     "execution_count": 308,
     "metadata": {},
     "output_type": "execute_result"
    }
   ],
   "source": [
    "df_scores[df_scores['threshold'].isin(selected_thresholds)]"
   ]
  },
  {
   "cell_type": "code",
   "execution_count": 309,
   "id": "8bdc42ed-f4be-401e-9fc7-4fbcd897d185",
   "metadata": {},
   "outputs": [
    {
     "data": {
      "text/plain": [
       "threshold       0.520000\n",
       "tp            565.000000\n",
       "fp             61.000000\n",
       "fn             89.000000\n",
       "tn           1668.000000\n",
       "p               0.902556\n",
       "r               0.863914\n",
       "f1              0.882812\n",
       "Name: 52, dtype: float64"
      ]
     },
     "execution_count": 309,
     "metadata": {},
     "output_type": "execute_result"
    }
   ],
   "source": [
    "idx = df_scores[df_scores['threshold'].isin(selected_thresholds)]['f1'].idxmax()\n",
    "row = df_scores.iloc[idx]\n",
    "row"
   ]
  },
  {
   "cell_type": "code",
   "execution_count": 310,
   "id": "38aef76b-f642-4e0a-94b4-19246a45915e",
   "metadata": {},
   "outputs": [
    {
     "data": {
      "text/plain": [
       "threshold       0.490000\n",
       "tp            574.000000\n",
       "fp             70.000000\n",
       "fn             80.000000\n",
       "tn           1659.000000\n",
       "p               0.891304\n",
       "r               0.877676\n",
       "f1              0.884438\n",
       "Name: 49, dtype: float64"
      ]
     },
     "execution_count": 310,
     "metadata": {},
     "output_type": "execute_result"
    }
   ],
   "source": [
    "idx = df_scores['f1'].idxmax()\n",
    "row = df_scores.iloc[idx]\n",
    "row"
   ]
  },
  {
   "cell_type": "markdown",
   "id": "374310b1-3e16-4260-ae84-b50d4d9a170e",
   "metadata": {},
   "source": [
    "### Question 5: 5-Fold CV\n",
    "\n",
    "\n",
    "Use the `KFold` class from Scikit-Learn to evaluate our model on 5 different folds:\n",
    "\n",
    "```\n",
    "KFold(n_splits=5, shuffle=True, random_state=1)\n",
    "```\n",
    "\n",
    "* Iterate over different folds of `df_full_train`\n",
    "* Split the data into train and validation\n",
    "* Train the model on train with these parameters: `LogisticRegression(solver='liblinear', C=1.0, max_iter=1000)`\n",
    "* Use AUC to evaluate the model on validation\n",
    "\n",
    "How large is standard devidation of the scores across different folds?\n",
    "\n",
    "- <mark>0.003</mark>\n",
    "- 0.030\n",
    "- 0.090\n",
    "- 0.140"
   ]
  },
  {
   "cell_type": "code",
   "execution_count": 269,
   "id": "ff4ad3d6-e901-4e00-857b-a3d9b0bf88a7",
   "metadata": {},
   "outputs": [
    {
     "name": "stdout",
     "output_type": "stream",
     "text": [
      "auc: 0.97768, mean: 0.97880, std: 0.002\n"
     ]
    }
   ],
   "source": [
    "n_splits = 5\n",
    "scores = []\n",
    "\n",
    "kfold = KFold(n_splits=n_splits, shuffle=True, random_state=1)\n",
    "\n",
    "for train_idx, val_idx in kfold.split(df_full_train):\n",
    "    df_train = df_full_train.iloc[train_idx]\n",
    "    df_val = df_full_train.iloc[val_idx]\n",
    "\n",
    "    y_train = df_train.above_average.values\n",
    "    y_val = df_val.above_average.values\n",
    "\n",
    "    for col in ['msrp', 'above_average']:\n",
    "        del df_train[col]\n",
    "        del df_val[col]\n",
    "\n",
    "    dv, model = vectorize_and_train(df_train, y_train)\n",
    "    X_val = dv.transform(df_val.to_dict(orient='records'))\n",
    "    y_pred = model.predict_proba(X_val)[:, 1]            \n",
    "\n",
    "    auc = roc_auc_score(y_val, y_pred)\n",
    "    scores.append(auc)\n",
    "\n",
    "print('auc: %.5f, mean: %.5f, std: %.3f' % (auc, np.mean(scores), np.std(scores)))"
   ]
  },
  {
   "cell_type": "markdown",
   "id": "0f5ba3f6-847d-45dd-8872-d83186bd8c86",
   "metadata": {},
   "source": [
    "### Question 6: Hyperparemeter Tuning\n",
    "\n",
    "Now let's use 5-Fold cross-validation to find the best parameter `C`\n",
    "\n",
    "* Iterate over the following `C` values: `[0.01, 0.1, 0.5, 10]`\n",
    "* Initialize `KFold` with the same parameters as previously\n",
    "* Use these parametes for the model: `LogisticRegression(solver='liblinear', C=C, max_iter=1000)`\n",
    "* Compute the mean score as well as the std (round the mean and std to 3 decimal digits)\n",
    "\n",
    "Which `C` leads to the best mean score?\n",
    "\n",
    "- 0.01\n",
    "- 0.1\n",
    "- 0.5\n",
    "- <mark>10</mark>\n",
    "\n",
    "If you have ties, select the score with the lowest std. If you still have ties, select the smallest `C`."
   ]
  },
  {
   "cell_type": "code",
   "execution_count": 284,
   "id": "e484378d-9d5e-4430-be2e-8d5e92bc0896",
   "metadata": {},
   "outputs": [
    {
     "name": "stderr",
     "output_type": "stream",
     "text": [
      " 25%|█████████████████████████████                                                                                       | 1/4 [00:00<00:01,  1.70it/s]"
     ]
    },
    {
     "name": "stdout",
     "output_type": "stream",
     "text": [
      "C: 0.01, auc: 0.95024, mean: 0.952, std: 0.002\n"
     ]
    },
    {
     "name": "stderr",
     "output_type": "stream",
     "text": [
      " 50%|██████████████████████████████████████████████████████████                                                          | 2/4 [00:01<00:01,  1.61it/s]"
     ]
    },
    {
     "name": "stdout",
     "output_type": "stream",
     "text": [
      "C: 0.10, auc: 0.97338, mean: 0.972, std: 0.002\n"
     ]
    },
    {
     "name": "stderr",
     "output_type": "stream",
     "text": [
      " 75%|███████████████████████████████████████████████████████████████████████████████████████                             | 3/4 [00:01<00:00,  1.61it/s]"
     ]
    },
    {
     "name": "stdout",
     "output_type": "stream",
     "text": [
      "C: 0.50, auc: 0.98400, mean: 0.980, std: 0.003\n"
     ]
    },
    {
     "name": "stderr",
     "output_type": "stream",
     "text": [
      "100%|████████████████████████████████████████████████████████████████████████████████████████████████████████████████████| 4/4 [00:02<00:00,  1.58it/s]"
     ]
    },
    {
     "name": "stdout",
     "output_type": "stream",
     "text": [
      "C: 10.00, auc: 0.97748, mean: 0.981, std: 0.002\n"
     ]
    },
    {
     "name": "stderr",
     "output_type": "stream",
     "text": [
      "\n"
     ]
    }
   ],
   "source": [
    "n_splits = 5\n",
    "\n",
    "for C in tqdm([0.01, 0.1, 0.5, 10]):\n",
    "    kfold = KFold(n_splits=n_splits, shuffle=True, random_state=1)\n",
    "    scores = []\n",
    "    \n",
    "    for train_idx, val_idx in kfold.split(df_full_train):\n",
    "        df_train = df_full_train.iloc[train_idx]\n",
    "        df_val = df_full_train.iloc[val_idx]\n",
    "    \n",
    "        y_train = df_train.above_average.values\n",
    "        y_val = df_val.above_average.values\n",
    "    \n",
    "        for col in ['msrp', 'above_average']:\n",
    "            del df_train[col]\n",
    "            del df_val[col]\n",
    "    \n",
    "        dv, model = vectorize_and_train(df_train, y_train, C)\n",
    "        X_val = dv.transform(df_val.to_dict(orient='records'))\n",
    "        y_pred = model.predict_proba(X_val)[:, 1]            \n",
    "    \n",
    "        auc = roc_auc_score(y_val, y_pred)\n",
    "        scores.append(auc)\n",
    "\n",
    "    print('C: %.2f, auc: %.5f, mean: %.3f, std: %.3f' % (C, auc, np.mean(scores).round(3), np.std(scores).round(3)))"
   ]
  },
  {
   "cell_type": "code",
   "execution_count": null,
   "id": "df72ac18-b617-433a-bf1b-55cd25fe0bc3",
   "metadata": {},
   "outputs": [],
   "source": []
  }
 ],
 "metadata": {
  "kernelspec": {
   "display_name": "Python 3 (ipykernel)",
   "language": "python",
   "name": "python3"
  },
  "language_info": {
   "codemirror_mode": {
    "name": "ipython",
    "version": 3
   },
   "file_extension": ".py",
   "mimetype": "text/x-python",
   "name": "python",
   "nbconvert_exporter": "python",
   "pygments_lexer": "ipython3",
   "version": "3.11.1"
  }
 },
 "nbformat": 4,
 "nbformat_minor": 5
}
